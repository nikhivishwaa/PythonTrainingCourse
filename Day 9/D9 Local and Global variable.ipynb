{
 "cells": [
  {
   "cell_type": "markdown",
   "id": "60d1ee21",
   "metadata": {},
   "source": [
    "# Local & Global Variable "
   ]
  },
  {
   "cell_type": "code",
   "execution_count": 1,
   "id": "f479a7ed",
   "metadata": {},
   "outputs": [
    {
     "name": "stdout",
     "output_type": "stream",
     "text": [
      "Function 1: 100\n",
      "Function 2: 100\n",
      "Function 3: 100\n"
     ]
    }
   ],
   "source": [
    "# global\n",
    "a=100\n",
    "def f1():\n",
    "    print(\"Function 1:\",a)\n",
    "def f2():\n",
    "    print(\"Function 2:\",a)\n",
    "def f3():\n",
    "    print(\"Function 3:\",a)\n",
    "    \n",
    "f1()\n",
    "f2()    \n",
    "f3()"
   ]
  },
  {
   "cell_type": "code",
   "execution_count": 4,
   "id": "7b38daae",
   "metadata": {},
   "outputs": [
    {
     "name": "stdout",
     "output_type": "stream",
     "text": [
      "Function 1: 100\n",
      "Function 2: 666\n",
      "Function 3: 555\n"
     ]
    }
   ],
   "source": [
    "# Local\n",
    "a=100\n",
    "def f1():\n",
    "    print(\"Function 1:\",a)\n",
    "def f2():\n",
    "    a=666\n",
    "    print(\"Function 2:\",a)\n",
    "def f3():\n",
    "    a=555\n",
    "    print(\"Function 3:\",a)\n",
    "    \n",
    "f1()\n",
    "f2()    \n",
    "f3()"
   ]
  },
  {
   "cell_type": "code",
   "execution_count": 1,
   "id": "e39d5ba5",
   "metadata": {},
   "outputs": [
    {
     "name": "stdout",
     "output_type": "stream",
     "text": [
      "Function 2: 768\n"
     ]
    },
    {
     "ename": "NameError",
     "evalue": "name 'a' is not defined",
     "output_type": "error",
     "traceback": [
      "\u001b[1;31m---------------------------------------------------------------------------\u001b[0m",
      "\u001b[1;31mNameError\u001b[0m                                 Traceback (most recent call last)",
      "Cell \u001b[1;32mIn[1], line 8\u001b[0m\n\u001b[0;32m      5\u001b[0m     \u001b[38;5;28mprint\u001b[39m(\u001b[38;5;124m\"\u001b[39m\u001b[38;5;124mFunction 3:\u001b[39m\u001b[38;5;124m\"\u001b[39m,a)\n\u001b[0;32m      7\u001b[0m f2()    \n\u001b[1;32m----> 8\u001b[0m \u001b[43mf3\u001b[49m\u001b[43m(\u001b[49m\u001b[43m)\u001b[49m\n",
      "Cell \u001b[1;32mIn[1], line 5\u001b[0m, in \u001b[0;36mf3\u001b[1;34m()\u001b[0m\n\u001b[0;32m      4\u001b[0m \u001b[38;5;28;01mdef\u001b[39;00m \u001b[38;5;21mf3\u001b[39m():\n\u001b[1;32m----> 5\u001b[0m     \u001b[38;5;28mprint\u001b[39m(\u001b[38;5;124m\"\u001b[39m\u001b[38;5;124mFunction 3:\u001b[39m\u001b[38;5;124m\"\u001b[39m,\u001b[43ma\u001b[49m)\n",
      "\u001b[1;31mNameError\u001b[0m: name 'a' is not defined"
     ]
    }
   ],
   "source": [
    "\n",
    "def f2():\n",
    "    a=768\n",
    "    print(\"Function 2:\",a)\n",
    "def f3():\n",
    "    print(\"Function 3:\",a)\n",
    "    \n",
    "f2()    \n",
    "f3()"
   ]
  },
  {
   "cell_type": "code",
   "execution_count": 2,
   "id": "6ac96ac0",
   "metadata": {},
   "outputs": [
    {
     "name": "stdout",
     "output_type": "stream",
     "text": [
      "Function 2: 768\n",
      "Function 3: 99\n"
     ]
    }
   ],
   "source": [
    "a=99  # global variable\n",
    "def f2():\n",
    "    a=768   # f() call is gives the priority to local variable\n",
    "    print(\"Function 2:\",a)\n",
    "def f3():\n",
    "    print(\"Function 3:\",a)\n",
    "    \n",
    "f2()    \n",
    "f3()"
   ]
  },
  {
   "cell_type": "code",
   "execution_count": 4,
   "id": "cf833b02",
   "metadata": {},
   "outputs": [
    {
     "name": "stdout",
     "output_type": "stream",
     "text": [
      "Function 2: 768\n",
      "Function 3: 200\n"
     ]
    }
   ],
   "source": [
    "a=99  # global variable\n",
    "def f2():\n",
    "    a=768   \n",
    "    print(\"Function 2:\",a)\n",
    "def f3():\n",
    "    print(\"Function 3:\",a)\n",
    "    \n",
    "a=200  # updating global variable --> gglobally\n",
    "    \n",
    "f2()    \n",
    "f3()"
   ]
  },
  {
   "cell_type": "code",
   "execution_count": 5,
   "id": "ebc6081d",
   "metadata": {},
   "outputs": [],
   "source": [
    "# Global - Local variable concept works when the both variable has same identifier"
   ]
  },
  {
   "cell_type": "code",
   "execution_count": 2,
   "id": "9de7dfdf",
   "metadata": {},
   "outputs": [
    {
     "name": "stdout",
     "output_type": "stream",
     "text": [
      "Function 2: 768\n",
      "Function 3: 200\n"
     ]
    }
   ],
   "source": [
    "def f2():\n",
    "    a=768   # f() call is gives the priority to local variable\n",
    "    print(\"Function 2:\",a)\n",
    "def f3():\n",
    "    print(\"Function 3:\",a)\n",
    "a=200    # global variable\n",
    "f2()    \n",
    "f3()"
   ]
  },
  {
   "cell_type": "code",
   "execution_count": 1,
   "id": "a76cb7ee",
   "metadata": {},
   "outputs": [
    {
     "name": "stdout",
     "output_type": "stream",
     "text": [
      "Function 1: 100\n",
      "Function 2: 987\n"
     ]
    },
    {
     "ename": "NameError",
     "evalue": "name 'a' is not defined",
     "output_type": "error",
     "traceback": [
      "\u001b[1;31m---------------------------------------------------------------------------\u001b[0m",
      "\u001b[1;31mNameError\u001b[0m                                 Traceback (most recent call last)",
      "Cell \u001b[1;32mIn[1], line 12\u001b[0m\n\u001b[0;32m     10\u001b[0m f1()\n\u001b[0;32m     11\u001b[0m f2()    \n\u001b[1;32m---> 12\u001b[0m \u001b[43mf3\u001b[49m\u001b[43m(\u001b[49m\u001b[43m)\u001b[49m\n",
      "Cell \u001b[1;32mIn[1], line 8\u001b[0m, in \u001b[0;36mf3\u001b[1;34m()\u001b[0m\n\u001b[0;32m      7\u001b[0m \u001b[38;5;28;01mdef\u001b[39;00m \u001b[38;5;21mf3\u001b[39m():\n\u001b[1;32m----> 8\u001b[0m     \u001b[38;5;28mprint\u001b[39m(\u001b[38;5;124m\"\u001b[39m\u001b[38;5;124mFunction 3:\u001b[39m\u001b[38;5;124m\"\u001b[39m,\u001b[43ma\u001b[49m)\n",
      "\u001b[1;31mNameError\u001b[0m: name 'a' is not defined"
     ]
    }
   ],
   "source": [
    "def f1():\n",
    "    a=100\n",
    "    print(\"Function 1:\",a)\n",
    "def f2():\n",
    "    a=987\n",
    "    print(\"Function 2:\",a)\n",
    "def f3():  \n",
    "    print(\"Function 3:\",a)\n",
    "    \n",
    "f1()\n",
    "f2()    \n",
    "f3()  # throws error"
   ]
  },
  {
   "cell_type": "code",
   "execution_count": 2,
   "id": "a519efff",
   "metadata": {},
   "outputs": [
    {
     "name": "stdout",
     "output_type": "stream",
     "text": [
      "Function 1: 100\n",
      "Function 2: 100\n",
      "Function 3: 100\n"
     ]
    }
   ],
   "source": [
    "# global variable inside f()\n",
    "def f1():\n",
    "    global a\n",
    "    a=100\n",
    "    print(\"Function 1:\",a)\n",
    "def f2():\n",
    "    print(\"Function 2:\",a)\n",
    "def f3():\n",
    "    print(\"Function 3:\",a)\n",
    "    \n",
    "f1()\n",
    "f2()    \n",
    "f3()"
   ]
  },
  {
   "cell_type": "code",
   "execution_count": 3,
   "id": "2510d2df",
   "metadata": {},
   "outputs": [
    {
     "name": "stdout",
     "output_type": "stream",
     "text": [
      "Function 1: 100\n",
      "Function 2: 125\n",
      "Function 3: 100\n"
     ]
    }
   ],
   "source": [
    "# global and local variable inside f()\n",
    "def f1():\n",
    "    global a\n",
    "    a=100\n",
    "    print(\"Function 1:\",a)\n",
    "def f2():\n",
    "    a=125\n",
    "    print(\"Function 2:\",a)\n",
    "def f3():\n",
    "    print(\"Function 3:\",a)\n",
    "    \n",
    "f1()\n",
    "f2()    \n",
    "f3()"
   ]
  },
  {
   "cell_type": "code",
   "execution_count": 5,
   "id": "89bbf2a2",
   "metadata": {},
   "outputs": [
    {
     "name": "stdout",
     "output_type": "stream",
     "text": [
      "Function 1: 100\n",
      "Function 2: 125\n",
      "Function 3 - Local: 659\n",
      "Function 3 - Global: 100\n"
     ]
    }
   ],
   "source": [
    "# Accesing global variable in presence of local variable inside f()\n",
    "def f1():\n",
    "    global a\n",
    "    a=100\n",
    "    print(\"Function 1:\",a)\n",
    "def f2():\n",
    "    a=125\n",
    "    print(\"Function 2:\",a)\n",
    "def f3():\n",
    "    a=659\n",
    "    print(\"Function 3 - Local:\",a)\n",
    "    print(\"Function 3 - Global:\",globals()[\"a\"])  # printing global variable\n",
    "    \n",
    "f1()\n",
    "f2()    \n",
    "f3()"
   ]
  },
  {
   "cell_type": "code",
   "execution_count": 7,
   "id": "205b5777",
   "metadata": {},
   "outputs": [
    {
     "name": "stdout",
     "output_type": "stream",
     "text": [
      "Function 1: 100\n",
      "Function 2: 125\n",
      "Function 3 - Local: 659\n",
      "Function 3 - Global: 100\n",
      "Function 3 - Global: 100\n",
      "Function 3 - Global: 414\n"
     ]
    }
   ],
   "source": [
    "# updating global variable inside f() in presence of local variable\n",
    "def f1():\n",
    "    global a\n",
    "    a=100\n",
    "    print(\"Function 1:\",a)\n",
    "def f2():\n",
    "    a=125\n",
    "    print(\"Function 2:\",a)\n",
    "def f3():\n",
    "    a=659\n",
    "    print(\"Function 3 - Local:\",a)\n",
    "    print(\"Function 3 - Global:\",globals()[\"a\"])\n",
    "    a=333\n",
    "    print(\"Function 3 - Global:\",globals()[\"a\"])\n",
    "    globals()[\"a\"]=414    \n",
    "    print(\"Function 3 - Global:\",globals()[\"a\"])\n",
    "    \n",
    "    \n",
    "f1()\n",
    "f2()    \n",
    "f3()"
   ]
  },
  {
   "cell_type": "code",
   "execution_count": 10,
   "id": "448c608e",
   "metadata": {},
   "outputs": [
    {
     "name": "stdout",
     "output_type": "stream",
     "text": [
      "Function 1: 100\n",
      "Function 3 - Local: 655\n",
      "Function 3 - Global: 414\n",
      "414\n"
     ]
    }
   ],
   "source": [
    "# updating global variable inside f() in presence of local variable\n",
    "def f1():\n",
    "    global a\n",
    "    a=100\n",
    "    print(\"Function 1:\",a)\n",
    "def f3():\n",
    "    a=655\n",
    "    globals()[\"a\"]=414    \n",
    "    print(\"Function 3 - Local:\",a)\n",
    "    print(\"Function 3 - Global:\",globals()[\"a\"])\n",
    "    \n",
    "    \n",
    "f1()    \n",
    "f3()\n",
    "print(a)"
   ]
  },
  {
   "cell_type": "code",
   "execution_count": 12,
   "id": "c6b59ca7",
   "metadata": {},
   "outputs": [
    {
     "name": "stdout",
     "output_type": "stream",
     "text": [
      "Function 3 - Local: 655\n",
      "Function 3 - Global: 414\n",
      "Function 1: 100\n",
      "100\n"
     ]
    }
   ],
   "source": [
    "# order of f() calling and chane in output\n",
    "def f1():\n",
    "    global a\n",
    "    a=100\n",
    "    print(\"Function 1:\",a)\n",
    "def f3():\n",
    "    a=655\n",
    "    globals()[\"a\"]=414    \n",
    "    print(\"Function 3 - Local:\",a)\n",
    "    print(\"Function 3 - Global:\",globals()[\"a\"])\n",
    "    \n",
    "    \n",
    "f3()    \n",
    "f1()\n",
    "print(a)"
   ]
  },
  {
   "cell_type": "markdown",
   "id": "e6e3794c",
   "metadata": {},
   "source": [
    "# Lambda / Anonymous Function"
   ]
  },
  {
   "cell_type": "code",
   "execution_count": 13,
   "id": "5e5a54fe",
   "metadata": {},
   "outputs": [
    {
     "name": "stdout",
     "output_type": "stream",
     "text": [
      "36\n"
     ]
    }
   ],
   "source": [
    "def square(n):\n",
    "    return n*n\n",
    "\n",
    "print(square(6))"
   ]
  },
  {
   "cell_type": "code",
   "execution_count": 14,
   "id": "4e3eb3ed",
   "metadata": {},
   "outputs": [
    {
     "data": {
      "text/plain": [
       "49"
      ]
     },
     "execution_count": 14,
     "metadata": {},
     "output_type": "execute_result"
    }
   ],
   "source": [
    "# (lambda_keyword parameter:operation)(calling)\n",
    "(lambda n:n*n)(7)"
   ]
  },
  {
   "cell_type": "code",
   "execution_count": 15,
   "id": "087eb431",
   "metadata": {},
   "outputs": [
    {
     "data": {
      "text/plain": [
       "10"
      ]
     },
     "execution_count": 15,
     "metadata": {},
     "output_type": "execute_result"
    }
   ],
   "source": [
    "(lambda a,b,c:(a+b+c)-(a-b-c))(1,2,3)"
   ]
  },
  {
   "cell_type": "code",
   "execution_count": 16,
   "id": "ce06b439",
   "metadata": {},
   "outputs": [
    {
     "data": {
      "text/plain": [
       "12"
      ]
     },
     "execution_count": 16,
     "metadata": {},
     "output_type": "execute_result"
    }
   ],
   "source": [
    "(lambda a,b:a if a>b else b)(10,12)"
   ]
  },
  {
   "cell_type": "code",
   "execution_count": 17,
   "id": "169a38e6",
   "metadata": {},
   "outputs": [
    {
     "data": {
      "text/plain": [
       "<function __main__.<lambda>(a, b)>"
      ]
     },
     "execution_count": 17,
     "metadata": {},
     "output_type": "execute_result"
    }
   ],
   "source": [
    "lambda a,b:a if a>b else b  # definition of lambda f()\n"
   ]
  },
  {
   "cell_type": "code",
   "execution_count": 18,
   "id": "4b265698",
   "metadata": {},
   "outputs": [
    {
     "name": "stdout",
     "output_type": "stream",
     "text": [
      "<function <lambda> at 0x0000022047F172E0>\n",
      "56\n"
     ]
    }
   ],
   "source": [
    "# storing lambda f() for calling\n",
    "a=lambda a,b:a if a>b else b  \n",
    "print(a)\n",
    "print(a(45,56))"
   ]
  },
  {
   "cell_type": "code",
   "execution_count": 21,
   "id": "7d4039e8",
   "metadata": {},
   "outputs": [
    {
     "name": "stdout",
     "output_type": "stream",
     "text": [
      "(4, 7, 2, 4, 6)\n",
      "(4, 7, 2, 4, 6)\n"
     ]
    }
   ],
   "source": [
    "# lambda f() for variable length argument\n",
    "x=lambda *arg:print(arg)\n",
    "x(4,7,2,4,6)\n",
    "(x)(4,7,2,4,6)"
   ]
  },
  {
   "cell_type": "code",
   "execution_count": 22,
   "id": "baa60da4",
   "metadata": {},
   "outputs": [
    {
     "name": "stdout",
     "output_type": "stream",
     "text": [
      "([1, 5, 4, 6, 2, 3, 6, 9, 8, 7],)\n",
      "(1, 5, 4, 6, 2, 3, 6, 9, 8, 7)\n"
     ]
    }
   ],
   "source": [
    "x=lambda *arg:print(arg)\n",
    "l=[1,5,4,6,2,3,6,9,8,7]\n",
    "x(l)  # passing complete list\n",
    "x(*l) # passing list elements"
   ]
  },
  {
   "cell_type": "markdown",
   "id": "ce585b60",
   "metadata": {},
   "source": [
    "# Programs of Lambda Function"
   ]
  },
  {
   "cell_type": "code",
   "execution_count": 30,
   "id": "118e7bae",
   "metadata": {},
   "outputs": [
    {
     "name": "stdout",
     "output_type": "stream",
     "text": [
      "[2, 4, 8, 6, 54, 46, 2, 6, 4]\n"
     ]
    }
   ],
   "source": [
    "# 1) Write a Lambda f() to print even no. in a given list\n",
    "even=(lambda *t:print([i for i in t if i%2==0]))\n",
    "l=[1,2,4,5,15,7,8,9,6,54,46,1,2,3,6,5,4]\n",
    "even(*l)"
   ]
  },
  {
   "cell_type": "code",
   "execution_count": 36,
   "id": "43555d29",
   "metadata": {},
   "outputs": [
    {
     "name": "stdout",
     "output_type": "stream",
     "text": [
      "Enter Radius of Circle: 7\n",
      "Area of Circle: 153.86\n"
     ]
    }
   ],
   "source": [
    "# 2) write a lambda expression to calculate area of a circle\n",
    "r=float(input(\"Enter Radius of Circle: \"))\n",
    "(lambda r,p=3.14:print(f\"Area of Circle: {p*r*r}\"))(r)"
   ]
  },
  {
   "cell_type": "code",
   "execution_count": 7,
   "id": "750af426",
   "metadata": {},
   "outputs": [
    {
     "name": "stdout",
     "output_type": "stream",
     "text": [
      "Enter 2  no. to find HCF by giving space: 36 27\n",
      "9\n"
     ]
    }
   ],
   "source": [
    "# 3) write a lambda f() to find HCF of two no.\n",
    "l=[int(i) for i in input(\"Enter 2  no. to find HCF by giving space: \").split()]\n",
    "hcf=(lambda *t:[i for i in range(min(t),0,-1) if t[0]%i==0 and t[1]%i==0])(*l)\n",
    "print(hcf[0])"
   ]
  },
  {
   "cell_type": "code",
   "execution_count": 33,
   "id": "dc79f4f2",
   "metadata": {},
   "outputs": [
    {
     "name": "stdout",
     "output_type": "stream",
     "text": [
      "Enter your text to count words: nikhil vishwakarma cse ai&ds third sem sistec gandhi nagar\n",
      "Your text has 9 words\n"
     ]
    }
   ],
   "source": [
    "# 4) write a lambda f() to count words in a given text\n",
    "cw=(lambda s:print(f\"Your text has {len(s.split())} words\"))\n",
    "txt=input(\"Enter your text to count words: \")\n",
    "cw(txt)"
   ]
  },
  {
   "cell_type": "code",
   "execution_count": null,
   "id": "bf5a7e58",
   "metadata": {},
   "outputs": [],
   "source": []
  }
 ],
 "metadata": {
  "kernelspec": {
   "display_name": "Python 3 (ipykernel)",
   "language": "python",
   "name": "python3"
  },
  "language_info": {
   "codemirror_mode": {
    "name": "ipython",
    "version": 3
   },
   "file_extension": ".py",
   "mimetype": "text/x-python",
   "name": "python",
   "nbconvert_exporter": "python",
   "pygments_lexer": "ipython3",
   "version": "3.11.3"
  }
 },
 "nbformat": 4,
 "nbformat_minor": 5
}
