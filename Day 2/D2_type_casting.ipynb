{
 "cells": [
  {
   "cell_type": "markdown",
   "id": "4c6cd480",
   "metadata": {},
   "source": [
    "# Type Casting"
   ]
  },
  {
   "cell_type": "code",
   "execution_count": 7,
   "id": "17aa4d40",
   "metadata": {},
   "outputs": [
    {
     "name": "stdout",
     "output_type": "stream",
     "text": [
      "6.9\n",
      "<class 'float'>\n",
      "6\n",
      "<class 'int'>\n"
     ]
    }
   ],
   "source": [
    "# type casting\n",
    "x=6.9\n",
    "print(x)\n",
    "print(type(x))\n",
    "print(int(x))  # it truncate(cut) the float value\n",
    "print(type(int(x)))\n"
   ]
  },
  {
   "cell_type": "code",
   "execution_count": 4,
   "id": "f5e7aa41",
   "metadata": {},
   "outputs": [
    {
     "name": "stdout",
     "output_type": "stream",
     "text": [
      "6\n",
      "<class 'int'>\n"
     ]
    }
   ],
   "source": [
    "y = int(x) # storing value as integer\n",
    "print(y)\n",
    "print(type(y))\n"
   ]
  },
  {
   "cell_type": "code",
   "execution_count": 8,
   "id": "6bb3d11f",
   "metadata": {},
   "outputs": [
    {
     "name": "stdout",
     "output_type": "stream",
     "text": [
      "6\n",
      "<class 'int'>\n",
      "6\n",
      "<class 'int'>\n"
     ]
    }
   ],
   "source": [
    "import math\n",
    "print(math.floor(x)) # it rounds down the float value\n",
    "print(type(math.floor(x)))\n",
    "print(int(x))\n",
    "print(type(int(x)))"
   ]
  },
  {
   "cell_type": "code",
   "execution_count": 12,
   "id": "2ea7a9c1",
   "metadata": {},
   "outputs": [
    {
     "name": "stdout",
     "output_type": "stream",
     "text": [
      "11\n",
      "<class 'int'>\n"
     ]
    }
   ],
   "source": [
    "s= \"11\"\n",
    "# print(math.floor(s))  # throws error\n",
    "# print(type(math.floor(s)))\n",
    "print(int(s))\n",
    "print(type(int(s)))"
   ]
  },
  {
   "cell_type": "code",
   "execution_count": 15,
   "id": "58e52d2e",
   "metadata": {},
   "outputs": [
    {
     "name": "stdout",
     "output_type": "stream",
     "text": [
      "-4\n",
      "<class 'int'>\n",
      "-3\n",
      "<class 'int'>\n"
     ]
    }
   ],
   "source": [
    "x = -3.4\n",
    "print(math.floor(x)) # it gives smaller value\n",
    "print(type(math.floor(x)))\n",
    "print(int(x))  # it discard float value\n",
    "print(type(int(x)))"
   ]
  },
  {
   "cell_type": "code",
   "execution_count": 14,
   "id": "febf9ec8",
   "metadata": {},
   "outputs": [
    {
     "name": "stdout",
     "output_type": "stream",
     "text": [
      "6\n",
      "<class 'int'>\n",
      "6\n",
      "<class 'int'>\n"
     ]
    }
   ],
   "source": [
    "x = 6\n",
    "print(math.floor(x))\n",
    "print(type(math.floor(x)))\n",
    "print(int(x))\n",
    "print(type(int(x)))"
   ]
  },
  {
   "cell_type": "code",
   "execution_count": 16,
   "id": "a8383566",
   "metadata": {},
   "outputs": [
    {
     "name": "stdout",
     "output_type": "stream",
     "text": [
      "15\n",
      "<class 'str'>\n",
      "15\n",
      "<class 'int'>\n"
     ]
    }
   ],
   "source": [
    "x=\"15\"  # covertable string to int\n",
    "print(x)\n",
    "print(type(x))\n",
    "print(int(x))\n",
    "print(type(int(x)))"
   ]
  },
  {
   "cell_type": "code",
   "execution_count": 18,
   "id": "33aa43f6",
   "metadata": {},
   "outputs": [
    {
     "name": "stdout",
     "output_type": "stream",
     "text": [
      "nikhil\n",
      "<class 'str'>\n"
     ]
    }
   ],
   "source": [
    "x=\"nikhil\"  # non-covertable string to int\n",
    "print(x)\n",
    "print(type(x))\n",
    "# print(int(x))  # throws error\n",
    "# print(type(int(x)))"
   ]
  },
  {
   "cell_type": "code",
   "execution_count": 19,
   "id": "3c5e1b1b",
   "metadata": {},
   "outputs": [
    {
     "name": "stdout",
     "output_type": "stream",
     "text": [
      "11.95\n",
      "<class 'str'>\n"
     ]
    },
    {
     "ename": "ValueError",
     "evalue": "invalid literal for int() with base 10: '11.95'",
     "output_type": "error",
     "traceback": [
      "\u001b[1;31m---------------------------------------------------------------------------\u001b[0m",
      "\u001b[1;31mValueError\u001b[0m                                Traceback (most recent call last)",
      "Cell \u001b[1;32mIn[19], line 4\u001b[0m\n\u001b[0;32m      2\u001b[0m \u001b[38;5;28mprint\u001b[39m(x)\n\u001b[0;32m      3\u001b[0m \u001b[38;5;28mprint\u001b[39m(\u001b[38;5;28mtype\u001b[39m(x))\n\u001b[1;32m----> 4\u001b[0m \u001b[38;5;28mprint\u001b[39m(\u001b[38;5;28;43mint\u001b[39;49m\u001b[43m(\u001b[49m\u001b[43mx\u001b[49m\u001b[43m)\u001b[49m)  \u001b[38;5;66;03m# throws error\u001b[39;00m\n\u001b[0;32m      5\u001b[0m \u001b[38;5;28mprint\u001b[39m(\u001b[38;5;28mtype\u001b[39m(\u001b[38;5;28mint\u001b[39m(x)))\n",
      "\u001b[1;31mValueError\u001b[0m: invalid literal for int() with base 10: '11.95'"
     ]
    }
   ],
   "source": [
    "x=\"11.95\"  # non-covertable string to int\n",
    "print(x)\n",
    "print(type(x))\n",
    "# print(int(x))  # throws error\n",
    "# print(type(int(x)))"
   ]
  },
  {
   "cell_type": "code",
   "execution_count": 20,
   "id": "9610c270",
   "metadata": {},
   "outputs": [
    {
     "name": "stdout",
     "output_type": "stream",
     "text": [
      "True\n",
      "<class 'bool'>\n",
      "1\n",
      "<class 'int'>\n"
     ]
    }
   ],
   "source": [
    "x=True  # bool to int\n",
    "print(x)\n",
    "print(type(x))\n",
    "print(int(x))  # convert True -> 1\n",
    "print(type(int(x)))"
   ]
  },
  {
   "cell_type": "code",
   "execution_count": 21,
   "id": "129e0064",
   "metadata": {},
   "outputs": [
    {
     "name": "stdout",
     "output_type": "stream",
     "text": [
      "False\n",
      "<class 'bool'>\n",
      "0\n",
      "<class 'int'>\n"
     ]
    }
   ],
   "source": [
    "x=False  # bool to int\n",
    "print(x)\n",
    "print(type(x))\n",
    "print(int(x))  # throws error\n",
    "print(type(int(x)))"
   ]
  },
  {
   "cell_type": "code",
   "execution_count": 23,
   "id": "76730c8b",
   "metadata": {},
   "outputs": [
    {
     "name": "stdout",
     "output_type": "stream",
     "text": [
      "(5+6j)\n",
      "<class 'complex'>\n"
     ]
    },
    {
     "ename": "TypeError",
     "evalue": "int() argument must be a string, a bytes-like object or a real number, not 'complex'",
     "output_type": "error",
     "traceback": [
      "\u001b[1;31m---------------------------------------------------------------------------\u001b[0m",
      "\u001b[1;31mTypeError\u001b[0m                                 Traceback (most recent call last)",
      "Cell \u001b[1;32mIn[23], line 4\u001b[0m\n\u001b[0;32m      2\u001b[0m \u001b[38;5;28mprint\u001b[39m(x)\n\u001b[0;32m      3\u001b[0m \u001b[38;5;28mprint\u001b[39m(\u001b[38;5;28mtype\u001b[39m(x))\n\u001b[1;32m----> 4\u001b[0m \u001b[38;5;28mprint\u001b[39m(\u001b[38;5;28;43mint\u001b[39;49m\u001b[43m(\u001b[49m\u001b[43mx\u001b[49m\u001b[43m)\u001b[49m)  \u001b[38;5;66;03m# throws error\u001b[39;00m\n\u001b[0;32m      5\u001b[0m \u001b[38;5;28mprint\u001b[39m(\u001b[38;5;28mtype\u001b[39m(\u001b[38;5;28mint\u001b[39m(x)))\n",
      "\u001b[1;31mTypeError\u001b[0m: int() argument must be a string, a bytes-like object or a real number, not 'complex'"
     ]
    }
   ],
   "source": [
    "x=5+6j  # complex to int\n",
    "print(x)\n",
    "print(type(x))\n",
    "print(int(x))  # throws error\n",
    "print(type(int(x)))"
   ]
  },
  {
   "cell_type": "code",
   "execution_count": 25,
   "id": "a0964009",
   "metadata": {},
   "outputs": [
    {
     "name": "stdout",
     "output_type": "stream",
     "text": [
      "56\n",
      "<class 'int'>\n",
      "56.0\n",
      "<class 'float'>\n"
     ]
    }
   ],
   "source": [
    "# type casting in float\n",
    "x=56  # int to float\n",
    "print(x)\n",
    "print(type(x))\n",
    "print(float(x))  \n",
    "print(type(float(x)))"
   ]
  },
  {
   "cell_type": "code",
   "execution_count": 27,
   "id": "fce73980",
   "metadata": {},
   "outputs": [
    {
     "name": "stdout",
     "output_type": "stream",
     "text": [
      "True\n",
      "<class 'bool'>\n",
      "1.0\n",
      "<class 'float'>\n"
     ]
    }
   ],
   "source": [
    "x=True  # bool to float\n",
    "print(x)\n",
    "print(type(x))\n",
    "print(float(x))  # it converts True -> 1.0\n",
    "print(type(float(x)))"
   ]
  },
  {
   "cell_type": "code",
   "execution_count": 28,
   "id": "702627e8",
   "metadata": {},
   "outputs": [
    {
     "name": "stdout",
     "output_type": "stream",
     "text": [
      "False\n",
      "<class 'bool'>\n",
      "0.0\n",
      "<class 'float'>\n"
     ]
    }
   ],
   "source": [
    "x=False  # bool to float\n",
    "print(x)\n",
    "print(type(x))\n",
    "print(float(x))  # it converts False -> 0.0\n",
    "print(type(float(x)))"
   ]
  },
  {
   "cell_type": "code",
   "execution_count": 29,
   "id": "97d3116c",
   "metadata": {},
   "outputs": [
    {
     "name": "stdout",
     "output_type": "stream",
     "text": [
      "11.8\n",
      "<class 'str'>\n",
      "11.8\n",
      "<class 'float'>\n"
     ]
    }
   ],
   "source": [
    "x=\"11.8\"  # appropriate string to float\n",
    "print(x)\n",
    "print(type(x))\n",
    "print(float(x))  \n",
    "print(type(float(x)))"
   ]
  },
  {
   "cell_type": "code",
   "execution_count": 31,
   "id": "dd5da3bf",
   "metadata": {},
   "outputs": [
    {
     "name": "stdout",
     "output_type": "stream",
     "text": [
      "nikhil\n",
      "<class 'str'>\n"
     ]
    },
    {
     "ename": "ValueError",
     "evalue": "could not convert string to float: 'nikhil'",
     "output_type": "error",
     "traceback": [
      "\u001b[1;31m---------------------------------------------------------------------------\u001b[0m",
      "\u001b[1;31mValueError\u001b[0m                                Traceback (most recent call last)",
      "Cell \u001b[1;32mIn[31], line 4\u001b[0m\n\u001b[0;32m      2\u001b[0m \u001b[38;5;28mprint\u001b[39m(x)\n\u001b[0;32m      3\u001b[0m \u001b[38;5;28mprint\u001b[39m(\u001b[38;5;28mtype\u001b[39m(x))\n\u001b[1;32m----> 4\u001b[0m \u001b[38;5;28mprint\u001b[39m(\u001b[38;5;28;43mfloat\u001b[39;49m\u001b[43m(\u001b[49m\u001b[43mx\u001b[49m\u001b[43m)\u001b[49m)  \u001b[38;5;66;03m# throws error\u001b[39;00m\n\u001b[0;32m      5\u001b[0m \u001b[38;5;28mprint\u001b[39m(\u001b[38;5;28mtype\u001b[39m(\u001b[38;5;28mfloat\u001b[39m(x)))\n",
      "\u001b[1;31mValueError\u001b[0m: could not convert string to float: 'nikhil'"
     ]
    }
   ],
   "source": [
    "x=\"nikhil\"  # inappropriate string to float\n",
    "print(x)\n",
    "print(type(x))\n",
    "print(float(x))  # throws error\n",
    "print(type(float(x)))"
   ]
  },
  {
   "cell_type": "code",
   "execution_count": 32,
   "id": "ec83a8c1",
   "metadata": {},
   "outputs": [
    {
     "name": "stdout",
     "output_type": "stream",
     "text": [
      "11\n",
      "<class 'str'>\n",
      "11.0\n",
      "<class 'float'>\n"
     ]
    }
   ],
   "source": [
    "x=\"11\"  # appropriate string to float\n",
    "print(x)\n",
    "print(type(x))\n",
    "print(float(x))  \n",
    "print(type(float(x)))"
   ]
  },
  {
   "cell_type": "code",
   "execution_count": 35,
   "id": "859a33fe",
   "metadata": {},
   "outputs": [
    {
     "name": "stdout",
     "output_type": "stream",
     "text": [
      "(11.6+2.9j)\n",
      "<class 'complex'>\n"
     ]
    },
    {
     "ename": "TypeError",
     "evalue": "float() argument must be a string or a real number, not 'complex'",
     "output_type": "error",
     "traceback": [
      "\u001b[1;31m---------------------------------------------------------------------------\u001b[0m",
      "\u001b[1;31mTypeError\u001b[0m                                 Traceback (most recent call last)",
      "Cell \u001b[1;32mIn[35], line 4\u001b[0m\n\u001b[0;32m      2\u001b[0m \u001b[38;5;28mprint\u001b[39m(x)\n\u001b[0;32m      3\u001b[0m \u001b[38;5;28mprint\u001b[39m(\u001b[38;5;28mtype\u001b[39m(x))\n\u001b[1;32m----> 4\u001b[0m \u001b[38;5;28mprint\u001b[39m(\u001b[38;5;28;43mfloat\u001b[39;49m\u001b[43m(\u001b[49m\u001b[43mx\u001b[49m\u001b[43m)\u001b[49m)  \u001b[38;5;66;03m# throws error\u001b[39;00m\n\u001b[0;32m      5\u001b[0m \u001b[38;5;28mprint\u001b[39m(\u001b[38;5;28mtype\u001b[39m(\u001b[38;5;28mfloat\u001b[39m(x)))\n",
      "\u001b[1;31mTypeError\u001b[0m: float() argument must be a string or a real number, not 'complex'"
     ]
    }
   ],
   "source": [
    "x=11.6+2.9j  # complex to float\n",
    "print(x)\n",
    "print(type(x))\n",
    "print(float(x))  # throws error\n",
    "print(type(float(x)))"
   ]
  },
  {
   "cell_type": "code",
   "execution_count": 36,
   "id": "b7d98cdf",
   "metadata": {},
   "outputs": [
    {
     "name": "stdout",
     "output_type": "stream",
     "text": [
      "7\n",
      "<class 'int'>\n",
      "(7+0j)\n",
      "<class 'complex'>\n"
     ]
    }
   ],
   "source": [
    "# type casting in complex\n",
    "\n",
    "x=7  # int to complex\n",
    "print(x)\n",
    "print(type(x))\n",
    "print(complex(x))\n",
    "print(type(complex(x)))"
   ]
  },
  {
   "cell_type": "code",
   "execution_count": 37,
   "id": "057d49eb",
   "metadata": {},
   "outputs": [
    {
     "name": "stdout",
     "output_type": "stream",
     "text": [
      "74.5\n",
      "<class 'float'>\n",
      "(74.5+0j)\n",
      "<class 'complex'>\n"
     ]
    }
   ],
   "source": [
    "x=74.5  # float to complex\n",
    "print(x)\n",
    "print(type(x))\n",
    "print(complex(x))\n",
    "print(type(complex(x)))"
   ]
  },
  {
   "cell_type": "code",
   "execution_count": 38,
   "id": "cd8ffeda",
   "metadata": {},
   "outputs": [
    {
     "name": "stdout",
     "output_type": "stream",
     "text": [
      "True\n",
      "<class 'bool'>\n",
      "(1+0j)\n",
      "<class 'complex'>\n"
     ]
    }
   ],
   "source": [
    "x=True  # bool to complex\n",
    "print(x)\n",
    "print(type(x))\n",
    "print(complex(x))\n",
    "print(type(complex(x)))"
   ]
  },
  {
   "cell_type": "code",
   "execution_count": 39,
   "id": "4e839746",
   "metadata": {},
   "outputs": [
    {
     "name": "stdout",
     "output_type": "stream",
     "text": [
      "False\n",
      "<class 'bool'>\n",
      "0j\n",
      "<class 'complex'>\n"
     ]
    }
   ],
   "source": [
    "x=False  # bool to complex\n",
    "print(x)\n",
    "print(type(x))\n",
    "print(complex(x))\n",
    "print(type(complex(x)))"
   ]
  },
  {
   "cell_type": "code",
   "execution_count": 40,
   "id": "a58f5f8f",
   "metadata": {},
   "outputs": [
    {
     "name": "stdout",
     "output_type": "stream",
     "text": [
      "54\n",
      "<class 'str'>\n",
      "(54+0j)\n",
      "<class 'complex'>\n"
     ]
    }
   ],
   "source": [
    "x=\"54\"  # approprite string to complex\n",
    "print(x)\n",
    "print(type(x))\n",
    "print(complex(x))\n",
    "print(type(complex(x)))"
   ]
  },
  {
   "cell_type": "code",
   "execution_count": 43,
   "id": "9f7141b1",
   "metadata": {},
   "outputs": [
    {
     "name": "stdout",
     "output_type": "stream",
     "text": [
      "54\n",
      "<class 'str'>\n",
      "(54+0j)\n",
      "<class 'complex'>\n",
      "54.0 0.0\n",
      "<class 'float'> <class 'float'>\n"
     ]
    }
   ],
   "source": [
    "x=\"54\"  # approprite string to complex\n",
    "print(x)\n",
    "print(type(x))\n",
    "y=complex(x)\n",
    "print(y)\n",
    "print(type(y))\n",
    "print(y.real,y.imag)\n",
    "print(type(y.real),type(y.imag))"
   ]
  },
  {
   "cell_type": "code",
   "execution_count": 41,
   "id": "fa63d73b",
   "metadata": {},
   "outputs": [
    {
     "name": "stdout",
     "output_type": "stream",
     "text": [
      "54.7\n",
      "<class 'str'>\n",
      "(54.7+0j)\n",
      "<class 'complex'>\n"
     ]
    }
   ],
   "source": [
    "x=\"54.7\"  # approprite string to complex\n",
    "print(x)\n",
    "print(type(x))\n",
    "print(complex(x))\n",
    "print(type(complex(x)))"
   ]
  },
  {
   "cell_type": "code",
   "execution_count": 44,
   "id": "9471b256",
   "metadata": {},
   "outputs": [
    {
     "name": "stdout",
     "output_type": "stream",
     "text": [
      "vasima\n",
      "<class 'str'>\n"
     ]
    },
    {
     "ename": "ValueError",
     "evalue": "complex() arg is a malformed string",
     "output_type": "error",
     "traceback": [
      "\u001b[1;31m---------------------------------------------------------------------------\u001b[0m",
      "\u001b[1;31mValueError\u001b[0m                                Traceback (most recent call last)",
      "Cell \u001b[1;32mIn[44], line 4\u001b[0m\n\u001b[0;32m      2\u001b[0m \u001b[38;5;28mprint\u001b[39m(x)\n\u001b[0;32m      3\u001b[0m \u001b[38;5;28mprint\u001b[39m(\u001b[38;5;28mtype\u001b[39m(x))\n\u001b[1;32m----> 4\u001b[0m \u001b[38;5;28mprint\u001b[39m(\u001b[38;5;28;43mcomplex\u001b[39;49m\u001b[43m(\u001b[49m\u001b[43mx\u001b[49m\u001b[43m)\u001b[49m)\n\u001b[0;32m      5\u001b[0m \u001b[38;5;28mprint\u001b[39m(\u001b[38;5;28mtype\u001b[39m(\u001b[38;5;28mcomplex\u001b[39m(x)))\n",
      "\u001b[1;31mValueError\u001b[0m: complex() arg is a malformed string"
     ]
    }
   ],
   "source": [
    "x=\"vasima\"  # inapproprite string to complex\n",
    "print(x)\n",
    "print(type(x))\n",
    "print(complex(x))\n",
    "print(type(complex(x)))"
   ]
  },
  {
   "cell_type": "code",
   "execution_count": 45,
   "id": "568716d1",
   "metadata": {},
   "outputs": [
    {
     "name": "stdout",
     "output_type": "stream",
     "text": [
      "1\n",
      "<class 'int'>\n",
      "True\n",
      "<class 'bool'>\n"
     ]
    }
   ],
   "source": [
    "# typr casting in bool\n",
    "x=1  # int to bool\n",
    "print(x)\n",
    "print(type(x))\n",
    "print(bool(x))\n",
    "print(type(bool(x)))"
   ]
  },
  {
   "cell_type": "code",
   "execution_count": 47,
   "id": "bf12e575",
   "metadata": {},
   "outputs": [
    {
     "name": "stdout",
     "output_type": "stream",
     "text": [
      "0\n",
      "<class 'int'>\n",
      "False\n",
      "<class 'bool'>\n"
     ]
    }
   ],
   "source": [
    "x=0  # int to bool\n",
    "print(x)\n",
    "print(type(x))\n",
    "print(bool(x))  # only for zero gives false in bool f()\n",
    "print(type(bool(x)))"
   ]
  },
  {
   "cell_type": "code",
   "execution_count": 48,
   "id": "b7bc6b25",
   "metadata": {},
   "outputs": [
    {
     "name": "stdout",
     "output_type": "stream",
     "text": [
      "562\n",
      "<class 'int'>\n",
      "True\n",
      "<class 'bool'>\n"
     ]
    }
   ],
   "source": [
    "x=562  # int to bool\n",
    "print(x)\n",
    "print(type(x))\n",
    "print(bool(x))\n",
    "print(type(bool(x)))"
   ]
  },
  {
   "cell_type": "code",
   "execution_count": 49,
   "id": "d04ad04b",
   "metadata": {},
   "outputs": [
    {
     "name": "stdout",
     "output_type": "stream",
     "text": [
      "-213\n",
      "<class 'int'>\n",
      "True\n",
      "<class 'bool'>\n"
     ]
    }
   ],
   "source": [
    "x=-213  # int to bool\n",
    "print(x)\n",
    "print(type(x))\n",
    "print(bool(x))\n",
    "print(type(bool(x)))"
   ]
  },
  {
   "cell_type": "code",
   "execution_count": 50,
   "id": "e9436ed3",
   "metadata": {},
   "outputs": [
    {
     "name": "stdout",
     "output_type": "stream",
     "text": [
      "25.36\n",
      "<class 'float'>\n",
      "True\n",
      "<class 'bool'>\n"
     ]
    }
   ],
   "source": [
    "x=25.36  # float to bool\n",
    "print(x)\n",
    "print(type(x))\n",
    "print(bool(x))\n",
    "print(type(bool(x)))"
   ]
  },
  {
   "cell_type": "code",
   "execution_count": 51,
   "id": "7ead4b3d",
   "metadata": {},
   "outputs": [
    {
     "name": "stdout",
     "output_type": "stream",
     "text": [
      "(25+56j)\n",
      "<class 'complex'>\n",
      "True\n",
      "<class 'bool'>\n"
     ]
    }
   ],
   "source": [
    "x=25+56j  # complex to bool\n",
    "print(x)\n",
    "print(type(x))\n",
    "print(bool(x))\n",
    "print(type(bool(x)))"
   ]
  },
  {
   "cell_type": "code",
   "execution_count": 52,
   "id": "f1127334",
   "metadata": {},
   "outputs": [
    {
     "name": "stdout",
     "output_type": "stream",
     "text": [
      "(25+0j)\n",
      "<class 'complex'>\n",
      "True\n",
      "<class 'bool'>\n"
     ]
    }
   ],
   "source": [
    "x=25+0j  # complex to bool\n",
    "print(x)\n",
    "print(type(x))\n",
    "print(bool(x))\n",
    "print(type(bool(x)))"
   ]
  },
  {
   "cell_type": "code",
   "execution_count": 53,
   "id": "e9483296",
   "metadata": {},
   "outputs": [
    {
     "name": "stdout",
     "output_type": "stream",
     "text": [
      "56j\n",
      "<class 'complex'>\n",
      "True\n",
      "<class 'bool'>\n"
     ]
    }
   ],
   "source": [
    "x=0+56j  # complex to bool\n",
    "print(x)\n",
    "print(type(x))\n",
    "print(bool(x))\n",
    "print(type(bool(x)))"
   ]
  },
  {
   "cell_type": "code",
   "execution_count": 54,
   "id": "88520c44",
   "metadata": {},
   "outputs": [
    {
     "name": "stdout",
     "output_type": "stream",
     "text": [
      "0j\n",
      "<class 'complex'>\n",
      "False\n",
      "<class 'bool'>\n"
     ]
    }
   ],
   "source": [
    "x=0+0j  # complex to bool\n",
    "print(x)\n",
    "print(type(x))\n",
    "print(bool(x))  # only 0+0j gives False\n",
    "print(type(bool(x)))"
   ]
  },
  {
   "cell_type": "code",
   "execution_count": 55,
   "id": "c21d4e95",
   "metadata": {},
   "outputs": [
    {
     "name": "stdout",
     "output_type": "stream",
     "text": [
      "oi\n",
      "<class 'str'>\n",
      "True\n",
      "<class 'bool'>\n"
     ]
    }
   ],
   "source": [
    "x=\"oi\"  # string to bool\n",
    "print(x)\n",
    "print(type(x))\n",
    "print(bool(x))\n",
    "print(type(bool(x)))"
   ]
  },
  {
   "cell_type": "code",
   "execution_count": 56,
   "id": "e5db2829",
   "metadata": {},
   "outputs": [
    {
     "name": "stdout",
     "output_type": "stream",
     "text": [
      "256\n",
      "<class 'str'>\n",
      "True\n",
      "<class 'bool'>\n"
     ]
    }
   ],
   "source": [
    "x=\"256\"  # string to bool\n",
    "print(x)\n",
    "print(type(x))\n",
    "print(bool(x))\n",
    "print(type(bool(x)))"
   ]
  },
  {
   "cell_type": "code",
   "execution_count": 57,
   "id": "a9d7d6b1",
   "metadata": {},
   "outputs": [
    {
     "name": "stdout",
     "output_type": "stream",
     "text": [
      "0\n",
      "<class 'str'>\n",
      "True\n",
      "<class 'bool'>\n"
     ]
    }
   ],
   "source": [
    "x=\"0\"  # string to bool\n",
    "print(x)\n",
    "print(type(x))\n",
    "print(bool(x))\n",
    "print(type(bool(x)))"
   ]
  },
  {
   "cell_type": "code",
   "execution_count": 58,
   "id": "ca77ca5e",
   "metadata": {},
   "outputs": [
    {
     "name": "stdout",
     "output_type": "stream",
     "text": [
      "1\n",
      "<class 'str'>\n",
      "True\n",
      "<class 'bool'>\n"
     ]
    }
   ],
   "source": [
    "x=\"1\"  # string to bool\n",
    "print(x)\n",
    "print(type(x))\n",
    "print(bool(x))\n",
    "print(type(bool(x)))"
   ]
  },
  {
   "cell_type": "code",
   "execution_count": 66,
   "id": "40653569",
   "metadata": {},
   "outputs": [
    {
     "name": "stdout",
     "output_type": "stream",
     "text": [
      "\n",
      "<class 'str'>\n",
      "False\n",
      "<class 'bool'>\n"
     ]
    }
   ],
   "source": [
    "x=\"\"  # string to bool\n",
    "print(x)\n",
    "print(type(x))\n",
    "print(bool(x))  # it returns False\n",
    "print(type(bool(x)))"
   ]
  },
  {
   "cell_type": "code",
   "execution_count": 60,
   "id": "ffc6863a",
   "metadata": {},
   "outputs": [
    {
     "name": "stdout",
     "output_type": "stream",
     "text": [
      "88\n",
      "<class 'int'>\n",
      "88\n",
      "<class 'str'>\n"
     ]
    }
   ],
   "source": [
    "# string type casting string\n",
    "\n",
    "x = 88  # int to string\n",
    "print(x)\n",
    "print(type(x))\n",
    "print(str(x))\n",
    "print(type(str(x)))"
   ]
  },
  {
   "cell_type": "code",
   "execution_count": 61,
   "id": "2d5915a4",
   "metadata": {},
   "outputs": [
    {
     "name": "stdout",
     "output_type": "stream",
     "text": [
      "88.26\n",
      "<class 'float'>\n",
      "88.26\n",
      "<class 'str'>\n"
     ]
    }
   ],
   "source": [
    "x = 88.26  # float to string\n",
    "print(x)\n",
    "print(type(x))\n",
    "print(str(x))\n",
    "print(type(str(x)))"
   ]
  },
  {
   "cell_type": "code",
   "execution_count": 62,
   "id": "8dca67a2",
   "metadata": {},
   "outputs": [
    {
     "name": "stdout",
     "output_type": "stream",
     "text": [
      "(88+6j)\n",
      "<class 'complex'>\n",
      "(88+6j)\n",
      "<class 'str'>\n"
     ]
    }
   ],
   "source": [
    "x = 88+6j  # complex to string\n",
    "print(x)\n",
    "print(type(x))\n",
    "print(str(x))\n",
    "print(type(str(x)))"
   ]
  },
  {
   "cell_type": "code",
   "execution_count": 63,
   "id": "896653e0",
   "metadata": {},
   "outputs": [
    {
     "name": "stdout",
     "output_type": "stream",
     "text": [
      "True\n",
      "<class 'bool'>\n",
      "True\n",
      "<class 'str'>\n"
     ]
    }
   ],
   "source": [
    "x = True  # bool to string\n",
    "print(x)\n",
    "print(type(x))\n",
    "print(str(x))\n",
    "print(type(str(x)))"
   ]
  },
  {
   "cell_type": "code",
   "execution_count": 64,
   "id": "c7dd9234",
   "metadata": {},
   "outputs": [
    {
     "name": "stdout",
     "output_type": "stream",
     "text": [
      "False\n",
      "<class 'bool'>\n",
      "False\n",
      "<class 'str'>\n"
     ]
    }
   ],
   "source": [
    "x = False  # bool to string\n",
    "print(x)\n",
    "print(type(x))\n",
    "print(str(x))\n",
    "print(type(str(x)))"
   ]
  },
  {
   "cell_type": "markdown",
   "id": "81d8eb50",
   "metadata": {},
   "source": [
    "# Programs on Type Casting"
   ]
  },
  {
   "cell_type": "code",
   "execution_count": 70,
   "id": "d27a7b92",
   "metadata": {},
   "outputs": [
    {
     "name": "stdout",
     "output_type": "stream",
     "text": [
      "3.141592653589793\n",
      "enter radius of a circle:5\n",
      "area of circle is: 78.53981633974483\n"
     ]
    }
   ],
   "source": [
    "# write a program to calculate Area of circle. Data should be taken from user but the value of \"pi\"taken by python itself\n",
    "\n",
    "import math\n",
    "# print(math.pi)\n",
    "r=float(input(\"enter radius of a circle:\"))\n",
    "area = math.pi*r**2\n",
    "print(\"area of circle is:\",area)"
   ]
  },
  {
   "cell_type": "code",
   "execution_count": 3,
   "id": "92ed5dbb",
   "metadata": {},
   "outputs": [
    {
     "name": "stdout",
     "output_type": "stream",
     "text": [
      "5.0\n",
      "enter length of side one:10\n",
      "enter length of side two:12\n",
      "enter length of side three:9\n",
      "area of triangle is: 44.039045175843675\n"
     ]
    }
   ],
   "source": [
    "# write a program to calculate the area of triangle, length of side should be given by user and square root f() taken by\n",
    "# python itself\n",
    "\n",
    "import math\n",
    "print(math.sqrt(25))\n",
    "\n",
    "a=float(input(\"enter length of side one:\"))\n",
    "b=float(input(\"enter length of side two:\"))\n",
    "c=float(input(\"enter length of side three:\"))\n",
    "\n",
    "s = (a+b+c)/2\n",
    "area =(s*(s-a)*(s-b)*(s-c))\n",
    "print(\"area of triangle is:\",math.sqrt(area))"
   ]
  },
  {
   "cell_type": "code",
   "execution_count": 2,
   "id": "6b02694d",
   "metadata": {},
   "outputs": [
    {
     "name": "stdout",
     "output_type": "stream",
     "text": [
      "Enter principle amount:10000\n",
      "Enter rate of interest:15\n",
      "enter time:2\n",
      "your SI is: 3000.0\n"
     ]
    }
   ],
   "source": [
    "# write a program to calculate SI, data should be taken from the user\n",
    "\n",
    "p=float(input(\"Enter principle amount:\"))\n",
    "r=float(input(\"Enter rate of interest:\"))\n",
    "t=int(input(\"enter time:\"))\n",
    "si=(p*r*t)/100\n",
    "print(\"your SI is:\",si)"
   ]
  },
  {
   "cell_type": "code",
   "execution_count": null,
   "id": "e62c0e12",
   "metadata": {},
   "outputs": [],
   "source": []
  }
 ],
 "metadata": {
  "kernelspec": {
   "display_name": "Python 3 (ipykernel)",
   "language": "python",
   "name": "python3"
  },
  "language_info": {
   "codemirror_mode": {
    "name": "ipython",
    "version": 3
   },
   "file_extension": ".py",
   "mimetype": "text/x-python",
   "name": "python",
   "nbconvert_exporter": "python",
   "pygments_lexer": "ipython3",
   "version": "3.11.3"
  }
 },
 "nbformat": 4,
 "nbformat_minor": 5
}
