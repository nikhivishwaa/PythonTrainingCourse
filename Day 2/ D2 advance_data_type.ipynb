{
 "cells": [
  {
   "cell_type": "markdown",
   "id": "c3d865b9",
   "metadata": {},
   "source": [
    "# Advance Data Types"
   ]
  },
  {
   "cell_type": "code",
   "execution_count": 5,
   "id": "54c6fcbd",
   "metadata": {},
   "outputs": [
    {
     "name": "stdout",
     "output_type": "stream",
     "text": [
      "[1, 3, 6, ['str', [10, 52, True], 'like', 25.6, False], None]\n",
      "<class 'list'>\n",
      "3\n",
      "3\n",
      "[10, 52, True]\n",
      "True\n"
     ]
    }
   ],
   "source": [
    "# list []\n",
    "\n",
    "x = [1,3,6,[\"str\",[10,52,True],\"like\",25.6,False],None]\n",
    "\n",
    "print(x)\n",
    "print(type(x))\n",
    "print(x[1])\n",
    "print(x[1])\n",
    "print(x[3][1])\n",
    "print(x[3][1][2])"
   ]
  },
  {
   "cell_type": "code",
   "execution_count": 27,
   "id": "50144851",
   "metadata": {},
   "outputs": [
    {
     "name": "stdout",
     "output_type": "stream",
     "text": [
      "[]\n",
      "2027985036672\n",
      "<class 'list'>\n"
     ]
    }
   ],
   "source": [
    "k =[]  # empty list\n",
    "print(k)\n",
    "print(id(k))\n",
    "print(type(k))"
   ]
  },
  {
   "cell_type": "code",
   "execution_count": 28,
   "id": "e1f0e559",
   "metadata": {},
   "outputs": [
    {
     "name": "stdout",
     "output_type": "stream",
     "text": [
      "([1, 2], 'string', 56.3)\n",
      "2027984362368\n",
      "<class 'tuple'>\n"
     ]
    }
   ],
   "source": [
    "k =[1,2],\"string\",56.3  # list\n",
    "print(k)\n",
    "print(id(k))\n",
    "print(type(k))"
   ]
  },
  {
   "cell_type": "code",
   "execution_count": 11,
   "id": "016c2ff2",
   "metadata": {},
   "outputs": [
    {
     "name": "stdout",
     "output_type": "stream",
     "text": [
      "[1, 4.6, True, 'hi']\n",
      "[1, 4.6, True, 'hi', 'good morning']\n",
      "[1, 4.6, True, 'hi', 'good morning', 'good morning']\n"
     ]
    }
   ],
   "source": [
    "x =[1,4.6,True,\"hi\"]\n",
    "print(x)\n",
    "x.append(\"good morning\")  # add elements in the end \n",
    "print(x)\n",
    "x.append(\"good morning\")\n",
    "print(x)"
   ]
  },
  {
   "cell_type": "code",
   "execution_count": 12,
   "id": "72947f7f",
   "metadata": {},
   "outputs": [
    {
     "name": "stdout",
     "output_type": "stream",
     "text": [
      "(1, 2, 3, 4)\n",
      "2027984268128\n",
      "<class 'tuple'>\n"
     ]
    }
   ],
   "source": [
    "# tupple ()\n",
    "t = (1,2,3,4)\n",
    "print(t)\n",
    "print(id(t))\n",
    "print(type(t))"
   ]
  },
  {
   "cell_type": "code",
   "execution_count": 13,
   "id": "a523a596",
   "metadata": {},
   "outputs": [
    {
     "name": "stdout",
     "output_type": "stream",
     "text": [
      "(1, 2, 'string', True)\n",
      "2027984267728\n",
      "<class 'tuple'>\n"
     ]
    }
   ],
   "source": [
    "t = (1,2,\"string\",True)\n",
    "print(t)\n",
    "print(id(t))\n",
    "print(type(t))"
   ]
  },
  {
   "cell_type": "code",
   "execution_count": 15,
   "id": "5da38cd3",
   "metadata": {},
   "outputs": [
    {
     "name": "stdout",
     "output_type": "stream",
     "text": [
      "(1, 2, 'string', True)\n"
     ]
    },
    {
     "ename": "AttributeError",
     "evalue": "'tuple' object has no attribute 'append'",
     "output_type": "error",
     "traceback": [
      "\u001b[1;31m---------------------------------------------------------------------------\u001b[0m",
      "\u001b[1;31mAttributeError\u001b[0m                            Traceback (most recent call last)",
      "Cell \u001b[1;32mIn[15], line 2\u001b[0m\n\u001b[0;32m      1\u001b[0m \u001b[38;5;28mprint\u001b[39m(t)\n\u001b[1;32m----> 2\u001b[0m \u001b[38;5;28mprint\u001b[39m(\u001b[43mt\u001b[49m\u001b[38;5;241;43m.\u001b[39;49m\u001b[43mappend\u001b[49m(\u001b[38;5;241m53\u001b[39m))  \u001b[38;5;66;03m# throws an error\u001b[39;00m\n",
      "\u001b[1;31mAttributeError\u001b[0m: 'tuple' object has no attribute 'append'"
     ]
    }
   ],
   "source": [
    "print(t)\n",
    "print(t.append(53))  # throws an error\n"
   ]
  },
  {
   "cell_type": "markdown",
   "id": "df4ea742",
   "metadata": {},
   "source": [
    "Tupple mein modification nhi kar skte -> immutable\n",
    "List mein modification kar skte h -> mutable\n"
   ]
  },
  {
   "cell_type": "code",
   "execution_count": 18,
   "id": "787d3a26",
   "metadata": {},
   "outputs": [
    {
     "name": "stdout",
     "output_type": "stream",
     "text": [
      "{1, 2, 3, 4, 5}\n",
      "2027978961888\n",
      "<class 'set'>\n"
     ]
    }
   ],
   "source": [
    "# set {}\n",
    "# set is un-ordered whereis -> List and Tupples are ordered\n",
    "\n",
    "s = {1,2,3,4,5}\n",
    "print(s)\n",
    "print(id(s))\n",
    "print(type(s))"
   ]
  },
  {
   "cell_type": "code",
   "execution_count": 20,
   "id": "33fad420",
   "metadata": {},
   "outputs": [
    {
     "name": "stdout",
     "output_type": "stream",
     "text": [
      "{1, 2, 3, 4, 5}\n",
      "2027978963456\n",
      "<class 'set'>\n"
     ]
    },
    {
     "ename": "TypeError",
     "evalue": "'set' object is not subscriptable",
     "output_type": "error",
     "traceback": [
      "\u001b[1;31m---------------------------------------------------------------------------\u001b[0m",
      "\u001b[1;31mTypeError\u001b[0m                                 Traceback (most recent call last)",
      "Cell \u001b[1;32mIn[20], line 6\u001b[0m\n\u001b[0;32m      4\u001b[0m \u001b[38;5;28mprint\u001b[39m(\u001b[38;5;28mtype\u001b[39m(p))\n\u001b[0;32m      5\u001b[0m \u001b[38;5;66;03m# access is not be able element wise\u001b[39;00m\n\u001b[1;32m----> 6\u001b[0m \u001b[38;5;28mprint\u001b[39m(\u001b[43mp\u001b[49m\u001b[43m[\u001b[49m\u001b[38;5;241;43m1\u001b[39;49m\u001b[43m]\u001b[49m)\n",
      "\u001b[1;31mTypeError\u001b[0m: 'set' object is not subscriptable"
     ]
    }
   ],
   "source": [
    "p = {1,2,3,4,5}\n",
    "print(p)\n",
    "print(id(p)) \n",
    "print(type(p))\n",
    "# access is not be able element wise\n",
    "print(p[1])"
   ]
  },
  {
   "cell_type": "code",
   "execution_count": 21,
   "id": "99d90417",
   "metadata": {},
   "outputs": [
    {
     "name": "stdout",
     "output_type": "stream",
     "text": [
      "{1, 2, 3, 4, 5, 8, 9}\n",
      "2027984929280\n",
      "<class 'set'>\n"
     ]
    }
   ],
   "source": [
    "p = {1,2,3,5,4,8,9,3,3}\n",
    "print(p)\n",
    "print(id(p)) \n",
    "print(type(p))"
   ]
  },
  {
   "cell_type": "code",
   "execution_count": 23,
   "id": "5f10bb65",
   "metadata": {},
   "outputs": [
    {
     "name": "stdout",
     "output_type": "stream",
     "text": [
      "{1, 2, 3, 4, 5, 'hello'}\n",
      "2027984931072\n",
      "<class 'set'>\n"
     ]
    }
   ],
   "source": [
    "p = {1,2,3,4,5,\"hello\"}\n",
    "print(p)\n",
    "print(id(p)) \n",
    "print(type(p))"
   ]
  },
  {
   "cell_type": "code",
   "execution_count": 26,
   "id": "2393acb1",
   "metadata": {},
   "outputs": [
    {
     "name": "stdout",
     "output_type": "stream",
     "text": [
      "{1, 2, 3, 4, 5, 'world', 'hello'}\n",
      "2027978963456\n",
      "<class 'set'>\n"
     ]
    }
   ],
   "source": [
    "# Set is mutable \n",
    "p = {1,2,3,4,5,\"hello\"}\n",
    "p.add(\"world\")  # to add elements in set\n",
    "print(p)\n",
    "print(id(p)) \n",
    "print(type(p))"
   ]
  },
  {
   "cell_type": "code",
   "execution_count": 30,
   "id": "8757a383",
   "metadata": {},
   "outputs": [
    {
     "name": "stdout",
     "output_type": "stream",
     "text": [
      "{1, 2, 3, 4, 5}\n",
      "<class 'set'>\n",
      "frozenset({1, 2, 3, 4, 5})\n",
      "<class 'frozenset'>\n"
     ]
    }
   ],
   "source": [
    "# frozenset is immutable (freezed set)\n",
    "s= {5,3,4,2,5,1}\n",
    "print(s)\n",
    "print(type(s))\n",
    "f = frozenset(s)  # after declaring frozenset we cannot update anything in set\n",
    "print(f)\n",
    "print(type(f))"
   ]
  },
  {
   "cell_type": "code",
   "execution_count": 31,
   "id": "3dd18005",
   "metadata": {},
   "outputs": [
    {
     "name": "stdout",
     "output_type": "stream",
     "text": [
      "{1: 'vasima', 2: 'swati', 3: 'ravi'}\n",
      "2027984973696\n",
      "<class 'dict'>\n"
     ]
    }
   ],
   "source": [
    "# Dictionary (key pair values)\n",
    "\n",
    "d = {1:\"vasima\",2:\"swati\",3:\"ravi\"}\n",
    "print(d)\n",
    "print(id(d))\n",
    "print(type(d))"
   ]
  },
  {
   "cell_type": "code",
   "execution_count": 32,
   "id": "d209c919",
   "metadata": {},
   "outputs": [
    {
     "name": "stdout",
     "output_type": "stream",
     "text": [
      "{'python': 'vasima', 'physics': 'swati', 'data': [1, 4, 6]}\n",
      "2027984201792\n",
      "<class 'dict'>\n"
     ]
    }
   ],
   "source": [
    "d = {\"python\":\"vasima\",\"physics\":\"swati\",\"data\":[1,4,6]}\n",
    "print(d)\n",
    "print(id(d))\n",
    "print(type(d))"
   ]
  },
  {
   "cell_type": "code",
   "execution_count": 33,
   "id": "f7c018c7",
   "metadata": {},
   "outputs": [
    {
     "data": {
      "text/plain": [
       "[1, 4, 6]"
      ]
     },
     "execution_count": 33,
     "metadata": {},
     "output_type": "execute_result"
    }
   ],
   "source": [
    "d[\"data\"]"
   ]
  },
  {
   "cell_type": "code",
   "execution_count": 35,
   "id": "964de673",
   "metadata": {},
   "outputs": [
    {
     "name": "stdout",
     "output_type": "stream",
     "text": [
      "{'python': 'vasima', 'physics': 'swati', 'data': [1, 'hello']}\n"
     ]
    }
   ],
   "source": [
    "d[\"data\"]=[1,\"hello\"]\n",
    "print(d)"
   ]
  },
  {
   "cell_type": "markdown",
   "id": "c26b5d37",
   "metadata": {},
   "source": [
    "only (list, set, dictionary) are mutable\n",
    "\n",
    "whenever int,float,string,complex,boolian,tuple,frozenset are immutable"
   ]
  },
  {
   "cell_type": "code",
   "execution_count": 38,
   "id": "c62198af",
   "metadata": {},
   "outputs": [
    {
     "name": "stdout",
     "output_type": "stream",
     "text": [
      "140724185240552\n",
      "140724185240552\n",
      "140724185243496\n"
     ]
    }
   ],
   "source": [
    "# immutability of integer\n",
    "x=7\n",
    "print(id(x))\n",
    "y=7\n",
    "print(id(y))\n",
    "x=99\n",
    "print(id(x))"
   ]
  },
  {
   "cell_type": "code",
   "execution_count": 39,
   "id": "1f6cca8e",
   "metadata": {},
   "outputs": [
    {
     "name": "stdout",
     "output_type": "stream",
     "text": [
      "[7, 5, 5.6]\n",
      "2027985001024\n",
      "[7, 5, 5.6, 88]\n",
      "2027985001024\n"
     ]
    }
   ],
   "source": [
    "# mutability of list\n",
    "l=[7,5,5.6]\n",
    "print(l)\n",
    "print(id(l))\n",
    "l.append(88)\n",
    "print(l)\n",
    "print(id(l))\n"
   ]
  },
  {
   "cell_type": "code",
   "execution_count": 40,
   "id": "9abdb3ca",
   "metadata": {},
   "outputs": [
    {
     "name": "stdout",
     "output_type": "stream",
     "text": [
      "None\n",
      "140724183853808\n",
      "<class 'NoneType'>\n"
     ]
    }
   ],
   "source": [
    "# None datatype\n",
    "x = None\n",
    "print(x)\n",
    "print(id(x))  \n",
    "print(type(x))  # it works like a holder, later on any of datatype will be store in it\n"
   ]
  },
  {
   "cell_type": "code",
   "execution_count": 43,
   "id": "a73073c9",
   "metadata": {},
   "outputs": [
    {
     "data": {
      "text/plain": [
       "'A'"
      ]
     },
     "execution_count": 43,
     "metadata": {},
     "output_type": "execute_result"
    }
   ],
   "source": [
    "# unicode\n",
    "chr(65)\n",
    "\n"
   ]
  },
  {
   "cell_type": "code",
   "execution_count": 45,
   "id": "2d8b8bbc",
   "metadata": {},
   "outputs": [
    {
     "data": {
      "text/plain": [
       "71"
      ]
     },
     "execution_count": 45,
     "metadata": {},
     "output_type": "execute_result"
    }
   ],
   "source": [
    "ord(\"G\")"
   ]
  },
  {
   "cell_type": "code",
   "execution_count": 46,
   "id": "aea9a85c",
   "metadata": {},
   "outputs": [
    {
     "data": {
      "text/plain": [
       "'\\x00'"
      ]
     },
     "execution_count": 46,
     "metadata": {},
     "output_type": "execute_result"
    }
   ],
   "source": [
    "chr(0)"
   ]
  },
  {
   "cell_type": "code",
   "execution_count": 44,
   "id": "fa79642b",
   "metadata": {},
   "outputs": [
    {
     "name": "stdout",
     "output_type": "stream",
     "text": [
      "😀\n"
     ]
    }
   ],
   "source": [
    "print(\"\\N{grinning face}\")"
   ]
  },
  {
   "cell_type": "code",
   "execution_count": 47,
   "id": "217542aa",
   "metadata": {},
   "outputs": [
    {
     "name": "stdout",
     "output_type": "stream",
     "text": [
      "🙂\n"
     ]
    }
   ],
   "source": [
    "print(\"\\N{slightly smiling face}\")"
   ]
  },
  {
   "cell_type": "code",
   "execution_count": 49,
   "id": "73b4bc2a",
   "metadata": {},
   "outputs": [
    {
     "name": "stdout",
     "output_type": "stream",
     "text": [
      "0 1 2 3 4 5 6 7 8 9 "
     ]
    }
   ],
   "source": [
    "# range f() -> it is a f() (considered as data type)\n",
    "\n",
    "for i in range(0,10):\n",
    "    print(i,end=\" \")"
   ]
  },
  {
   "cell_type": "code",
   "execution_count": 51,
   "id": "1aa8f75f",
   "metadata": {},
   "outputs": [
    {
     "name": "stdout",
     "output_type": "stream",
     "text": [
      "0 2 4 6 8 10 12 14 16 18 "
     ]
    }
   ],
   "source": [
    "for i in range(0,20,2): # 0 to (n-1) ,skiprange\n",
    "    print(i,end=\" \")"
   ]
  },
  {
   "cell_type": "code",
   "execution_count": 52,
   "id": "e1258385",
   "metadata": {},
   "outputs": [
    {
     "name": "stdout",
     "output_type": "stream",
     "text": [
      "3.141592653589793\n",
      "3.141592653589793\n",
      "3\n",
      "<class 'int'>\n"
     ]
    }
   ],
   "source": [
    "# write a program to convert pi value as integer\n",
    "\n",
    "import math\n",
    "print(math.pi)\n",
    "x = math.pi\n",
    "print(x)\n",
    "i = int(math.pi)\n",
    "print(i)\n",
    "print(type(i))"
   ]
  },
  {
   "cell_type": "code",
   "execution_count": 53,
   "id": "32f04cb1",
   "metadata": {},
   "outputs": [
    {
     "name": "stdout",
     "output_type": "stream",
     "text": [
      "t = True f = False\n",
      "<class 'bool'>\n"
     ]
    }
   ],
   "source": [
    "# write a program to convert boolian value as integer\n",
    "\n",
    "t = True\n",
    "f = False\n",
    "print(\"t =\",t,\"f =\",f)\n",
    "print(type(t))"
   ]
  },
  {
   "cell_type": "code",
   "execution_count": null,
   "id": "1193035e",
   "metadata": {},
   "outputs": [],
   "source": []
  }
 ],
 "metadata": {
  "kernelspec": {
   "display_name": "Python 3 (ipykernel)",
   "language": "python",
   "name": "python3"
  },
  "language_info": {
   "codemirror_mode": {
    "name": "ipython",
    "version": 3
   },
   "file_extension": ".py",
   "mimetype": "text/x-python",
   "name": "python",
   "nbconvert_exporter": "python",
   "pygments_lexer": "ipython3",
   "version": "3.11.3"
  }
 },
 "nbformat": 4,
 "nbformat_minor": 5
}
