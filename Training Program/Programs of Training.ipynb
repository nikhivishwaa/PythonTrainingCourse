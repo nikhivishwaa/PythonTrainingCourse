{
 "cells": [
  {
   "cell_type": "markdown",
   "id": "5ffa2f0d",
   "metadata": {},
   "source": [
    "# Input & Output"
   ]
  },
  {
   "cell_type": "code",
   "execution_count": 26,
   "id": "516f2229",
   "metadata": {},
   "outputs": [
    {
     "name": "stdout",
     "output_type": "stream",
     "text": [
      "enter no 1 :54\n",
      "enter no 2 :46\n",
      "100\n"
     ]
    }
   ],
   "source": [
    "# 1) write a program to input two no. and print their sum\n",
    "\n",
    "n1 =input(\"enter no 1 :\")\n",
    "n2 =input(\"enter no 2 :\")\n",
    "print(int(n1)+int(n2))"
   ]
  },
  {
   "cell_type": "code",
   "execution_count": 28,
   "id": "331298d6",
   "metadata": {},
   "outputs": [
    {
     "name": "stdout",
     "output_type": "stream",
     "text": [
      "enter no 1 :45\n",
      "enter no 2 :65\n",
      "enter no 3:48\n",
      "52.666666666666664\n"
     ]
    }
   ],
   "source": [
    "# 2) Print Average of Three no. average of three no.\n",
    "\n",
    "a1 =int(input(\"enter no 1 :\"))\n",
    "a2 =int(input(\"enter no 2 :\"))\n",
    "a3 = int(input(\"enter no 3:\"))\n",
    "print((a1+a2+a3)/3)"
   ]
  },
  {
   "cell_type": "markdown",
   "id": "e2917404",
   "metadata": {},
   "source": [
    "# Type Casting"
   ]
  },
  {
   "cell_type": "code",
   "execution_count": 52,
   "id": "e1258385",
   "metadata": {},
   "outputs": [
    {
     "name": "stdout",
     "output_type": "stream",
     "text": [
      "3.141592653589793\n",
      "3.141592653589793\n",
      "3\n",
      "<class 'int'>\n"
     ]
    }
   ],
   "source": [
    "# 1) write a program to convert pi value as integer\n",
    "\n",
    "import math\n",
    "print(math.pi)\n",
    "x = math.pi\n",
    "print(x)\n",
    "i = int(math.pi)\n",
    "print(i)\n",
    "print(type(i))"
   ]
  },
  {
   "cell_type": "code",
   "execution_count": 53,
   "id": "32f04cb1",
   "metadata": {},
   "outputs": [
    {
     "name": "stdout",
     "output_type": "stream",
     "text": [
      "t = True f = False\n",
      "<class 'bool'>\n"
     ]
    }
   ],
   "source": [
    "# 2) write a program to convert boolian value as integer\n",
    "\n",
    "t = True\n",
    "f = False\n",
    "print(\"t =\",t,\"f =\",f)\n",
    "print(type(t))"
   ]
  },
  {
   "cell_type": "code",
   "execution_count": 70,
   "id": "d27a7b92",
   "metadata": {},
   "outputs": [
    {
     "name": "stdout",
     "output_type": "stream",
     "text": [
      "3.141592653589793\n",
      "enter radius of a circle:5\n",
      "area of circle is: 78.53981633974483\n"
     ]
    }
   ],
   "source": [
    "# 3) write a program to calculate Area of circle. Data should be taken from user but the value of \"pi\"taken by python itself\n",
    "\n",
    "import math\n",
    "# print(math.pi)\n",
    "r=float(input(\"enter radius of a circle:\"))\n",
    "area = math.pi*r**2\n",
    "print(\"area of circle is:\",area)"
   ]
  },
  {
   "cell_type": "code",
   "execution_count": 3,
   "id": "92ed5dbb",
   "metadata": {},
   "outputs": [
    {
     "name": "stdout",
     "output_type": "stream",
     "text": [
      "5.0\n",
      "enter length of side one:10\n",
      "enter length of side two:12\n",
      "enter length of side three:9\n",
      "area of triangle is: 44.039045175843675\n"
     ]
    }
   ],
   "source": [
    "# 4) write a program to calculate the area of triangle, length of side should be given by user and square root f() taken by\n",
    "# python itself\n",
    "\n",
    "import math\n",
    "print(math.sqrt(25))\n",
    "\n",
    "a=float(input(\"enter length of side one:\"))\n",
    "b=float(input(\"enter length of side two:\"))\n",
    "c=float(input(\"enter length of side three:\"))\n",
    "\n",
    "s = (a+b+c)/2\n",
    "area =(s*(s-a)*(s-b)*(s-c))\n",
    "print(\"area of triangle is:\",math.sqrt(area))"
   ]
  },
  {
   "cell_type": "code",
   "execution_count": 2,
   "id": "6b02694d",
   "metadata": {},
   "outputs": [
    {
     "name": "stdout",
     "output_type": "stream",
     "text": [
      "Enter principle amount:10000\n",
      "Enter rate of interest:15\n",
      "enter time:2\n",
      "your SI is: 3000.0\n"
     ]
    }
   ],
   "source": [
    "# 5) write a program to calculate SI, data should be taken from the user\n",
    "\n",
    "p=float(input(\"Enter principle amount:\"))\n",
    "r=float(input(\"Enter rate of interest:\"))\n",
    "t=int(input(\"enter time:\"))\n",
    "si=(p*r*t)/100\n",
    "print(\"your SI is:\",si)"
   ]
  },
  {
   "cell_type": "markdown",
   "id": "7692b76f",
   "metadata": {},
   "source": [
    "# Operators "
   ]
  },
  {
   "cell_type": "code",
   "execution_count": 69,
   "id": "e8751dc6",
   "metadata": {},
   "outputs": [
    {
     "name": "stdout",
     "output_type": "stream",
     "text": [
      "Enter a number:254\n",
      "Your value is: 25\n"
     ]
    }
   ],
   "source": [
    "# 1) write a program to remove last digit from a given number\n",
    "\n",
    "n = int(input(\"Enter a number:\"))\n",
    "k = n\n",
    "k //=10 \n",
    "print(\"Your value is:\",k)"
   ]
  },
  {
   "cell_type": "code",
   "execution_count": 70,
   "id": "05d3b6db",
   "metadata": {},
   "outputs": [
    {
     "name": "stdout",
     "output_type": "stream",
     "text": [
      "Enter a number:25634\n",
      "Last digit is: 4\n"
     ]
    }
   ],
   "source": [
    "# 2) write a program to get last digit from a given number\n",
    "\n",
    "n = int(input(\"Enter a number:\"))\n",
    "k = n\n",
    "k %=10 \n",
    "print(\"Last digit is:\",k)"
   ]
  },
  {
   "cell_type": "code",
   "execution_count": 73,
   "id": "c8fa0d22",
   "metadata": {},
   "outputs": [
    {
     "name": "stdout",
     "output_type": "stream",
     "text": [
      "Enter a number:125\n",
      "1st digit is: 1\n"
     ]
    }
   ],
   "source": [
    "# 3) write a program which takes a 3 digit number from user and display only its 1st digit\n",
    "\n",
    "n = int(input(\"Enter a number:\"))\n",
    "k = n\n",
    "k //=10\n",
    "k //=10 \n",
    "print(\"1st digit is:\",k)"
   ]
  },
  {
   "cell_type": "code",
   "execution_count": 72,
   "id": "357bf0b3",
   "metadata": {},
   "outputs": [
    {
     "name": "stdout",
     "output_type": "stream",
     "text": [
      "Enter a number:245\n",
      "Middle digit is: 4\n"
     ]
    }
   ],
   "source": [
    "# 4) write a program which takes a 3 digit number from user and display only its middle digit\n",
    "\n",
    "n = int(input(\"Enter a number:\"))\n",
    "k = n\n",
    "k //=10 \n",
    "k %=10\n",
    "print(\"Middle digit is:\",k)"
   ]
  },
  {
   "cell_type": "code",
   "execution_count": 75,
   "id": "19053ec9",
   "metadata": {},
   "outputs": [
    {
     "name": "stdout",
     "output_type": "stream",
     "text": [
      "Enter 1st value:256\n",
      "Enter 2nd value:nikhil\n",
      "After Swapping\n",
      "1st value: nikhil\n",
      "2nd value: 256\n"
     ]
    }
   ],
   "source": [
    "# 5) write a program to swap data of two variables\n",
    "\n",
    "a1 = input(\"Enter 1st value:\")\n",
    "b1 = input(\"Enter 2nd value:\")\n",
    "k = a1\n",
    "a1 = b1\n",
    "b1 = k\n",
    "print(\"After Swapping\\n1st value:\",a1)\n",
    "print(\"2nd value:\",b1)"
   ]
  },
  {
   "cell_type": "code",
   "execution_count": 2,
   "id": "8439bdee",
   "metadata": {},
   "outputs": [
    {
     "name": "stdout",
     "output_type": "stream",
     "text": [
      "10 20\n",
      "20 10\n"
     ]
    }
   ],
   "source": [
    "# ^ swap values without using temporary variable\n",
    "a =10\n",
    "b =20\n",
    "print(a,b)\n",
    "a=a+b\n",
    "b=a-b\n",
    "a=a-b\n",
    "print(a,b)"
   ]
  },
  {
   "cell_type": "code",
   "execution_count": 33,
   "id": "2fc27be8",
   "metadata": {},
   "outputs": [
    {
     "name": "stdout",
     "output_type": "stream",
     "text": [
      "Enter a text:hgpyjhuykp\n",
      "True\n"
     ]
    }
   ],
   "source": [
    "# 6) write a program to print \"True\" if the string entered by user containing \"py\"\n",
    "s = input(\"Enter a text:\")\n",
    "print(\"py\" in s)\n"
   ]
  },
  {
   "cell_type": "code",
   "execution_count": 42,
   "id": "946ef6b7",
   "metadata": {},
   "outputs": [
    {
     "name": "stdout",
     "output_type": "stream",
     "text": [
      "Enter text1:nikhil\n",
      "Enter text1:nikhil\n",
      "1640702212912\n",
      "1640702213552\n",
      "False\n"
     ]
    }
   ],
   "source": [
    "# 7) write a program to input two strings from the user and display whether the two variables are same or not\n",
    "s1 = input(\"Enter text1:\")\n",
    "s2 = input(\"Enter text1:\")\n",
    "print(id(s1))\n",
    "print(id(s2))\n",
    "print(s1 is s2)"
   ]
  },
  {
   "cell_type": "code",
   "execution_count": 41,
   "id": "e4632199",
   "metadata": {},
   "outputs": [
    {
     "name": "stdout",
     "output_type": "stream",
     "text": [
      "enter 1st no.:5\n",
      "enter 2nd no.:6\n",
      "enter 3rd no.:7\n",
      "enter 4th no.:5\n",
      "enter 5th no.:10\n",
      "True\n"
     ]
    }
   ],
   "source": [
    "# 8) write a program to input five integers from the user and execute this expression _<_<_>_<_\n",
    "a = int(input(\"enter 1st no.:\"))\n",
    "b = int(input(\"enter 2nd no.:\"))\n",
    "c = int(input(\"enter 3rd no.:\"))\n",
    "d = int(input(\"enter 4th no.:\"))\n",
    "e = int(input(\"enter 5th no.:\"))\n",
    "\n",
    "print(a<b<c>d<e)"
   ]
  },
  {
   "cell_type": "markdown",
   "id": "08fa9867",
   "metadata": {},
   "source": [
    "# Decision Control if-else"
   ]
  },
  {
   "cell_type": "code",
   "execution_count": 14,
   "id": "bc33ae62",
   "metadata": {},
   "outputs": [
    {
     "name": "stdout",
     "output_type": "stream",
     "text": [
      "Enter a no.:0\n",
      "Given no. is Zero\n"
     ]
    }
   ],
   "source": [
    "# 1) write a program to check whether the given number is +ve, -ve, or zero\n",
    "\n",
    "z = int(input(\"Enter a no.:\"))\n",
    "if z>0:\n",
    "    print(\"Given no. is Positive\")\n",
    "elif z<0:\n",
    "    print(\"Given no. is Negative\")\n",
    "else:\n",
    "    print(\"Given no. is Zero\")"
   ]
  },
  {
   "cell_type": "code",
   "execution_count": 15,
   "id": "2790c871",
   "metadata": {},
   "outputs": [
    {
     "name": "stdout",
     "output_type": "stream",
     "text": [
      "Eneter a no.:564\n",
      "no\n"
     ]
    }
   ],
   "source": [
    "# 2) write a program to check whether the given number is divisible by 5 or not\n",
    "\n",
    "c=int(input(\"Eneter a no.:\"))\n",
    "if(c%5)==0:\n",
    "    print(\"yes\")\n",
    "else:\n",
    "    print(\"no\")"
   ]
  },
  {
   "cell_type": "code",
   "execution_count": 16,
   "id": "78d68750",
   "metadata": {},
   "outputs": [
    {
     "name": "stdout",
     "output_type": "stream",
     "text": [
      "Enter a no.:254\n",
      "Number is  Even\n"
     ]
    }
   ],
   "source": [
    "# 3) write a program to check whether  a number is even or odd\n",
    "x=int(input(\"Enter a no.:\"))\n",
    "if x%2==0:\n",
    "    print(\"Number is  Even\")\n",
    "else:\n",
    "    print(\"Number is  Odd\")"
   ]
  },
  {
   "cell_type": "code",
   "execution_count": 17,
   "id": "31fc9334",
   "metadata": {},
   "outputs": [
    {
     "name": "stdout",
     "output_type": "stream",
     "text": [
      "Enter 1st no. :12\n",
      "Enter 2nd no. :16\n",
      "--> 16\n"
     ]
    }
   ],
   "source": [
    "# 4) write a program to print the grater b/w two no. if both the numbers are equal then print the number only once\n",
    "\n",
    "a=int(input(\"Enter 1st no. :\"))\n",
    "b=int(input(\"Enter 2nd no. :\"))\n",
    "if a>b:\n",
    "    print(\"-->\",a)\n",
    "else:\n",
    "    print(\"-->\",b)"
   ]
  },
  {
   "cell_type": "code",
   "execution_count": 20,
   "id": "c35d5247",
   "metadata": {},
   "outputs": [
    {
     "name": "stdout",
     "output_type": "stream",
     "text": [
      "Enter text 1 :nikhil\n",
      "Enter text 2 :nilikh\n",
      "nilikh\n",
      "nikhil\n"
     ]
    }
   ],
   "source": [
    "# 5) write a program to print two given words from user in dictionary order\n",
    "\n",
    "s=input(\"Enter text 1 :\")\n",
    "t=input(\"Enter text 2 :\")\n",
    "if s>t:\n",
    "    print(s)\n",
    "    print(t)\n",
    "else:\n",
    "    print(t)\n",
    "    print(s)"
   ]
  },
  {
   "cell_type": "code",
   "execution_count": 22,
   "id": "c3dd243d",
   "metadata": {},
   "outputs": [
    {
     "name": "stdout",
     "output_type": "stream",
     "text": [
      "Enter a no.:452\n",
      "You entered 3 digit no.\n"
     ]
    }
   ],
   "source": [
    "# 6) write a program to check whether the given no. is a 3 digit no. or not\n",
    "y=int(input(\"Enter a no.:\"))\n",
    "if y>=100 and y<=999:\n",
    "    print(\"You entered 3 digit no.\")\n",
    "else:\n",
    "    print(\"Wrong input\")"
   ]
  },
  {
   "cell_type": "code",
   "execution_count": 25,
   "id": "bef34f05",
   "metadata": {},
   "outputs": [
    {
     "name": "stdout",
     "output_type": "stream",
     "text": [
      "Enter Multiplier of x^2 :5\n",
      "Enter Multiplier of x :6\n",
      "Enter Constant value :9\n",
      "imaginary roots\n"
     ]
    }
   ],
   "source": [
    "# 7) write a program to check whether the quardatric eq. has two real & distinct roots, real & equal roots or imaginary roots\n",
    "a=int(input(\"Enter Multiplier of x^2 :\"))\n",
    "b=int(input(\"Enter Multiplier of x :\"))\n",
    "c=int(input(\"Enter Constant value :\"))\n",
    "root = b**2-(4*a*c)\n",
    "if root<0:\n",
    "    print(\"imaginary roots\")\n",
    "elif root>0:\n",
    "    print(\"two real and distinct roots\")\n",
    "else:\n",
    "    print(\"real and equal roots\")"
   ]
  },
  {
   "cell_type": "code",
   "execution_count": 7,
   "id": "25f28f6e",
   "metadata": {},
   "outputs": [
    {
     "name": "stdout",
     "output_type": "stream",
     "text": [
      "Enter year2600\n",
      "Year is not a leap year\n"
     ]
    }
   ],
   "source": [
    "# 8) write a program to check whether the given year is leap year or not\n",
    "y=int(input(\"Enter year\"))\n",
    "if(y%100)>0 and y%4==0:\n",
    "    print(\"Year is Leap Year\")\n",
    "elif(y%100)==0 and y%400==0:\n",
    "    print(\"Year is Leap Year\")\n",
    "else:\n",
    "    print(\"Year is not a leap year\")"
   ]
  },
  {
   "cell_type": "code",
   "execution_count": 12,
   "id": "3a9bd504",
   "metadata": {},
   "outputs": [
    {
     "name": "stdout",
     "output_type": "stream",
     "text": [
      "Enter no. 1:8\n",
      "Enter no. 2:8\n",
      "Enter no. 3:8\n",
      "8\n"
     ]
    }
   ],
   "source": [
    "# 9) write a program to print greatest out of three no. if all the no. are same you need to print it once\n",
    "x=int(input(\"Enter no. 1:\"))\n",
    "y=int(input(\"Enter no. 2:\"))\n",
    "z=int(input(\"Enter no. 3:\"))\n",
    "if x>=y and x>=z:\n",
    "    print(x)\n",
    "elif x<=y and y>=z:\n",
    "    print(y)\n",
    "else:\n",
    "    print(z)"
   ]
  },
  {
   "cell_type": "markdown",
   "id": "a7e8c2df",
   "metadata": {},
   "source": [
    "# Program of loops "
   ]
  },
  {
   "cell_type": "code",
   "execution_count": 12,
   "id": "1adb34b9",
   "metadata": {},
   "outputs": [
    {
     "name": "stdout",
     "output_type": "stream",
     "text": [
      "Enter a no.:12\n",
      "2\n",
      "4\n",
      "6\n",
      "8\n",
      "10\n",
      "12\n",
      "14\n",
      "16\n",
      "18\n",
      "20\n",
      "22\n",
      "24\n"
     ]
    }
   ],
   "source": [
    "# 1) write a program to print first n even natural no.\n",
    "\n",
    "n=int(input(\"Enter a no.:\"))\n",
    "count=0\n",
    "i=1\n",
    "while count!=n:\n",
    "    if i%2==0:\n",
    "        print(i)\n",
    "        count+=1\n",
    "    if count==n:\n",
    "        break\n",
    "    i+=1"
   ]
  },
  {
   "cell_type": "code",
   "execution_count": 14,
   "id": "97ee87a8",
   "metadata": {},
   "outputs": [
    {
     "name": "stdout",
     "output_type": "stream",
     "text": [
      "Enter a no.:10\n",
      "20\n",
      "18\n",
      "16\n",
      "14\n",
      "12\n",
      "10\n",
      "8\n",
      "6\n",
      "4\n",
      "2\n"
     ]
    }
   ],
   "source": [
    "# 2) write a program to print first n even natural no. in reverse order\n",
    "\n",
    "n=int(input(\"Enter a no.:\"))\n",
    "count=0\n",
    "i=n*2\n",
    "while i>1:\n",
    "    if i%2==0:\n",
    "        print(i)\n",
    "        count+=1\n",
    "    i-=1"
   ]
  },
  {
   "cell_type": "code",
   "execution_count": 7,
   "id": "1edac5d2",
   "metadata": {},
   "outputs": [
    {
     "name": "stdout",
     "output_type": "stream",
     "text": [
      "Enter a no.:15\n",
      "Cube of 1 = 1\n",
      "Cube of 2 = 8\n",
      "Cube of 3 = 27\n",
      "Cube of 4 = 64\n",
      "Cube of 5 = 125\n",
      "Cube of 6 = 216\n",
      "Cube of 7 = 343\n",
      "Cube of 8 = 512\n",
      "Cube of 9 = 729\n",
      "Cube of 10 = 1000\n",
      "Cube of 11 = 1331\n",
      "Cube of 12 = 1728\n",
      "Cube of 13 = 2197\n",
      "Cube of 14 = 2744\n",
      "Cube of 15 = 3375\n"
     ]
    }
   ],
   "source": [
    "# 3) write a program to print cubes of first n natural no.\n",
    "\n",
    "n=int(input(\"Enter a no.:\"))\n",
    "for i in range(1,n+1):\n",
    "    print(\"Cube of\",i,\"=\",i**3)"
   ]
  },
  {
   "cell_type": "code",
   "execution_count": 23,
   "id": "a34620aa",
   "metadata": {},
   "outputs": [
    {
     "name": "stdout",
     "output_type": "stream",
     "text": [
      "Enter a Text:Nikhil Ik\n",
      "i\n",
      "i\n",
      "I\n"
     ]
    }
   ],
   "source": [
    "# 4) write a program to print only vowels of a given string \n",
    "\n",
    "s=input(\"Enter a Text:\")\n",
    "v=\"aeiou\"\n",
    "for i in s:\n",
    "        if i in v:\n",
    "            print(i)\n",
    "        elif i in v.upper():\n",
    "            print(i)"
   ]
  },
  {
   "cell_type": "code",
   "execution_count": 5,
   "id": "e442adb9",
   "metadata": {},
   "outputs": [
    {
     "name": "stdout",
     "output_type": "stream",
     "text": [
      "Enter a No.:122465124123\n",
      "1\n",
      "2\n",
      "4\n",
      "6\n",
      "5\n",
      "3\n"
     ]
    }
   ],
   "source": [
    "# 5) write a program to print unique digits of a given integer\n",
    "n=input(\"Enter a No.:\")\n",
    "l=[]\n",
    "l.append(n[0])\n",
    "print(l[0])\n",
    "for i in n:\n",
    "    if i in l:\n",
    "        continue\n",
    "    else:\n",
    "        l.append(i)\n",
    "    print(i)"
   ]
  },
  {
   "cell_type": "code",
   "execution_count": 21,
   "id": "208aa0ca",
   "metadata": {},
   "outputs": [
    {
     "name": "stdout",
     "output_type": "stream",
     "text": [
      "Enter a Text:nikhil jhjf dshdie   hvuidh\n",
      "' ' is : 5\n"
     ]
    }
   ],
   "source": [
    "# 6) write a program to print the count of spaces of a given string\n",
    "s=input(\"Enter a Text:\")\n",
    "print(\"' ' is :\",s.count(\" \"))"
   ]
  },
  {
   "cell_type": "markdown",
   "id": "29bde59b",
   "metadata": {},
   "source": [
    "# Programs of String"
   ]
  },
  {
   "cell_type": "code",
   "execution_count": 2,
   "id": "4553b99f",
   "metadata": {},
   "outputs": [
    {
     "name": "stdout",
     "output_type": "stream",
     "text": [
      "Enter a text:nikhilVishwakarma\n",
      "Alphabetical String\n"
     ]
    }
   ],
   "source": [
    "# 1) write a program to check given string has only alphabets\n",
    "s=input(\"Enter a text:\")\n",
    "if s.isalpha():\n",
    "    print(\"Alphabetical String\")\n",
    "else:\n",
    "    print(\"Not a Alphabetical String\")\n",
    "    "
   ]
  },
  {
   "cell_type": "code",
   "execution_count": 4,
   "id": "62b5660a",
   "metadata": {},
   "outputs": [
    {
     "name": "stdout",
     "output_type": "stream",
     "text": [
      "Enter a text:nikhil\n",
      "Enter a Character:i\n",
      "Character is Present\n"
     ]
    }
   ],
   "source": [
    "# 2) write a program to check if a given character is present in given string or not \n",
    "s=input(\"Enter a text:\")\n",
    "c=input(\"Enter a Character:\")\n",
    "if c in s:\n",
    "    print(\"Character is Present\")\n",
    "else:\n",
    "    print(\"Character is  Not Present\")\n",
    "    "
   ]
  },
  {
   "cell_type": "code",
   "execution_count": 6,
   "id": "2c21aff7",
   "metadata": {},
   "outputs": [
    {
     "name": "stdout",
     "output_type": "stream",
     "text": [
      "Enter a text:nikhil VISHWAKARMA Aids\n",
      "8 vowels present\n"
     ]
    }
   ],
   "source": [
    "# 3) write a program to count vowels present in  a given string\n",
    "s=input(\"Enter a text:\")\n",
    "v=\"aeiou\"\n",
    "c=0\n",
    "for i in s:\n",
    "    if i in v:\n",
    "        c+=1\n",
    "    elif i in v.upper():\n",
    "        c+=1\n",
    "print(c,\"vowels present\")"
   ]
  },
  {
   "cell_type": "code",
   "execution_count": 10,
   "id": "bc8f9956",
   "metadata": {},
   "outputs": [
    {
     "name": "stdout",
     "output_type": "stream",
     "text": [
      "Enter a text:hello hello Hello HE is she he\n",
      "Enter a word:he\n",
      "Count of \" he \" is 4\n"
     ]
    }
   ],
   "source": [
    "# 4) write a program to count words in a given string\n",
    "s=input(\"Enter a text:\")\n",
    "v=input(\"Enter a word:\")\n",
    "print(\"Count of \\\"\",v,\"\\\" is\",s.count(v))"
   ]
  },
  {
   "cell_type": "code",
   "execution_count": 1,
   "id": "7e5ce248",
   "metadata": {},
   "outputs": [
    {
     "name": "stdout",
     "output_type": "stream",
     "text": [
      "Enter a text:nikhil vishwakarma\n",
      "amrakawhsiv lihkin\n"
     ]
    }
   ],
   "source": [
    "# 5) write a program to reverse a string\n",
    "s = input(\"Enter a text:\")\n",
    "print(s[-1:-(len(s)+1):-1])"
   ]
  },
  {
   "cell_type": "code",
   "execution_count": 8,
   "id": "cc511611",
   "metadata": {},
   "outputs": [
    {
     "name": "stdout",
     "output_type": "stream",
     "text": [
      "Enter a text:sandeep nikhil ankit rahul\n",
      "peednas lihkin tikna luhar "
     ]
    }
   ],
   "source": [
    "# 6) write a program to reverse a string word wise\n",
    "s = input(\"Enter a text:\")\n",
    "l=s.split()\n",
    "for i in l:\n",
    "    r=i\n",
    "    print(r[-1:-(len(r)+1):-1],end=\" \")\n"
   ]
  },
  {
   "cell_type": "code",
   "execution_count": 9,
   "id": "c41dd7d1",
   "metadata": {},
   "outputs": [
    {
     "name": "stdout",
     "output_type": "stream",
     "text": [
      "Enter a text:nikhil 67 jrd 2 tata ok 4\n",
      "6\n",
      "7\n",
      "2\n",
      "4\n"
     ]
    }
   ],
   "source": [
    "# 7) write a program to extract no. from a given string and store all the no. in a list\n",
    "s = input(\"Enter a text:\")\n",
    "n=\"0123456789\"\n",
    "l=[]\n",
    "for i in s:\n",
    "    if i in n:\n",
    "        l.append(i)\n",
    "        print(i)\n",
    "    "
   ]
  },
  {
   "cell_type": "code",
   "execution_count": 13,
   "id": "ffeeff91",
   "metadata": {},
   "outputs": [
    {
     "name": "stdout",
     "output_type": "stream",
     "text": [
      "Enter a text:nitin\n",
      "String is Pallindrom\n"
     ]
    }
   ],
   "source": [
    "# 8) write a program to check whether a string is pllindron or not\n",
    "s = input(\"Enter a text:\")\n",
    "if s[-1:-(len(s)+1):-1] == s[0:len(s)+1]:\n",
    "    print(\"String is Pallindrom\")\n",
    "else:\n",
    "    print(\"Not a Pallindrom\")"
   ]
  },
  {
   "cell_type": "code",
   "execution_count": 14,
   "id": "34b733f2",
   "metadata": {},
   "outputs": [
    {
     "name": "stdout",
     "output_type": "stream",
     "text": [
      "Enter a text:nikhil vishwakarma\n",
      "NIKHIL VISHWAKARMA\n"
     ]
    }
   ],
   "source": [
    "# 8) write a program to transform a string in uppercase\n",
    "s = input(\"Enter a text:\")\n",
    "print(s.upper())"
   ]
  },
  {
   "cell_type": "code",
   "execution_count": 15,
   "id": "d7b9c21f",
   "metadata": {},
   "outputs": [
    {
     "name": "stdout",
     "output_type": "stream",
     "text": [
      "Enter a text:nikhil third sem aids department sistec gandhi nagar\n",
      "department\n"
     ]
    }
   ],
   "source": [
    "# 9) write a program to find max length words in a given string\n",
    "s = input(\"Enter a text:\")\n",
    "l=s.split()\n",
    "r = \"a\"\n",
    "for i in l:\n",
    "    if len(r)<=len(i):\n",
    "        r=i\n",
    "    else:\n",
    "        continue\n",
    "print(r)\n",
    "    "
   ]
  },
  {
   "cell_type": "markdown",
   "id": "595e26e9",
   "metadata": {},
   "source": [
    "# Programs of List "
   ]
  },
  {
   "cell_type": "code",
   "execution_count": 89,
   "id": "051af51f",
   "metadata": {},
   "outputs": [
    {
     "name": "stdout",
     "output_type": "stream",
     "text": [
      "Enter no. for sum by giving space:1 2 3 5 4 6 9 8 7 \n",
      "45\n"
     ]
    }
   ],
   "source": [
    "# 1) write a program to calculate sum of elements of the list\n",
    "n=input(\"Enter no. for sum by giving space:\")\n",
    "n=n.split()\n",
    "l=[int(i) for i in n]\n",
    "print(sum(l))"
   ]
  },
  {
   "cell_type": "code",
   "execution_count": 15,
   "id": "664c7dde",
   "metadata": {},
   "outputs": [
    {
     "name": "stdout",
     "output_type": "stream",
     "text": [
      "Enter a no.:25\n",
      "[1, 4, 9, 16, 25, 36, 49, 64, 81, 100, 121, 144, 169, 196, 225, 256, 289, 324, 361, 400, 441, 484, 529, 576, 625]\n"
     ]
    }
   ],
   "source": [
    "# 2) write a program to create a list of squares of no. of a given list\n",
    "n=int(input(\"Enter a no.:\"))\n",
    "l=[i*i for i in range(1,n+1)]\n",
    "print(l)"
   ]
  },
  {
   "cell_type": "code",
   "execution_count": 12,
   "id": "de7f2be9",
   "metadata": {},
   "outputs": [
    {
     "name": "stdout",
     "output_type": "stream",
     "text": [
      "Enter no. by giving space:10 36 54 875 12 45 12 102 45 12 41 2 36 9 6\n",
      "[875, 102, 54, 45, 45, 41, 36, 36, 12, 12, 12, 10, 9, 6, 2]\n"
     ]
    }
   ],
   "source": [
    "# 3) write a program to sort list in decending order\n",
    "n=input(\"Enter no. by giving space:\")\n",
    "n=n.split()\n",
    "l=[int(i) for i in n]\n",
    "l.sort(reverse=True)\n",
    "print(l)"
   ]
  },
  {
   "cell_type": "code",
   "execution_count": 21,
   "id": "a98df000",
   "metadata": {},
   "outputs": [
    {
     "name": "stdout",
     "output_type": "stream",
     "text": [
      "Enter a no.:100\n",
      "[2, 3, 5, 7, 11, 13, 17, 19, 23, 29, 31, 37, 41, 43, 47, 53, 59, 61, 67, 71, 73, 79, 83, 89, 97, 101, 103, 107, 109, 113, 127, 131, 137, 139, 149, 151, 157, 163, 167, 173, 179, 181, 191, 193, 197, 199, 211, 223, 227, 229, 233, 239, 241, 251, 257, 263, 269, 271, 277, 281, 283, 293, 307, 311, 313, 317, 331, 337, 347, 349, 353, 359, 367, 373, 379, 383, 389, 397, 401, 409, 419, 421, 431, 433, 439, 443, 449, 457, 461, 463, 467, 479, 487, 491, 499, 503, 509, 521, 523, 541]\n"
     ]
    }
   ],
   "source": [
    "# 4) write a program to create a list of 1st n prime no.\n",
    "n=int(input(\"Enter a no.:\"))\n",
    "l=[]\n",
    "i=2\n",
    "while len(l)<n:\n",
    "    c=0\n",
    "    for j in range(1,i+1):\n",
    "        if i%j==0:\n",
    "            c+=1\n",
    "    if c==2:\n",
    "        l.append(i)\n",
    "    i+=1\n",
    "print(l)"
   ]
  },
  {
   "cell_type": "code",
   "execution_count": 13,
   "id": "f4d60dc0",
   "metadata": {},
   "outputs": [
    {
     "name": "stdout",
     "output_type": "stream",
     "text": [
      "Enter Integers by giving space:25 -5 0 36 -6 45 -9 5 69 -12 9 26 -25\n",
      "Psitive integers: [25, 36, 45, 5, 69, 9, 26]\n",
      "Psitive integers: [-5, 0, -6, -9, -12, -25]\n"
     ]
    }
   ],
   "source": [
    "# 5) write a program to create two list from a given list of no. in such a way that the first list can have +ve no. & second \n",
    "# list can have  non +ve no.\n",
    "\n",
    "n=input(\"Enter Integers by giving space:\")\n",
    "n=n.split()\n",
    "ln=[int(i) for i in n if int(i)<=0]\n",
    "lp=[int(i) for i in n if int(i)>0]\n",
    "print(\"Psitive integers:\",lp)\n",
    "print(\"Psitive integers:\",ln)"
   ]
  },
  {
   "cell_type": "markdown",
   "id": "3492ca07",
   "metadata": {},
   "source": [
    "# Programs of   Tuple, Set & Dictionary "
   ]
  },
  {
   "cell_type": "code",
   "execution_count": 2,
   "id": "632e8c54",
   "metadata": {},
   "outputs": [
    {
     "name": "stdout",
     "output_type": "stream",
     "text": [
      "[5, 4, 7, 8, 7]  --> (5, 4, 7, 8, 7)\n",
      "In reverse order: (7, 8, 7, 4, 5)\n"
     ]
    }
   ],
   "source": [
    "# 1) write a program to create a tuple from a given list & reverse it\n",
    "\n",
    "l=[5,4,7,8,7]\n",
    "t=tuple(l)\n",
    "print(l,\" -->\",t)\n",
    "print(\"In reverse order:\",t[::-1])"
   ]
  },
  {
   "cell_type": "code",
   "execution_count": 11,
   "id": "dfdcf37a",
   "metadata": {},
   "outputs": [
    {
     "name": "stdout",
     "output_type": "stream",
     "text": [
      "[('A', 65), ('B', 66), ('C', 67), ('D', 68), ('E', 69), ('F', 70), ('G', 71), ('H', 72), ('I', 73), ('J', 74), ('K', 75), ('L', 76), ('M', 77), ('N', 78), ('O', 79), ('P', 80), ('Q', 81), ('R', 82), ('S', 83), ('T', 84), ('U', 85), ('V', 86), ('W', 87), ('X', 88), ('Y', 89), ('Z', 90)]\n"
     ]
    }
   ],
   "source": [
    "# 2) write a program to create list of tuples where each tuple is a pair of elements 1st element is uppercase Character & \n",
    "# second element is its unicode\n",
    "l=[]\n",
    "a=ord(\"A\")\n",
    "z=ord(\"Z\")\n",
    "for i in range(a,z+1):\n",
    "    t=(chr(i), i)\n",
    "    l.append(t)\n",
    "print(l)"
   ]
  },
  {
   "cell_type": "code",
   "execution_count": 16,
   "id": "25a0f115",
   "metadata": {},
   "outputs": [
    {
     "name": "stdout",
     "output_type": "stream",
     "text": [
      "Enter Elements of set by giving space:1 25 4 6 2 1 2 3 6 4 5 7 8 9 6 5 4  2 6 5 5 5 5 6\n",
      "given Set Elements: {1, 2, 3, 4, 5, 6, 7, 8, 9, 25}\n",
      "Set of Even Elements: {8, 2, 4, 6}\n",
      "Set of odd Elements: {1, 3, 5, 7, 9, 25}\n"
     ]
    }
   ],
   "source": [
    "# 3) create two sets from a given set of no. to separate even and odd no.\n",
    "s=input(\"Enter Elements of set by giving space:\")\n",
    "s=s.split()\n",
    "s_base={int(i) for i in s}\n",
    "s_even={int(i) for i in s if int(i)%2==0}\n",
    "s_odd={int(i) for i in s if int(i)%2>0}\n",
    "print(\"given Set Elements:\",s_base)\n",
    "print(\"Set of Even Elements:\",s_even)\n",
    "print(\"Set of odd Elements:\",s_odd)"
   ]
  },
  {
   "cell_type": "code",
   "execution_count": 32,
   "id": "2f77d651",
   "metadata": {},
   "outputs": [
    {
     "name": "stdout",
     "output_type": "stream",
     "text": [
      "{1: 'Aakash', 2: 'Aliya', 10: 'Ankush', 3: 'Ashutosh', 5: 'Abhishek', 7: 'Aman', 9: 'Ankit', 4: 'Abhay', 11: 'Arslaan', 6: 'Afiya', 8: 'Animesh'}\n",
      "{11: 'Arslaan', 10: 'Ankush', 9: 'Ankit', 8: 'Animesh', 7: 'Aman', 6: 'Afiya', 5: 'Abhishek', 4: 'Abhay', 3: 'Ashutosh', 2: 'Aliya', 1: 'Aakash'}\n"
     ]
    }
   ],
   "source": [
    "# 4) sort a dictionary by its keys in decending order\n",
    "d={1:\"Aakash\",2:\"Aliya\",10:\"Ankush\",3:\"Ashutosh\",5:\"Abhishek\",7:\"Aman\",9:\"Ankit\",4:\"Abhay\",11:\"Arslaan\",6:\"Afiya\",8:\"Animesh\"}\n",
    "print(d)\n",
    "# print(d.keys())\n",
    "d=d.items()\n",
    "d=list(d)\n",
    "d.sort(reverse=True)\n",
    "# print(d)\n",
    "d=dict(d)\n",
    "print(d)"
   ]
  },
  {
   "cell_type": "code",
   "execution_count": 54,
   "id": "c6b74fbe",
   "metadata": {},
   "outputs": [
    {
     "name": "stdout",
     "output_type": "stream",
     "text": [
      "Enter Batch codes for Dictionary by giving space: nikhil_32 ankush_10 sandeep_52 pankaj_36 nikhlesh_34 suhani_35\n",
      "{'nikhil_32': 9, 'ankush_10': 9, 'sandeep_52': 10, 'pankaj_36': 9, 'nikhlesh_34': 11, 'suhani_35': 9}\n",
      "11 4\n",
      "Max size Batch code: ' nikhlesh_34 '\t\tSize: 11\n"
     ]
    }
   ],
   "source": [
    "# 5) write a program to find maximum size batch code from a dictionary where key values in the dictionary are batch codes\n",
    "# and data values are size of the batch\n",
    "\n",
    "s= input(\"Enter Batch codes for Dictionary by giving space: \")\n",
    "s=s.split()\n",
    "l=[i for i in s]\n",
    "d=[(i,len(i)) for i in l]\n",
    "d=dict(d)\n",
    "print(d)\n",
    "m=d.values()\n",
    "mx=max(list(m))\n",
    "i=list(m).index(mx)\n",
    "print(mx,i)\n",
    "m=list(d.keys())\n",
    "mx=m[i]\n",
    "print(\"Max size Batch code: '\",mx,\"'\\t\\tSize:\",d.get(mx))"
   ]
  },
  {
   "cell_type": "markdown",
   "id": "b8b2a1f5",
   "metadata": {},
   "source": [
    "# Programs of Input, Output and Functions"
   ]
  },
  {
   "cell_type": "code",
   "execution_count": 2,
   "id": "5c63e833",
   "metadata": {},
   "outputs": [
    {
     "name": "stdout",
     "output_type": "stream",
     "text": [
      "Enter two no. by giving space: 5 6\n",
      "Product of 5 and 6 : 30\n"
     ]
    }
   ],
   "source": [
    "# 1) write a program to take two input from the user calculate their product and display the output\n",
    "x,y=[int(i) for i in input(\"Enter two no. by giving space: \").split()]\n",
    "p=x*y\n",
    "print(f\"Product of {x} and {y} : {p}\")"
   ]
  },
  {
   "cell_type": "code",
   "execution_count": 4,
   "id": "5e6b9f41",
   "metadata": {},
   "outputs": [
    {
     "name": "stdout",
     "output_type": "stream",
     "text": [
      "enter your string: nikhil vishwakarma\n",
      "110 105 107 104 105 108 32 118 105 115 104 119 97 107 97 114 109 97 "
     ]
    }
   ],
   "source": [
    "# 2) write a program to take input from the user. The input will be a string containing characters and you have to\n",
    "# print the unicode corresponding to the character\n",
    "s=input(\"enter your string: \")\n",
    "for i in s:\n",
    "    print(f\"{ord(i)}\",end=\" \")"
   ]
  },
  {
   "cell_type": "code",
   "execution_count": 7,
   "id": "1ac624ee",
   "metadata": {},
   "outputs": [
    {
     "name": "stdout",
     "output_type": "stream",
     "text": [
      "Enter radius of Circle: 7\n",
      "Area of circle: 153.86\n"
     ]
    }
   ],
   "source": [
    "# 3) write a python f() to calculate area of circle\n",
    "def area_Circle(r):\n",
    "    return 3.14*(r**2)\n",
    "r=int(input(\"Enter radius of Circle: \"))\n",
    "print(f\"Area of circle: {area_Circle(r)}\")"
   ]
  },
  {
   "cell_type": "code",
   "execution_count": 4,
   "id": "d746d5e0",
   "metadata": {},
   "outputs": [
    {
     "name": "stdout",
     "output_type": "stream",
     "text": [
      "Enter Principal Amount: 150000\n",
      "Enter Rate of Interest: 12\n",
      "Enter Time Period: 3\n",
      "Area of circle: 60739.20000000007\n"
     ]
    }
   ],
   "source": [
    "# 4) write a python f() to calculate Compound Interest\n",
    "def ci(p,r,t):\n",
    "    s=p*((1+(r/100))**n)\n",
    "    return s-p\n",
    "p=float(input(\"Enter Principal Amount: \"))\n",
    "r=float(input(\"Enter Rate of Interest: \"))\n",
    "n=int(input(\"Enter Time Period: \"))\n",
    "print(f\"Area of circle: {ci(p,r,n)}\")"
   ]
  },
  {
   "cell_type": "code",
   "execution_count": 14,
   "id": "4e4efa8d",
   "metadata": {},
   "outputs": [
    {
     "name": "stdout",
     "output_type": "stream",
     "text": [
      "Enter a no.: 15\n",
      "Average of 15 no.: 8.0\n"
     ]
    }
   ],
   "source": [
    "# 5) write a python f() to calculate average of n no.\n",
    "def average_N(n):\n",
    "    k=0\n",
    "    for i in range(n+1):\n",
    "        k+=i\n",
    "    return k/n\n",
    "n=int(input(\"Enter a no.: \"))\n",
    "print(f\"Average of {n} no.: {average_N(n)}\")"
   ]
  },
  {
   "cell_type": "code",
   "execution_count": 5,
   "id": "b5650177",
   "metadata": {},
   "outputs": [
    {
     "name": "stdout",
     "output_type": "stream",
     "text": [
      "Enter side of Cuboid by giving space: 10 12 12\n",
      "volume of cube: 1440\n"
     ]
    }
   ],
   "source": [
    "# 6) write a python f()to calculate volume of cuboid\n",
    "def vol_Cube(a,b,c):\n",
    "    return a*b*c\n",
    "\n",
    "l,b,h=[int(i) for i in input(\"Enter side of Cuboid by giving space: \").split()]\n",
    "print(f\"volume of cube: {vol_Cube(l,b,h)}\")"
   ]
  },
  {
   "cell_type": "markdown",
   "id": "4a31bb97",
   "metadata": {},
   "source": [
    "# Programs of Function"
   ]
  },
  {
   "cell_type": "code",
   "execution_count": 10,
   "id": "0d44b8b6",
   "metadata": {},
   "outputs": [
    {
     "name": "stdout",
     "output_type": "stream",
     "text": [
      "Enter two no. by giving space: 10 12\n",
      "60\n"
     ]
    }
   ],
   "source": [
    "# 1) write a python f() to calculate LCM of two no.\n",
    "def lcm(a,b):\n",
    "    i=2\n",
    "    lcm=max(a,b)\n",
    "    while (lcm%a==0 and lcm%b==0)<1:\n",
    "        x=a\n",
    "        if x>b:\n",
    "            x=b\n",
    "        if x%a==0 and x%b==0:\n",
    "            lcm=x\n",
    "        elif (x*i)%a==0 and (x*i)%b==0:\n",
    "            lcm=x*i\n",
    "        else:\n",
    "            i+=1\n",
    "    return lcm\n",
    "a,b=[int(i) for i in input(\"Enter two no. by giving space: \").split()]\n",
    "lcm=lcm(a,b)\n",
    "print(lcm)\n",
    "        "
   ]
  },
  {
   "cell_type": "code",
   "execution_count": 23,
   "id": "b02a9f23",
   "metadata": {},
   "outputs": [
    {
     "name": "stdout",
     "output_type": "stream",
     "text": [
      "Enter text for counting of words: nikhil bittu pankaj lucky hai\n",
      "Words in your text: 5\n"
     ]
    }
   ],
   "source": [
    "# 2) write a python f() to count words in a string\n",
    "def word_Count(s):\n",
    "    s=s.split()\n",
    "    c=len(s)\n",
    "    return c\n",
    "\n",
    "x=input(\"Enter text for counting of words: \")\n",
    "print(f\"Words in your text: {word_Count(x)}\")"
   ]
  },
  {
   "cell_type": "code",
   "execution_count": 13,
   "id": "97a9a8cb",
   "metadata": {},
   "outputs": [
    {
     "name": "stdout",
     "output_type": "stream",
     "text": [
      "Enter a text containing no.: nikhil 1032 vishwakarm0 ank0s4 oksb1\n",
      "Your text contains ['1', '0', '3', '2', '0', '0', '4', '1']\n"
     ]
    }
   ],
   "source": [
    "# 3) write a python f() to find no. in a given text, store no. in a list & return list\n",
    "def no_in_Text(s):\n",
    "    n=\"0123456789\"\n",
    "    l=[]\n",
    "    for i in s:\n",
    "        if i in n:\n",
    "            l.append(i)\n",
    "    return l\n",
    "s=input(\"Enter a text containing no.: \")\n",
    "print(f\"Your text contains {no_in_Text(s)}\")"
   ]
  },
  {
   "cell_type": "code",
   "execution_count": 31,
   "id": "92d204e7",
   "metadata": {},
   "outputs": [
    {
     "name": "stdout",
     "output_type": "stream",
     "text": [
      "Enter no. by giving space:4 5 2 6 9 78 45 123 698 5 4 4 12 36 45\n",
      "Greatest no. : 698\n"
     ]
    }
   ],
   "source": [
    "# 4) write a python f() which recieves variable length arguments to find greatest element it will return the greatest\n",
    "# element\n",
    "\n",
    "def greatest_Element(*t):\n",
    "    g=max(t[0])\n",
    "    return g\n",
    "\n",
    "s=[int(i) for i in input(\"Enter no. by giving space:\").split()]\n",
    "x=greatest_Element(s)\n",
    "print(f\"Greatest no. : {x}\")"
   ]
  },
  {
   "cell_type": "code",
   "execution_count": 1,
   "id": "ec9117bc",
   "metadata": {},
   "outputs": [
    {
     "name": "stdout",
     "output_type": "stream",
     "text": [
      "Enter your text: Nikhil Ankit Ankush Krish Balram Pankaj Shyam Tanish Rahul Vishal\n",
      "Maximum Length String is : ['Nikhil', 'Ankush', 'Balram', 'Pankaj', 'Tanish', 'Vishal']\n"
     ]
    }
   ],
   "source": [
    "# 5) write a python f() which takes variable length arguments to recieve strings return the list of maximum length \n",
    "# string or strings if multiple strings have the same length\n",
    "def max_len_Str(*s):\n",
    "    k = [len(i) for i in s[0]]\n",
    "    m=max(k)\n",
    "    k.clear()\n",
    "    l=[]\n",
    "    for i in s[0]:\n",
    "        if len(i)==m:\n",
    "            l.append(i) \n",
    "    return l\n",
    "\n",
    "s=input(\"Enter your text: \").split()\n",
    "x=max_len_Str(s)\n",
    "print(f\"Maximum Length String is : {x}\")"
   ]
  },
  {
   "cell_type": "markdown",
   "id": "55ae6217",
   "metadata": {},
   "source": [
    "# Programs of Lambda Function"
   ]
  },
  {
   "cell_type": "code",
   "execution_count": 2,
   "id": "fce8a599",
   "metadata": {},
   "outputs": [
    {
     "name": "stdout",
     "output_type": "stream",
     "text": [
      "[2, 4, 8, 6, 54, 46, 2, 6, 4]\n"
     ]
    }
   ],
   "source": [
    "# 1) Write a Lambda f() to print even no. in a given list\n",
    "even=(lambda *t:print([i for i in t if i%2==0]))\n",
    "l=[1,2,4,5,15,7,8,9,6,54,46,1,2,3,6,5,4]\n",
    "even(*l)"
   ]
  },
  {
   "cell_type": "code",
   "execution_count": 36,
   "id": "43555d29",
   "metadata": {},
   "outputs": [
    {
     "name": "stdout",
     "output_type": "stream",
     "text": [
      "Enter Radius of Circle: 7\n",
      "Area of Circle: 153.86\n"
     ]
    }
   ],
   "source": [
    "# 2) write a lambda expression to calculate area of a circle\n",
    "r=float(input(\"Enter Radius of Circle: \"))\n",
    "(lambda r,p=3.14:print(f\"Area of Circle: {p*r*r}\"))(r)"
   ]
  },
  {
   "cell_type": "code",
   "execution_count": 7,
   "id": "750af426",
   "metadata": {},
   "outputs": [
    {
     "name": "stdout",
     "output_type": "stream",
     "text": [
      "Enter 2  no. to find HCF by giving space: 36 27\n",
      "9\n"
     ]
    }
   ],
   "source": [
    "# 3) write a lambda f() to find HCF of two no.\n",
    "l=[int(i) for i in input(\"Enter 2  no. to find HCF by giving space: \").split()]\n",
    "hcf=(lambda *t:[i for i in range(min(t),0,-1) if t[0]%i==0 and t[1]%i==0])(*l)\n",
    "print(hcf[0])"
   ]
  },
  {
   "cell_type": "code",
   "execution_count": 33,
   "id": "dc79f4f2",
   "metadata": {},
   "outputs": [
    {
     "name": "stdout",
     "output_type": "stream",
     "text": [
      "Enter your text to count words: nikhil vishwakarma cse ai&ds third sem sistec gandhi nagar\n",
      "Your text has 9 words\n"
     ]
    }
   ],
   "source": [
    "# 4) write a lambda f() to count words in a given text\n",
    "cw=(lambda s:print(f\"Your text has {len(s.split())} words\"))\n",
    "txt=input(\"Enter your text to count words: \")\n",
    "cw(txt)"
   ]
  },
  {
   "cell_type": "code",
   "execution_count": null,
   "id": "4d050dae",
   "metadata": {},
   "outputs": [],
   "source": []
  }
 ],
 "metadata": {
  "kernelspec": {
   "display_name": "Python 3 (ipykernel)",
   "language": "python",
   "name": "python3"
  },
  "language_info": {
   "codemirror_mode": {
    "name": "ipython",
    "version": 3
   },
   "file_extension": ".py",
   "mimetype": "text/x-python",
   "name": "python",
   "nbconvert_exporter": "python",
   "pygments_lexer": "ipython3",
   "version": "3.11.3"
  }
 },
 "nbformat": 4,
 "nbformat_minor": 5
}
