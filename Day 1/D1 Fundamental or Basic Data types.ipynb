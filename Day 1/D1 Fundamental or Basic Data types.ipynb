{
 "cells": [
  {
   "cell_type": "markdown",
   "id": "ccdab2fa",
   "metadata": {},
   "source": [
    "# Fundamental (Basic) Datatypes"
   ]
  },
  {
   "cell_type": "code",
   "execution_count": 2,
   "id": "abdec83b",
   "metadata": {},
   "outputs": [
    {
     "name": "stdout",
     "output_type": "stream",
     "text": [
      "20\n",
      "140735144564104\n",
      "<class 'int'>\n"
     ]
    }
   ],
   "source": [
    "x=20 # int variable\n",
    "print(x)\n",
    "print(id(x))# address of variable\n",
    "print(type(x)) # type of variable class"
   ]
  },
  {
   "cell_type": "code",
   "execution_count": 5,
   "id": "3d4b03de",
   "metadata": {},
   "outputs": [
    {
     "name": "stdout",
     "output_type": "stream",
     "text": [
      "4\n",
      "0b100\n",
      "140735144563592\n",
      "<class 'int'>\n"
     ]
    }
   ],
   "source": [
    "# binary data\n",
    "\n",
    "n=0b100 # default value is decimal\n",
    "print(n)\n",
    "print(bin(n))\n",
    "print(id(n))\n",
    "print(type(n)) "
   ]
  },
  {
   "cell_type": "code",
   "execution_count": 6,
   "id": "6400f3ff",
   "metadata": {},
   "outputs": [
    {
     "name": "stdout",
     "output_type": "stream",
     "text": [
      "519\n",
      "0o1007\n",
      "1678436928080\n",
      "<class 'int'>\n"
     ]
    }
   ],
   "source": [
    "# octal data\n",
    "\n",
    "n=0o1007 \n",
    "print(n)\n",
    "print(oct(n))\n",
    "print(id(n))\n",
    "print(type(n)) "
   ]
  },
  {
   "cell_type": "code",
   "execution_count": 7,
   "id": "e9a6d628",
   "metadata": {},
   "outputs": [
    {
     "name": "stdout",
     "output_type": "stream",
     "text": [
      "4103\n",
      "0x1007\n",
      "1678436928208\n",
      "<class 'int'>\n"
     ]
    }
   ],
   "source": [
    "# hexa decimal data\n",
    "\n",
    "n=0x1007\n",
    "print(n)\n",
    "print(hex(n))\n",
    "print(id(n))\n",
    "print(type(n)) "
   ]
  },
  {
   "cell_type": "code",
   "execution_count": 8,
   "id": "dcee4c46",
   "metadata": {},
   "outputs": [
    {
     "name": "stdout",
     "output_type": "stream",
     "text": [
      "20\n",
      "binary : 0b1000000000111\n",
      "octal : 0o10007\n",
      "hexa decimal : 0x1007\n",
      "1678436928720\n",
      "<class 'int'>\n"
     ]
    }
   ],
   "source": [
    "hx = 0x1007\n",
    "print(x)\n",
    "print(\"binary :\",bin(hx))\n",
    "print(\"octal :\",oct(hx))\n",
    "print(\"hexa decimal :\",hex(hx))\n",
    "print(id(hx))\n",
    "print(type(hx))\n"
   ]
  },
  {
   "cell_type": "code",
   "execution_count": 10,
   "id": "6b624e4f",
   "metadata": {},
   "outputs": [
    {
     "name": "stdout",
     "output_type": "stream",
     "text": [
      "6.8\n",
      "1678434748880\n",
      "<class 'float'>\n"
     ]
    }
   ],
   "source": [
    "a = 6.8 #float data type\n",
    "print(a)\n",
    "print(id(a))\n",
    "print(type(a))"
   ]
  },
  {
   "cell_type": "code",
   "execution_count": 12,
   "id": "2b9bd934",
   "metadata": {},
   "outputs": [
    {
     "name": "stdout",
     "output_type": "stream",
     "text": [
      "(3+6j)\n",
      "3.0 6.0\n",
      "1678436929392\n",
      "<class 'complex'>\n"
     ]
    }
   ],
   "source": [
    "cmp = 3+6j  # complex datatype\n",
    "print(cmp)\n",
    "print(cmp.real,cmp.imag)  # gives real & imaginary part separately\n",
    "print(id(cmp))\n",
    "print(type(cmp))"
   ]
  },
  {
   "cell_type": "code",
   "execution_count": 28,
   "id": "b71e378b",
   "metadata": {},
   "outputs": [
    {
     "name": "stdout",
     "output_type": "stream",
     "text": [
      "(3+6j)\n",
      "<class 'float'>\n",
      "<class 'float'>\n",
      "<class 'float'>\n",
      "<class 'float'>\n",
      "65637.0\n",
      "<class 'float'>\n",
      "5.0\n",
      "<class 'float'>\n"
     ]
    }
   ],
   "source": [
    "kl = 3+6.2j  # complex datatype\n",
    "oct_cmp = 0x10065+5j\n",
    "print(cmp)\n",
    "print(type(cmp.real)) # type is float\n",
    "print(type(cmp.imag))  \n",
    "print(type(kl.real))\n",
    "print(type(kl.imag)) \n",
    "print(oct_cmp.real)\n",
    "print(type(oct_cmp.real))\n",
    "print(oct_cmp.imag)\n",
    "print(type(oct_cmp.imag)) "
   ]
  },
  {
   "cell_type": "code",
   "execution_count": 18,
   "id": "8aa08771",
   "metadata": {},
   "outputs": [
    {
     "name": "stdout",
     "output_type": "stream",
     "text": [
      "True\n",
      "140735143094816\n",
      "<class 'bool'>\n"
     ]
    }
   ],
   "source": [
    "b=True # boolian datatype (True/False)\n",
    "print(b)\n",
    "print(id(b))\n",
    "print(type(b))"
   ]
  },
  {
   "cell_type": "code",
   "execution_count": 30,
   "id": "c407f3a9",
   "metadata": {},
   "outputs": [
    {
     "name": "stdout",
     "output_type": "stream",
     "text": [
      "nikhil vishwakarma\n",
      "1678450690928\n",
      "<class 'str'>\n"
     ]
    }
   ],
   "source": [
    "s = \"nikhil vishwakarma\"  # string data type\n",
    "print(s)\n",
    "print(id(s))\n",
    "print(type(s))"
   ]
  },
  {
   "cell_type": "code",
   "execution_count": 31,
   "id": "8b58de4c",
   "metadata": {},
   "outputs": [
    {
     "name": "stdout",
     "output_type": "stream",
     "text": [
      "nikhil vishwakarma\n",
      "1678450694928\n",
      "<class 'str'>\n"
     ]
    }
   ],
   "source": [
    "s = 'nikhil vishwakarma'  # string data type\n",
    "print(s)\n",
    "print(id(s))\n",
    "print(type(s))"
   ]
  },
  {
   "cell_type": "code",
   "execution_count": 32,
   "id": "4f641ea4",
   "metadata": {},
   "outputs": [
    {
     "name": "stdout",
     "output_type": "stream",
     "text": [
      "nikhil vishwakarma\n",
      "1678438175072\n",
      "<class 'str'>\n"
     ]
    }
   ],
   "source": [
    "s = '''nikhil vishwakarma'''  # string data type\n",
    "print(s)\n",
    "print(id(s))\n",
    "print(type(s))"
   ]
  },
  {
   "cell_type": "code",
   "execution_count": 33,
   "id": "501ea0a1",
   "metadata": {},
   "outputs": [
    {
     "name": "stdout",
     "output_type": "stream",
     "text": [
      "nikhil vishwakarma\n",
      "1678450701008\n",
      "<class 'str'>\n"
     ]
    }
   ],
   "source": [
    "s = \"\"\"nikhil vishwakarma\"\"\" # string data type\n",
    "print(s)\n",
    "print(id(s))\n",
    "print(type(s))"
   ]
  },
  {
   "cell_type": "code",
   "execution_count": 35,
   "id": "2d80d4f8",
   "metadata": {},
   "outputs": [
    {
     "name": "stdout",
     "output_type": "stream",
     "text": [
      "twincle twincle little star\n",
      "how i wonder what you are\n",
      "up above the sky\n"
     ]
    }
   ],
   "source": [
    "# multi line string is allowed in python\n",
    "poem = \"\"\"twincle twincle little star\n",
    "how i wonder what you are\n",
    "up above the sky\"\"\"\n",
    "\n",
    "print(poem)"
   ]
  },
  {
   "cell_type": "code",
   "execution_count": null,
   "id": "d8d5a226",
   "metadata": {},
   "outputs": [],
   "source": []
  }
 ],
 "metadata": {
  "kernelspec": {
   "display_name": "Python 3 (ipykernel)",
   "language": "python",
   "name": "python3"
  },
  "language_info": {
   "codemirror_mode": {
    "name": "ipython",
    "version": 3
   },
   "file_extension": ".py",
   "mimetype": "text/x-python",
   "name": "python",
   "nbconvert_exporter": "python",
   "pygments_lexer": "ipython3",
   "version": "3.11.3"
  }
 },
 "nbformat": 4,
 "nbformat_minor": 5
}
