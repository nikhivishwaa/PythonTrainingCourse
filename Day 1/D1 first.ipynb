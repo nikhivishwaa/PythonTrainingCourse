{
 "cells": [
  {
   "cell_type": "markdown",
   "id": "11f39ccd",
   "metadata": {},
   "source": [
    "# Start with Python "
   ]
  },
  {
   "cell_type": "code",
   "execution_count": 5,
   "id": "cf42fb02",
   "metadata": {},
   "outputs": [
    {
     "name": "stdout",
     "output_type": "stream",
     "text": [
      "ankush\n"
     ]
    }
   ],
   "source": [
    "print(\"ankush\")"
   ]
  },
  {
   "cell_type": "code",
   "execution_count": 9,
   "id": "5afd7163",
   "metadata": {},
   "outputs": [
    {
     "name": "stdout",
     "output_type": "stream",
     "text": [
      "3.11.3\n"
     ]
    }
   ],
   "source": [
    "from platform import python_version\n",
    "print(python_version())"
   ]
  },
  {
   "cell_type": "code",
   "execution_count": 10,
   "id": "d40dff73",
   "metadata": {},
   "outputs": [
    {
     "name": "stdout",
     "output_type": "stream",
     "text": [
      "['False', 'None', 'True', 'and', 'as', 'assert', 'async', 'await', 'break', 'class', 'continue', 'def', 'del', 'elif', 'else', 'except', 'finally', 'for', 'from', 'global', 'if', 'import', 'in', 'is', 'lambda', 'nonlocal', 'not', 'or', 'pass', 'raise', 'return', 'try', 'while', 'with', 'yield']\n"
     ]
    }
   ],
   "source": [
    "import keyword\n",
    "print(keyword.kwlist)"
   ]
  },
  {
   "cell_type": "code",
   "execution_count": 11,
   "id": "3f9e48e7",
   "metadata": {},
   "outputs": [
    {
     "name": "stdout",
     "output_type": "stream",
     "text": [
      "hello world\n"
     ]
    }
   ],
   "source": [
    "# print f()\n",
    "print(\"hello world\")"
   ]
  },
  {
   "cell_type": "code",
   "execution_count": 17,
   "id": "e5c29767",
   "metadata": {},
   "outputs": [
    {
     "name": "stdout",
     "output_type": "stream",
     "text": [
      "45\n"
     ]
    },
    {
     "data": {
      "text/plain": [
       "45"
      ]
     },
     "execution_count": 17,
     "metadata": {},
     "output_type": "execute_result"
    }
   ],
   "source": [
    "a=45\n",
    "#a\n",
    "print(a)\n",
    "a"
   ]
  },
  {
   "cell_type": "code",
   "execution_count": 18,
   "id": "fcc24124",
   "metadata": {},
   "outputs": [
    {
     "name": "stdout",
     "output_type": "stream",
     "text": [
      "a: 45 10 nikhil 14.6\n"
     ]
    }
   ],
   "source": [
    "print(\"a:\",a,10,\"nikhil\",14.6)"
   ]
  },
  {
   "cell_type": "code",
   "execution_count": 19,
   "id": "9d0a5871",
   "metadata": {},
   "outputs": [
    {
     "name": "stdout",
     "output_type": "stream",
     "text": [
      "nikhil\n",
      "nikhil\n"
     ]
    }
   ],
   "source": [
    "# input f()\n",
    "\n",
    "name =input()\n",
    "print(name)"
   ]
  },
  {
   "cell_type": "code",
   "execution_count": 20,
   "id": "370425e1",
   "metadata": {},
   "outputs": [
    {
     "name": "stdout",
     "output_type": "stream",
     "text": [
      "Enter a No. :154\n",
      "154\n"
     ]
    }
   ],
   "source": [
    "no = input(\"Enter a No. :\")\n",
    "print(no)"
   ]
  },
  {
   "cell_type": "code",
   "execution_count": 23,
   "id": "1d818f66",
   "metadata": {},
   "outputs": [
    {
     "name": "stdout",
     "output_type": "stream",
     "text": [
      "Enter your name :vibhishan\n",
      "enter Roll no. :001\n",
      "vibhishan 001\n"
     ]
    }
   ],
   "source": [
    "name = input(\"Enter your name :\")\n",
    "r_no = input(\"enter Roll no. :\")\n",
    "print(name,r_no)"
   ]
  },
  {
   "cell_type": "code",
   "execution_count": 24,
   "id": "94596e05",
   "metadata": {},
   "outputs": [
    {
     "ename": "NameError",
     "evalue": "name 'k' is not defined",
     "output_type": "error",
     "traceback": [
      "\u001b[1;31m---------------------------------------------------------------------------\u001b[0m",
      "\u001b[1;31mNameError\u001b[0m                                 Traceback (most recent call last)",
      "Cell \u001b[1;32mIn[24], line 1\u001b[0m\n\u001b[1;32m----> 1\u001b[0m k\n",
      "\u001b[1;31mNameError\u001b[0m: name 'k' is not defined"
     ]
    }
   ],
   "source": [
    "k\n",
    "# j\n",
    "# l"
   ]
  },
  {
   "cell_type": "code",
   "execution_count": 26,
   "id": "516f2229",
   "metadata": {},
   "outputs": [
    {
     "name": "stdout",
     "output_type": "stream",
     "text": [
      "enter no 1 :54\n",
      "enter no 2 :46\n",
      "100\n"
     ]
    }
   ],
   "source": [
    "# input takes data as string\n",
    "\n",
    "n1 =input(\"enter no 1 :\")\n",
    "n2 =input(\"enter no 2 :\")\n",
    "print(int(n1)+int(n2))"
   ]
  },
  {
   "cell_type": "code",
   "execution_count": 28,
   "id": "331298d6",
   "metadata": {},
   "outputs": [
    {
     "name": "stdout",
     "output_type": "stream",
     "text": [
      "enter no 1 :45\n",
      "enter no 2 :65\n",
      "enter no 3:48\n",
      "52.666666666666664\n"
     ]
    }
   ],
   "source": [
    "# average of three no.\n",
    "\n",
    "a1 =int(input(\"enter no 1 :\"))\n",
    "a2 =int(input(\"enter no 2 :\"))\n",
    "a3 = int(input(\"enter no 3:\"))\n",
    "print((a1+a2+a3)/3)"
   ]
  },
  {
   "cell_type": "code",
   "execution_count": 29,
   "id": "fb7e9db2",
   "metadata": {},
   "outputs": [
    {
     "name": "stdout",
     "output_type": "stream",
     "text": [
      "11?11\n"
     ]
    }
   ],
   "source": [
    "# sep parameter\n",
    "\n",
    "print(11,11,sep=\"?\")"
   ]
  },
  {
   "cell_type": "code",
   "execution_count": 32,
   "id": "838259a3",
   "metadata": {},
   "outputs": [
    {
     "name": "stdout",
     "output_type": "stream",
     "text": [
      "hi\n",
      "harry\n",
      "\n",
      "whats\tup\n"
     ]
    }
   ],
   "source": [
    "# escape sequences\n",
    "\n",
    "print(\"hi\\nharry\")\n",
    "print()\n",
    "print(\"whats\\tup\")"
   ]
  },
  {
   "cell_type": "code",
   "execution_count": 34,
   "id": "69e66f44",
   "metadata": {},
   "outputs": [
    {
     "name": "stdout",
     "output_type": "stream",
     "text": [
      "nikhil is \"student\"\n"
     ]
    }
   ],
   "source": [
    "# output in \"\"\n",
    "\n",
    "print(\"nikhil is \\\"student\\\"\")"
   ]
  },
  {
   "cell_type": "code",
   "execution_count": null,
   "id": "3c9754dd",
   "metadata": {},
   "outputs": [],
   "source": []
  }
 ],
 "metadata": {
  "kernelspec": {
   "display_name": "Python 3 (ipykernel)",
   "language": "python",
   "name": "python3"
  },
  "language_info": {
   "codemirror_mode": {
    "name": "ipython",
    "version": 3
   },
   "file_extension": ".py",
   "mimetype": "text/x-python",
   "name": "python",
   "nbconvert_exporter": "python",
   "pygments_lexer": "ipython3",
   "version": "3.11.3"
  }
 },
 "nbformat": 4,
 "nbformat_minor": 5
}
