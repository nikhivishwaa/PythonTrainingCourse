{
 "cells": [
  {
   "cell_type": "markdown",
   "id": "3f688d4c",
   "metadata": {},
   "source": [
    "# Tupple and Its Functions"
   ]
  },
  {
   "cell_type": "code",
   "execution_count": 8,
   "id": "424003d1",
   "metadata": {},
   "outputs": [
    {
     "name": "stdout",
     "output_type": "stream",
     "text": [
      "()\n",
      "1\n",
      "(1, 2, 5, 8, 4, 6, 'nikhil', 'vivek')\n",
      "2783256325792\n",
      "<class 'tuple'>\n"
     ]
    }
   ],
   "source": [
    "t1=()  # empty tupple\n",
    "print(t1)\n",
    "t2=(1)\n",
    "print(t2)\n",
    "t=(1,2,5,8,4,6,\"nikhil\",\"vivek\")\n",
    "print(t)\n",
    "print(id(t))\n",
    "print(type(t))"
   ]
  },
  {
   "cell_type": "code",
   "execution_count": 3,
   "id": "7262f62c",
   "metadata": {},
   "outputs": [
    {
     "data": {
      "text/plain": [
       "'i'"
      ]
     },
     "execution_count": 3,
     "metadata": {},
     "output_type": "execute_result"
    }
   ],
   "source": [
    "t[6][1]"
   ]
  },
  {
   "cell_type": "code",
   "execution_count": 4,
   "id": "50ce6685",
   "metadata": {},
   "outputs": [
    {
     "data": {
      "text/plain": [
       "8"
      ]
     },
     "execution_count": 4,
     "metadata": {},
     "output_type": "execute_result"
    }
   ],
   "source": [
    "len(t)"
   ]
  },
  {
   "cell_type": "code",
   "execution_count": 11,
   "id": "5bc6330e",
   "metadata": {},
   "outputs": [
    {
     "data": {
      "text/plain": [
       "5"
      ]
     },
     "execution_count": 11,
     "metadata": {},
     "output_type": "execute_result"
    }
   ],
   "source": [
    "tup=(1,7,3,1,2,2,2,2,2,6,\"nikhil\")\n",
    "tup.count(2)"
   ]
  },
  {
   "cell_type": "code",
   "execution_count": 12,
   "id": "72e22c7b",
   "metadata": {},
   "outputs": [
    {
     "data": {
      "text/plain": [
       "4"
      ]
     },
     "execution_count": 12,
     "metadata": {},
     "output_type": "execute_result"
    }
   ],
   "source": [
    "tup.index(2)  # it returns from first index where the element was found"
   ]
  },
  {
   "cell_type": "code",
   "execution_count": 14,
   "id": "1cc28439",
   "metadata": {},
   "outputs": [
    {
     "name": "stdout",
     "output_type": "stream",
     "text": [
      "(2, 4, 6, 5, 66)\n",
      "(5, 66, 2, 4, 6)\n"
     ]
    }
   ],
   "source": [
    "t1=(2,4,6)\n",
    "t2=(5,66)\n",
    "print(t1+t2)\n",
    "print(t2+t1)"
   ]
  },
  {
   "cell_type": "code",
   "execution_count": 16,
   "id": "321efa5e",
   "metadata": {},
   "outputs": [
    {
     "name": "stdout",
     "output_type": "stream",
     "text": [
      "(5, 66, 5, 66)\n"
     ]
    },
    {
     "ename": "TypeError",
     "evalue": "can't multiply sequence by non-int of type 'tuple'",
     "output_type": "error",
     "traceback": [
      "\u001b[1;31m---------------------------------------------------------------------------\u001b[0m",
      "\u001b[1;31mTypeError\u001b[0m                                 Traceback (most recent call last)",
      "Cell \u001b[1;32mIn[16], line 4\u001b[0m\n\u001b[0;32m      2\u001b[0m t2\u001b[38;5;241m=\u001b[39m(\u001b[38;5;241m5\u001b[39m,\u001b[38;5;241m66\u001b[39m)\n\u001b[0;32m      3\u001b[0m \u001b[38;5;28mprint\u001b[39m(t2\u001b[38;5;241m*\u001b[39m\u001b[38;5;241m2\u001b[39m)\n\u001b[1;32m----> 4\u001b[0m \u001b[38;5;28mprint\u001b[39m(t1\u001b[38;5;241m*\u001b[39mt2)\n",
      "\u001b[1;31mTypeError\u001b[0m: can't multiply sequence by non-int of type 'tuple'"
     ]
    }
   ],
   "source": [
    "t1=(2,4,6)\n",
    "t2=(5,66)\n",
    "print(t2*2)\n",
    "print(t1*t2)   # throws an error"
   ]
  },
  {
   "cell_type": "markdown",
   "id": "6f908cb2",
   "metadata": {},
   "source": [
    "# Tupple Packing and Unpacking"
   ]
  },
  {
   "cell_type": "code",
   "execution_count": 17,
   "id": "50fc229f",
   "metadata": {},
   "outputs": [
    {
     "name": "stdout",
     "output_type": "stream",
     "text": [
      "(1, 2, 3, 4, 5, 'vivek', 75.6)\n",
      "<class 'tuple'>\n"
     ]
    }
   ],
   "source": [
    "t=1,2,3,4,5,\"vivek\",75.6\n",
    "print(t)\n",
    "print(type(t))\n"
   ]
  },
  {
   "cell_type": "code",
   "execution_count": 20,
   "id": "ccc36adb",
   "metadata": {},
   "outputs": [
    {
     "name": "stdout",
     "output_type": "stream",
     "text": [
      "(1, 2, 3, 4, 5, 'n')\n",
      "<class 'tuple'>\n",
      "1 2 3 4 5 n\n",
      "<class 'int'>\n",
      "<class 'str'>\n"
     ]
    }
   ],
   "source": [
    "t=1,2,3,4,5,\"n\"  # tupple packing\n",
    "a,b,c,d,e,f=t           # tupple unpacking\n",
    "print(t)\n",
    "print(type(t))\n",
    "print(a,b,c,d,e,f)\n",
    "print(type(a))\n",
    "print(type(f))"
   ]
  },
  {
   "cell_type": "code",
   "execution_count": 22,
   "id": "13baa285",
   "metadata": {},
   "outputs": [
    {
     "name": "stdout",
     "output_type": "stream",
     "text": [
      "<generator object <genexpr> at 0x00000288057F98A0>\n",
      "<class 'generator'>\n"
     ]
    }
   ],
   "source": [
    "# tupple comprehension is not possible in tupple\n",
    "x=(i for i in range(1,10)) # do not generate tupple\n",
    "print(x)\n",
    "print(type(x))"
   ]
  },
  {
   "cell_type": "markdown",
   "id": "c0d6a888",
   "metadata": {},
   "source": [
    "# Set and its Functions"
   ]
  },
  {
   "cell_type": "code",
   "execution_count": 23,
   "id": "e3bb9c96",
   "metadata": {},
   "outputs": [
    {
     "name": "stdout",
     "output_type": "stream",
     "text": [
      "{}\n",
      "<class 'dict'>\n"
     ]
    }
   ],
   "source": [
    "# Empty set is not allowed in python\n",
    "s={}\n",
    "print(s)\n",
    "print(type(s))"
   ]
  },
  {
   "cell_type": "code",
   "execution_count": 26,
   "id": "b6f785cf",
   "metadata": {},
   "outputs": [
    {
     "name": "stdout",
     "output_type": "stream",
     "text": [
      "{0, 1, 6, 15, 54, 23, 'nikhil', 25, 56}\n",
      "<class 'set'>\n"
     ]
    }
   ],
   "source": [
    "s={1,23,54,6,15, \"nikhil\",56,1,0,25}\n",
    "print(s)\n",
    "print(type(s))"
   ]
  },
  {
   "cell_type": "code",
   "execution_count": 27,
   "id": "21847e96",
   "metadata": {},
   "outputs": [
    {
     "name": "stdout",
     "output_type": "stream",
     "text": [
      "{1, 4}\n",
      "{0, 1, 2, 3, 4, 5, 6, 9}\n",
      "{2, 3, 6}\n"
     ]
    }
   ],
   "source": [
    "p={1,2,3,4,6}\n",
    "q={4,9,1,0,5}\n",
    "print(p.intersection(q))  # common variables\n",
    "print(p.union(q))         \n",
    "print(p.difference(q))"
   ]
  },
  {
   "cell_type": "code",
   "execution_count": 28,
   "id": "2f18d3d5",
   "metadata": {},
   "outputs": [
    {
     "name": "stdout",
     "output_type": "stream",
     "text": [
      "{1, 2, 3, 4, 6, 'sistec'}\n"
     ]
    }
   ],
   "source": [
    "p.add(\"sistec\")\n",
    "print(p)"
   ]
  },
  {
   "cell_type": "code",
   "execution_count": 29,
   "id": "81c20e87",
   "metadata": {},
   "outputs": [
    {
     "name": "stdout",
     "output_type": "stream",
     "text": [
      "{2, 4, 6, 8, 10}\n"
     ]
    }
   ],
   "source": [
    "x={i for i in range(1,11) if i%2==0}\n",
    "print(x)"
   ]
  },
  {
   "cell_type": "markdown",
   "id": "182b2d27",
   "metadata": {},
   "source": [
    "# Dictionary and its Functions"
   ]
  },
  {
   "cell_type": "code",
   "execution_count": 31,
   "id": "2c5846f0",
   "metadata": {},
   "outputs": [
    {
     "name": "stdout",
     "output_type": "stream",
     "text": [
      "{'key': 'value'}\n",
      "2783270690496\n",
      "<class 'dict'>\n"
     ]
    }
   ],
   "source": [
    "d={\"key\":\"value\"}\n",
    "print(d)\n",
    "print(id(d))\n",
    "print(type(d))"
   ]
  },
  {
   "cell_type": "code",
   "execution_count": 45,
   "id": "e9887718",
   "metadata": {},
   "outputs": [
    {
     "name": "stdout",
     "output_type": "stream",
     "text": [
      "{1: 'nikhil', 2: 'sandeep', 3: 'ankit', 4: 'Rahul'}\n",
      "2783270691968\n",
      "<class 'dict'>\n"
     ]
    }
   ],
   "source": [
    "d={1:\"nikhil\",2:\"sandeep\",3:\"ankit\",4:\"Rahul\"}\n",
    "print(d)\n",
    "print(id(d))\n",
    "print(type(d))"
   ]
  },
  {
   "cell_type": "code",
   "execution_count": 46,
   "id": "d8f600a1",
   "metadata": {},
   "outputs": [
    {
     "ename": "KeyError",
     "evalue": "0",
     "output_type": "error",
     "traceback": [
      "\u001b[1;31m---------------------------------------------------------------------------\u001b[0m",
      "\u001b[1;31mKeyError\u001b[0m                                  Traceback (most recent call last)",
      "Cell \u001b[1;32mIn[46], line 1\u001b[0m\n\u001b[1;32m----> 1\u001b[0m \u001b[38;5;28mprint\u001b[39m(d[\u001b[38;5;241m0\u001b[39m])\n",
      "\u001b[1;31mKeyError\u001b[0m: 0"
     ]
    }
   ],
   "source": [
    "print(d[0])"
   ]
  },
  {
   "cell_type": "code",
   "execution_count": 47,
   "id": "78f86d93",
   "metadata": {},
   "outputs": [
    {
     "name": "stdout",
     "output_type": "stream",
     "text": [
      "nikhil\n"
     ]
    }
   ],
   "source": [
    "print(d[1])  # key is the index "
   ]
  },
  {
   "cell_type": "code",
   "execution_count": 48,
   "id": "980e9ccb",
   "metadata": {},
   "outputs": [
    {
     "name": "stdout",
     "output_type": "stream",
     "text": [
      "{1: 'nikhil', 2: 'sandeep', 3: 'ankit', 4: 'Rahul'}\n",
      "dict_keys([1, 2, 3, 4])\n",
      "<class 'dict_keys'>\n"
     ]
    }
   ],
   "source": [
    "d.keys()\n",
    "print(d)\n",
    "print(d.keys())\n",
    "print(type(d.keys()))"
   ]
  },
  {
   "cell_type": "code",
   "execution_count": 49,
   "id": "aaceba74",
   "metadata": {},
   "outputs": [
    {
     "data": {
      "text/plain": [
       "dict_values(['nikhil', 'sandeep', 'ankit', 'Rahul'])"
      ]
     },
     "execution_count": 49,
     "metadata": {},
     "output_type": "execute_result"
    }
   ],
   "source": [
    "d.values()"
   ]
  },
  {
   "cell_type": "code",
   "execution_count": 50,
   "id": "5dd041c5",
   "metadata": {},
   "outputs": [
    {
     "data": {
      "text/plain": [
       "'sandeep'"
      ]
     },
     "execution_count": 50,
     "metadata": {},
     "output_type": "execute_result"
    }
   ],
   "source": [
    "d.get(2)"
   ]
  },
  {
   "cell_type": "code",
   "execution_count": 51,
   "id": "a22035a7",
   "metadata": {},
   "outputs": [
    {
     "name": "stdout",
     "output_type": "stream",
     "text": [
      "dict_items([(1, 'nikhil'), (2, 'sandeep'), (3, 'ankit'), (4, 'Rahul')])\n"
     ]
    }
   ],
   "source": [
    "print(d.items())"
   ]
  },
  {
   "cell_type": "code",
   "execution_count": 52,
   "id": "f17bfe7e",
   "metadata": {},
   "outputs": [
    {
     "data": {
      "text/plain": [
       "'sandeep'"
      ]
     },
     "execution_count": 52,
     "metadata": {},
     "output_type": "execute_result"
    }
   ],
   "source": [
    "d.pop(2)  # delete the the value of that key"
   ]
  },
  {
   "cell_type": "code",
   "execution_count": 53,
   "id": "c0556780",
   "metadata": {},
   "outputs": [
    {
     "ename": "KeyError",
     "evalue": "'a'",
     "output_type": "error",
     "traceback": [
      "\u001b[1;31m---------------------------------------------------------------------------\u001b[0m",
      "\u001b[1;31mKeyError\u001b[0m                                  Traceback (most recent call last)",
      "Cell \u001b[1;32mIn[53], line 1\u001b[0m\n\u001b[1;32m----> 1\u001b[0m d\u001b[38;5;241m.\u001b[39mpop(\u001b[38;5;124m\"\u001b[39m\u001b[38;5;124ma\u001b[39m\u001b[38;5;124m\"\u001b[39m)\n",
      "\u001b[1;31mKeyError\u001b[0m: 'a'"
     ]
    }
   ],
   "source": [
    "d.pop(\"a\")"
   ]
  },
  {
   "cell_type": "code",
   "execution_count": 54,
   "id": "062d8a1f",
   "metadata": {},
   "outputs": [],
   "source": [
    "d.clear()  # clear all the elements of dictionary and return empty dictionary "
   ]
  },
  {
   "cell_type": "code",
   "execution_count": 55,
   "id": "baf254b5",
   "metadata": {},
   "outputs": [
    {
     "name": "stdout",
     "output_type": "stream",
     "text": [
      "{}\n",
      "<class 'dict'>\n"
     ]
    }
   ],
   "source": [
    "print(d)\n",
    "print(type(d))"
   ]
  },
  {
   "cell_type": "code",
   "execution_count": 57,
   "id": "4f011197",
   "metadata": {},
   "outputs": [
    {
     "ename": "ValueError",
     "evalue": "dictionary update sequence element #0 has length 6; 2 is required",
     "output_type": "error",
     "traceback": [
      "\u001b[1;31m---------------------------------------------------------------------------\u001b[0m",
      "\u001b[1;31mValueError\u001b[0m                                Traceback (most recent call last)",
      "Cell \u001b[1;32mIn[57], line 2\u001b[0m\n\u001b[0;32m      1\u001b[0m l\u001b[38;5;241m=\u001b[39m[\u001b[38;5;124m\"\u001b[39m\u001b[38;5;124mnikhil\u001b[39m\u001b[38;5;124m\"\u001b[39m,\u001b[38;5;124m\"\u001b[39m\u001b[38;5;124mmonu\u001b[39m\u001b[38;5;124m\"\u001b[39m,\u001b[38;5;124m\"\u001b[39m\u001b[38;5;124msonu\u001b[39m\u001b[38;5;124m\"\u001b[39m]\n\u001b[1;32m----> 2\u001b[0m d\u001b[38;5;241m=\u001b[39m\u001b[38;5;28mdict\u001b[39m(l)\n",
      "\u001b[1;31mValueError\u001b[0m: dictionary update sequence element #0 has length 6; 2 is required"
     ]
    }
   ],
   "source": [
    "l=[\"nikhil\",\"monu\",\"sonu\"]\n",
    "d=dict(l)"
   ]
  },
  {
   "cell_type": "code",
   "execution_count": 58,
   "id": "b34a4ff6",
   "metadata": {},
   "outputs": [
    {
     "name": "stdout",
     "output_type": "stream",
     "text": [
      "{1: {'n': 'nikhil'}, 2: {'b': 'bittu'}}\n"
     ]
    }
   ],
   "source": [
    "d1={1:{\"n\":\"nikhil\"},2:{\"b\":\"bittu\"}}  # nesting of dictionary\n",
    "print(d1)"
   ]
  },
  {
   "cell_type": "code",
   "execution_count": null,
   "id": "7cb9bce9",
   "metadata": {},
   "outputs": [],
   "source": []
  }
 ],
 "metadata": {
  "kernelspec": {
   "display_name": "Python 3 (ipykernel)",
   "language": "python",
   "name": "python3"
  },
  "language_info": {
   "codemirror_mode": {
    "name": "ipython",
    "version": 3
   },
   "file_extension": ".py",
   "mimetype": "text/x-python",
   "name": "python",
   "nbconvert_exporter": "python",
   "pygments_lexer": "ipython3",
   "version": "3.11.3"
  }
 },
 "nbformat": 4,
 "nbformat_minor": 5
}
