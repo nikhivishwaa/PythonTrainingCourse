{
 "cells": [
  {
   "cell_type": "markdown",
   "id": "ba8ec811",
   "metadata": {},
   "source": [
    "# List and its Functions"
   ]
  },
  {
   "cell_type": "code",
   "execution_count": 15,
   "id": "87866696",
   "metadata": {},
   "outputs": [
    {
     "name": "stdout",
     "output_type": "stream",
     "text": [
      "[1, 10, 2, 3, 'CSE', 'AI&DS', ['a', 'b'], (3, 7)]\n",
      "2371603179648\n",
      "<class 'list'>\n"
     ]
    }
   ],
   "source": [
    "l=[1,10,2,3,\"CSE\",\"AI&DS\",[\"a\",\"b\"],(3,7)]\n",
    "print(l)\n",
    "print(id(l))\n",
    "print(type(l))"
   ]
  },
  {
   "cell_type": "code",
   "execution_count": 16,
   "id": "707a1f50",
   "metadata": {},
   "outputs": [
    {
     "name": "stdout",
     "output_type": "stream",
     "text": [
      "[1, 2, 3, 4, 5]\n"
     ]
    }
   ],
   "source": [
    "t=(1,2,3,4,5)\n",
    "ll=list(t)\n",
    "print(ll)"
   ]
  },
  {
   "cell_type": "code",
   "execution_count": 17,
   "id": "e7173257",
   "metadata": {},
   "outputs": [
    {
     "name": "stdout",
     "output_type": "stream",
     "text": [
      "[1, 10, 2, 3, 'CSE', 'AI&DS', ['a', 'b'], (3, 7)]\n",
      "CSE\n",
      "a\n"
     ]
    }
   ],
   "source": [
    "print(l)\n",
    "print(l[4])\n",
    "print(l[6][0])"
   ]
  },
  {
   "cell_type": "code",
   "execution_count": 18,
   "id": "4445cd37",
   "metadata": {},
   "outputs": [
    {
     "data": {
      "text/plain": [
       "8"
      ]
     },
     "execution_count": 18,
     "metadata": {},
     "output_type": "execute_result"
    }
   ],
   "source": [
    "len(l)"
   ]
  },
  {
   "cell_type": "code",
   "execution_count": 19,
   "id": "6499ac66",
   "metadata": {},
   "outputs": [
    {
     "name": "stdout",
     "output_type": "stream",
     "text": [
      "[1, 10, 2, 3, 'CSE', 'AI&DS', ['a', 'b'], (3, 7), 'nikhil']\n"
     ]
    }
   ],
   "source": [
    "l.append(\"nikhil\")  # this f( make the list mutable)\n",
    "print(l)"
   ]
  },
  {
   "cell_type": "code",
   "execution_count": 20,
   "id": "0b0611d3",
   "metadata": {},
   "outputs": [
    {
     "name": "stdout",
     "output_type": "stream",
     "text": [
      "[1, 10, 2, 3, 'CSE', 'AI&DS', ['a', 'b'], (3, 7), 'nikhil', (1, 2, 3, 4, 5)]\n"
     ]
    }
   ],
   "source": [
    "l.append(t)  # it aad on the element in the last\n",
    "print(l)"
   ]
  },
  {
   "cell_type": "code",
   "execution_count": 21,
   "id": "ada99967",
   "metadata": {},
   "outputs": [
    {
     "ename": "TypeError",
     "evalue": "list.count() takes exactly one argument (0 given)",
     "output_type": "error",
     "traceback": [
      "\u001b[1;31m---------------------------------------------------------------------------\u001b[0m",
      "\u001b[1;31mTypeError\u001b[0m                                 Traceback (most recent call last)",
      "Cell \u001b[1;32mIn[21], line 1\u001b[0m\n\u001b[1;32m----> 1\u001b[0m l\u001b[38;5;241m.\u001b[39mcount()\n",
      "\u001b[1;31mTypeError\u001b[0m: list.count() takes exactly one argument (0 given)"
     ]
    }
   ],
   "source": [
    "l.count()  # throws error"
   ]
  },
  {
   "cell_type": "code",
   "execution_count": 23,
   "id": "f5e7da39",
   "metadata": {},
   "outputs": [
    {
     "data": {
      "text/plain": [
       "1"
      ]
     },
     "execution_count": 23,
     "metadata": {},
     "output_type": "execute_result"
    }
   ],
   "source": [
    "l.count(1)"
   ]
  },
  {
   "cell_type": "code",
   "execution_count": 26,
   "id": "e54d6738",
   "metadata": {},
   "outputs": [
    {
     "name": "stdout",
     "output_type": "stream",
     "text": [
      "[1, 10, 2, 3, 'CSE', 'AI&DS', ['a', 'b'], (3, 7), 'nikhil', (1, 2, 3, 4, 5)]\n",
      "8\n"
     ]
    },
    {
     "ename": "ValueError",
     "evalue": "8 is not in list",
     "output_type": "error",
     "traceback": [
      "\u001b[1;31m---------------------------------------------------------------------------\u001b[0m",
      "\u001b[1;31mValueError\u001b[0m                                Traceback (most recent call last)",
      "Cell \u001b[1;32mIn[26], line 3\u001b[0m\n\u001b[0;32m      1\u001b[0m \u001b[38;5;28mprint\u001b[39m(l)\n\u001b[0;32m      2\u001b[0m \u001b[38;5;28mprint\u001b[39m(l\u001b[38;5;241m.\u001b[39mindex(\u001b[38;5;124m\"\u001b[39m\u001b[38;5;124mnikhil\u001b[39m\u001b[38;5;124m\"\u001b[39m))  \u001b[38;5;66;03m# gives index value if element is present in list else gives error\u001b[39;00m\n\u001b[1;32m----> 3\u001b[0m \u001b[38;5;28mprint\u001b[39m(l\u001b[38;5;241m.\u001b[39mindex(\u001b[38;5;241m8\u001b[39m))\n",
      "\u001b[1;31mValueError\u001b[0m: 8 is not in list"
     ]
    }
   ],
   "source": [
    "print(l)\n",
    "print(l.index(\"nikhil\"))  # gives index value if element is present in list else gives error\n",
    "print(l.index(8))"
   ]
  },
  {
   "cell_type": "code",
   "execution_count": 28,
   "id": "462d8a08",
   "metadata": {},
   "outputs": [
    {
     "name": "stdout",
     "output_type": "stream",
     "text": [
      "[1, 10, 2, 'hi', 3, 'CSE', 'AI&DS', ['a', 'b'], (3, 7), 'nikhil', (1, 2, 3, 4, 5)]\n",
      "[1, 10, 2, 'hi', 'hi', 3, 'CSE', 'AI&DS', ['a', 'b'], (3, 7), 'nikhil', (1, 2, 3, 4, 5)]\n"
     ]
    }
   ],
   "source": [
    "print(l)\n",
    "l.insert(3,\"hi\")   # it insert the elment on selsected index (index,value)\n",
    "print(l)"
   ]
  },
  {
   "cell_type": "code",
   "execution_count": 31,
   "id": "078c18c0",
   "metadata": {},
   "outputs": [
    {
     "name": "stdout",
     "output_type": "stream",
     "text": [
      "[1, 2, 3, 4, 5, ['nikhil', 'pankaj', 'saurabh']]\n"
     ]
    }
   ],
   "source": [
    "x=[1,2,3,4,5]\n",
    "y=[\"nikhil\",\"pankaj\",\"saurabh\"]\n",
    "x.append(y)  # append complete list as a single element\n",
    "print(x)\n"
   ]
  },
  {
   "cell_type": "code",
   "execution_count": 32,
   "id": "cc94b318",
   "metadata": {},
   "outputs": [
    {
     "name": "stdout",
     "output_type": "stream",
     "text": [
      "[1, 2, 3, 4, 5, 'nikhil', 'pankaj', 'saurabh']\n"
     ]
    }
   ],
   "source": [
    "x=[1,2,3,4,5]\n",
    "y=[\"nikhil\",\"pankaj\",\"saurabh\"]\n",
    "x.extend(y)  # it extend list x and add element of list y in list x\n",
    "print(x)"
   ]
  },
  {
   "cell_type": "code",
   "execution_count": 38,
   "id": "9b5d0d9a",
   "metadata": {},
   "outputs": [
    {
     "name": "stdout",
     "output_type": "stream",
     "text": [
      "[1, 2, 3, 4, 5, 'nikhil', 'pankaj', 'saurabh']\n"
     ]
    }
   ],
   "source": [
    "x=[1,2,3,4,5]\n",
    "y=(\"nikhil\",\"pankaj\",\"saurabh\")\n",
    "# 1st object should be list\n",
    "x.extend(y)  # it extend list x and add element of list y in list x\n",
    "print(x)"
   ]
  },
  {
   "cell_type": "code",
   "execution_count": 41,
   "id": "40bb2a2f",
   "metadata": {},
   "outputs": [
    {
     "name": "stdout",
     "output_type": "stream",
     "text": [
      "[1, 2, 3, 4, 5, 'nikhil', 'saurabh', 'pankaj']\n"
     ]
    }
   ],
   "source": [
    "x=[1,2,3,4,5]\n",
    "y={\"nikhil\",\"pankaj\",\"saurabh\"}\n",
    "# 1st object should be list\n",
    "x.extend(y)  # it extend list x and add element of list y in list x\n",
    "print(x)"
   ]
  },
  {
   "cell_type": "code",
   "execution_count": 43,
   "id": "4c43cbcc",
   "metadata": {},
   "outputs": [
    {
     "name": "stdout",
     "output_type": "stream",
     "text": [
      "['nikhil', 'nikhil', 'vivek', 'geetesh']\n",
      "['nikhil', 'vivek', 'geetesh']\n"
     ]
    }
   ],
   "source": [
    "x=[\"nikhil\",\"nikhil\",\"vivek\",\"geetesh\"]\n",
    "print(x)\n",
    "x.remove(\"nikhil\")  # removes the element\n",
    "print(x)"
   ]
  },
  {
   "cell_type": "code",
   "execution_count": 44,
   "id": "f8e49bed",
   "metadata": {},
   "outputs": [
    {
     "name": "stdout",
     "output_type": "stream",
     "text": [
      "['nikhil', 'vivek', 'geetesh']\n"
     ]
    },
    {
     "ename": "ValueError",
     "evalue": "list.remove(x): x not in list",
     "output_type": "error",
     "traceback": [
      "\u001b[1;31m---------------------------------------------------------------------------\u001b[0m",
      "\u001b[1;31mValueError\u001b[0m                                Traceback (most recent call last)",
      "Cell \u001b[1;32mIn[44], line 2\u001b[0m\n\u001b[0;32m      1\u001b[0m \u001b[38;5;28mprint\u001b[39m(x)\n\u001b[1;32m----> 2\u001b[0m x\u001b[38;5;241m.\u001b[39mremove(\u001b[38;5;124m\"\u001b[39m\u001b[38;5;124msaurabh\u001b[39m\u001b[38;5;124m\"\u001b[39m)  \u001b[38;5;66;03m# throws an error\u001b[39;00m\n\u001b[0;32m      3\u001b[0m \u001b[38;5;28mprint\u001b[39m(x)\n",
      "\u001b[1;31mValueError\u001b[0m: list.remove(x): x not in list"
     ]
    }
   ],
   "source": [
    "print(x)\n",
    "x.remove(\"saurabh\")  # throws an error\n",
    "print(x)"
   ]
  },
  {
   "cell_type": "code",
   "execution_count": 45,
   "id": "6e3ec5ef",
   "metadata": {},
   "outputs": [
    {
     "name": "stdout",
     "output_type": "stream",
     "text": [
      "['nikhil', 'vivek', 'geetesh']\n"
     ]
    },
    {
     "ename": "TypeError",
     "evalue": "list.remove() takes exactly one argument (2 given)",
     "output_type": "error",
     "traceback": [
      "\u001b[1;31m---------------------------------------------------------------------------\u001b[0m",
      "\u001b[1;31mTypeError\u001b[0m                                 Traceback (most recent call last)",
      "Cell \u001b[1;32mIn[45], line 2\u001b[0m\n\u001b[0;32m      1\u001b[0m \u001b[38;5;28mprint\u001b[39m(x)\n\u001b[1;32m----> 2\u001b[0m x\u001b[38;5;241m.\u001b[39mremove(\u001b[38;5;124m\"\u001b[39m\u001b[38;5;124mvivek\u001b[39m\u001b[38;5;124m\"\u001b[39m,\u001b[38;5;124m\"\u001b[39m\u001b[38;5;124mnikhil\u001b[39m\u001b[38;5;124m\"\u001b[39m)  \u001b[38;5;66;03m# only one argument is allowed\u001b[39;00m\n\u001b[0;32m      3\u001b[0m \u001b[38;5;28mprint\u001b[39m(x)\n",
      "\u001b[1;31mTypeError\u001b[0m: list.remove() takes exactly one argument (2 given)"
     ]
    }
   ],
   "source": [
    "print(x)\n",
    "x.remove(\"vivek\",\"nikhil\")  # only one argument is allowed\n",
    "print(x)"
   ]
  },
  {
   "cell_type": "code",
   "execution_count": 49,
   "id": "d372f2ab",
   "metadata": {},
   "outputs": [
    {
     "name": "stdout",
     "output_type": "stream",
     "text": [
      "[2, 3, 4, 5, 6, 7]\n",
      "[2, 3, 4, 6, 7]\n"
     ]
    }
   ],
   "source": [
    "x=[1,2,3,4,5,6,7]\n",
    "x.remove(1)\n",
    "print(x)\n",
    "x.pop(3) # it remove the element on index\n",
    "print(x)"
   ]
  },
  {
   "cell_type": "code",
   "execution_count": 50,
   "id": "931e137b",
   "metadata": {},
   "outputs": [
    {
     "name": "stdout",
     "output_type": "stream",
     "text": [
      "[1, 4, 88, 4, 9, 1, 55, 7, 8]\n",
      "[1, 1, 4, 4, 7, 8, 9, 55, 88]\n"
     ]
    }
   ],
   "source": [
    "x=[1,4,88,4,9,1,55,7,8]\n",
    "print(x)\n",
    "x.sort()  # accending order is default\n",
    "print(x)"
   ]
  },
  {
   "cell_type": "code",
   "execution_count": 51,
   "id": "2497ad46",
   "metadata": {},
   "outputs": [
    {
     "name": "stdout",
     "output_type": "stream",
     "text": [
      "[1, 1, 4, 4, 7, 8, 9, 55, 88]\n",
      "[88, 55, 9, 8, 7, 4, 4, 1, 1]\n"
     ]
    }
   ],
   "source": [
    "print(x)\n",
    "x.sort(reverse=True)  # it return list in decending order\n",
    "print(x)"
   ]
  },
  {
   "cell_type": "code",
   "execution_count": 53,
   "id": "c8ce668c",
   "metadata": {},
   "outputs": [
    {
     "name": "stdout",
     "output_type": "stream",
     "text": [
      "[1, 2, 10, 'hi', 'hi', 3, 'CSE', 'AI&DS', ['a', 'b'], (3, 7), 'nikhil', (1, 2, 3, 4, 5)]\n"
     ]
    },
    {
     "ename": "TypeError",
     "evalue": "'<' not supported between instances of 'str' and 'int'",
     "output_type": "error",
     "traceback": [
      "\u001b[1;31m---------------------------------------------------------------------------\u001b[0m",
      "\u001b[1;31mTypeError\u001b[0m                                 Traceback (most recent call last)",
      "Cell \u001b[1;32mIn[53], line 2\u001b[0m\n\u001b[0;32m      1\u001b[0m \u001b[38;5;28mprint\u001b[39m(l)\n\u001b[1;32m----> 2\u001b[0m l\u001b[38;5;241m.\u001b[39msort()  \u001b[38;5;66;03m# throws error because it works on homogeneous values(list) but l has hectogeneous values\u001b[39;00m\n\u001b[0;32m      3\u001b[0m \u001b[38;5;28mprint\u001b[39m(l)\n",
      "\u001b[1;31mTypeError\u001b[0m: '<' not supported between instances of 'str' and 'int'"
     ]
    }
   ],
   "source": [
    "print(l)\n",
    "l.sort()  # throws error because it works on homogeneous values(list) but l has hectogeneous values\n",
    "print(l)"
   ]
  },
  {
   "cell_type": "markdown",
   "id": "306a2652",
   "metadata": {},
   "source": [
    "# Aliasing And Cloning"
   ]
  },
  {
   "cell_type": "raw",
   "id": "c1629e42",
   "metadata": {},
   "source": [
    "List Aliasing"
   ]
  },
  {
   "cell_type": "code",
   "execution_count": 56,
   "id": "adec7c6a",
   "metadata": {},
   "outputs": [
    {
     "name": "stdout",
     "output_type": "stream",
     "text": [
      "[1, 5, 8, 2, 6, 8]\n",
      "2371604298176\n",
      "<class 'list'>\n",
      "[1, 5, 8, 2, 6, 8]\n",
      "2371604298176\n",
      "<class 'list'>\n",
      "[1, 5, 8, 2, 6, 8, 56]\n",
      "2371604298176\n",
      "<class 'list'>\n",
      "[1, 5, 8, 2, 6, 8, 56]\n",
      "2371604298176\n",
      "<class 'list'>\n"
     ]
    }
   ],
   "source": [
    "x=[1,5,8,2,6,8]\n",
    "y=x  # in aliasing we have single original copy\n",
    "print(x)\n",
    "print(id(x))\n",
    "print(type(x))\n",
    "print(y)\n",
    "print(id(y))\n",
    "print(type(y))\n",
    "# y.append(66)\n",
    "x.append(56)\n",
    "print(x)\n",
    "print(id(x))\n",
    "print(type(x))\n",
    "print(y)\n",
    "print(id(y))\n",
    "print(type(y))"
   ]
  },
  {
   "cell_type": "raw",
   "id": "9b17e275",
   "metadata": {},
   "source": [
    "# List Cloning"
   ]
  },
  {
   "cell_type": "code",
   "execution_count": 58,
   "id": "aa36fbd7",
   "metadata": {},
   "outputs": [
    {
     "name": "stdout",
     "output_type": "stream",
     "text": [
      "[1, 5, 8, 3, 4, 6, 55, 12]\n",
      "2371604296832\n",
      "<class 'list'>\n",
      "[1, 5, 8, 3, 4, 6, 55, 12]\n",
      "2371604296128\n",
      "<class 'list'>\n",
      "[1, 5, 8, 3, 4, 6, 55, 12, 56]\n",
      "2371604296832\n",
      "<class 'list'>\n",
      "[1, 5, 8, 3, 4, 6, 55, 12, 65]\n",
      "2371604296128\n",
      "<class 'list'>\n"
     ]
    }
   ],
   "source": [
    "# Case 1:\n",
    "x=[1,5,8,3,4,6,55,12]\n",
    "y=x[:]  # it access the element of x then store it to y\n",
    "        # in cloning we have multiple copy \n",
    "print(x)\n",
    "print(id(x))\n",
    "print(type(x))\n",
    "print(y)\n",
    "print(id(y))\n",
    "print(type(y))\n",
    "x.append(56)\n",
    "y.append(65)\n",
    "print(x)\n",
    "print(id(x))\n",
    "print(type(x))\n",
    "print(y)\n",
    "print(id(y))\n",
    "print(type(y))"
   ]
  },
  {
   "cell_type": "code",
   "execution_count": 59,
   "id": "5ecf0732",
   "metadata": {},
   "outputs": [
    {
     "name": "stdout",
     "output_type": "stream",
     "text": [
      "[1, 5, 8, 3, 4, 6, 55, 12]\n",
      "2371604290752\n",
      "<class 'list'>\n",
      "[1, 5, 8, 3, 4, 6, 55, 12]\n",
      "2371604338560\n",
      "<class 'list'>\n",
      "[1, 5, 8, 3, 4, 6, 55, 12, 56]\n",
      "2371604290752\n",
      "<class 'list'>\n",
      "[1, 5, 8, 3, 4, 6, 55, 12, 65]\n",
      "2371604338560\n",
      "<class 'list'>\n"
     ]
    }
   ],
   "source": [
    "# Case 2:\n",
    "x=[1,5,8,3,4,6,55,12]\n",
    "y=x.copy()   \n",
    "print(x)\n",
    "print(id(x))\n",
    "print(type(x))\n",
    "print(y)\n",
    "print(id(y))\n",
    "print(type(y))\n",
    "x.append(56)\n",
    "y.append(65)\n",
    "print(x)\n",
    "print(id(x))\n",
    "print(type(x))\n",
    "print(y)\n",
    "print(id(y))\n",
    "print(type(y))"
   ]
  },
  {
   "cell_type": "code",
   "execution_count": 60,
   "id": "8484ca58",
   "metadata": {},
   "outputs": [
    {
     "name": "stdout",
     "output_type": "stream",
     "text": [
      "[1, 2, 3, 4, 5, 5, 6, 7, 8]\n"
     ]
    }
   ],
   "source": [
    "# Operators in list\n",
    "x=[1,2,3,4,5]\n",
    "y=[5,6,7,8]\n",
    "print(x+y)"
   ]
  },
  {
   "cell_type": "code",
   "execution_count": 62,
   "id": "f3d500e3",
   "metadata": {},
   "outputs": [
    {
     "name": "stdout",
     "output_type": "stream",
     "text": [
      "[1, 2, 3, 4, 'nikhil', 5, 6, 7.8, 8]\n",
      "[1, 2, 3, 4, 'nikhil', 1, 2, 3, 4, 'nikhil']\n"
     ]
    }
   ],
   "source": [
    "# Operators in list\n",
    "x=[1,2,3,4,\"nikhil\"]\n",
    "y=[5,6,7.8,8]\n",
    "print(x+y)\n",
    "print(x*2)"
   ]
  },
  {
   "cell_type": "code",
   "execution_count": 64,
   "id": "906dc914",
   "metadata": {},
   "outputs": [
    {
     "ename": "TypeError",
     "evalue": "can't multiply sequence by non-int of type 'list'",
     "output_type": "error",
     "traceback": [
      "\u001b[1;31m---------------------------------------------------------------------------\u001b[0m",
      "\u001b[1;31mTypeError\u001b[0m                                 Traceback (most recent call last)",
      "Cell \u001b[1;32mIn[64], line 1\u001b[0m\n\u001b[1;32m----> 1\u001b[0m \u001b[38;5;28mprint\u001b[39m(x\u001b[38;5;241m*\u001b[39my)\n",
      "\u001b[1;31mTypeError\u001b[0m: can't multiply sequence by non-int of type 'list'"
     ]
    }
   ],
   "source": [
    "print(x*y) # Throws an error"
   ]
  },
  {
   "cell_type": "code",
   "execution_count": 65,
   "id": "767eaf3c",
   "metadata": {},
   "outputs": [],
   "source": [
    "# + Concatanate list\n",
    "# * repeate a list by multiplied times(int)"
   ]
  },
  {
   "cell_type": "code",
   "execution_count": 67,
   "id": "f31ff73b",
   "metadata": {},
   "outputs": [
    {
     "name": "stdout",
     "output_type": "stream",
     "text": [
      "True\n"
     ]
    }
   ],
   "source": [
    "x=[\"11\",\"22\",\"33\",\"44\"]\n",
    "y=[\"11\",\"22\",\"33\",\"44\"]\n",
    "print(x==y)\n",
    "# 1st compairing length of lists\n",
    "# 2nd compairing datatypes of list items respectively\n",
    "# 3rd compairing content(value) of list items"
   ]
  },
  {
   "cell_type": "code",
   "execution_count": 68,
   "id": "7fab9431",
   "metadata": {},
   "outputs": [
    {
     "name": "stdout",
     "output_type": "stream",
     "text": [
      "False\n"
     ]
    }
   ],
   "source": [
    "x=[\"11\",\"22\",\"33\",\"44\"]\n",
    "y=[\"11\",\"22\",\"33\",\"55\"]\n",
    "print(x==y)"
   ]
  },
  {
   "cell_type": "code",
   "execution_count": 69,
   "id": "f2e8e67a",
   "metadata": {},
   "outputs": [
    {
     "name": "stdout",
     "output_type": "stream",
     "text": [
      "True\n"
     ]
    }
   ],
   "source": [
    "x=[\"11\",\"22\",\"33\",\"44\"]\n",
    "y=[\"11\",\"22\",\"33\",\"55\"]\n",
    "print(x<y)"
   ]
  },
  {
   "cell_type": "code",
   "execution_count": 70,
   "id": "34cbb6ff",
   "metadata": {},
   "outputs": [
    {
     "name": "stdout",
     "output_type": "stream",
     "text": [
      "False\n"
     ]
    }
   ],
   "source": [
    "x=[\"11\",\"22\",\"33\",\"44\"]\n",
    "y=[\"11\",\"22\",\"33\",\"55\"]\n",
    "print(x>y)"
   ]
  },
  {
   "cell_type": "code",
   "execution_count": 72,
   "id": "de06b889",
   "metadata": {},
   "outputs": [
    {
     "name": "stdout",
     "output_type": "stream",
     "text": [
      "True\n"
     ]
    }
   ],
   "source": [
    "# comparison operators will be applied on respective same datatypes list\n",
    "x=[\"11\",\"22\",\"33\",44]\n",
    "y=[\"11\",\"22\",\"33\",44]\n",
    "print(x==y)"
   ]
  },
  {
   "cell_type": "code",
   "execution_count": 77,
   "id": "b00332a0",
   "metadata": {},
   "outputs": [
    {
     "name": "stdout",
     "output_type": "stream",
     "text": [
      "False\n"
     ]
    },
    {
     "ename": "TypeError",
     "evalue": "'<=' not supported between instances of 'int' and 'str'",
     "output_type": "error",
     "traceback": [
      "\u001b[1;31m---------------------------------------------------------------------------\u001b[0m",
      "\u001b[1;31mTypeError\u001b[0m                                 Traceback (most recent call last)",
      "Cell \u001b[1;32mIn[77], line 4\u001b[0m\n\u001b[0;32m      2\u001b[0m y\u001b[38;5;241m=\u001b[39m[\u001b[38;5;124m\"\u001b[39m\u001b[38;5;124m11\u001b[39m\u001b[38;5;124m\"\u001b[39m,\u001b[38;5;124m\"\u001b[39m\u001b[38;5;124m22\u001b[39m\u001b[38;5;124m\"\u001b[39m,\u001b[38;5;124m\"\u001b[39m\u001b[38;5;124m33\u001b[39m\u001b[38;5;124m\"\u001b[39m,\u001b[38;5;124m\"\u001b[39m\u001b[38;5;124m44\u001b[39m\u001b[38;5;124m\"\u001b[39m]\n\u001b[0;32m      3\u001b[0m \u001b[38;5;28mprint\u001b[39m(x\u001b[38;5;241m==\u001b[39my)\n\u001b[1;32m----> 4\u001b[0m \u001b[38;5;28mprint\u001b[39m(x\u001b[38;5;241m<\u001b[39m\u001b[38;5;241m=\u001b[39my)\n",
      "\u001b[1;31mTypeError\u001b[0m: '<=' not supported between instances of 'int' and 'str'"
     ]
    }
   ],
   "source": [
    "x=[\"11\",\"22\",\"33\",44]\n",
    "y=[\"11\",\"22\",\"33\",\"44\"]\n",
    "print(x==y)\n",
    "print(x<=y)"
   ]
  },
  {
   "cell_type": "code",
   "execution_count": 78,
   "id": "e51f7e2a",
   "metadata": {},
   "outputs": [
    {
     "name": "stdout",
     "output_type": "stream",
     "text": [
      "False\n",
      "True\n"
     ]
    }
   ],
   "source": [
    "x=[1,6,7,8]\n",
    "y=[2,6,8]\n",
    "print(x==y)\n",
    "print(x<=y)"
   ]
  },
  {
   "cell_type": "code",
   "execution_count": 80,
   "id": "35f5d9ed",
   "metadata": {},
   "outputs": [
    {
     "data": {
      "text/plain": [
       "1"
      ]
     },
     "execution_count": 80,
     "metadata": {},
     "output_type": "execute_result"
    }
   ],
   "source": [
    "l=[[[[1,5,7],[2,4,6]],[[1,8,9],5]]]\n",
    "l[0][0][0][0]"
   ]
  },
  {
   "cell_type": "code",
   "execution_count": 81,
   "id": "cd9f2a37",
   "metadata": {},
   "outputs": [
    {
     "ename": "TypeError",
     "evalue": "'int' object is not subscriptable",
     "output_type": "error",
     "traceback": [
      "\u001b[1;31m---------------------------------------------------------------------------\u001b[0m",
      "\u001b[1;31mTypeError\u001b[0m                                 Traceback (most recent call last)",
      "Cell \u001b[1;32mIn[81], line 1\u001b[0m\n\u001b[1;32m----> 1\u001b[0m l\u001b[38;5;241m=\u001b[39m[\u001b[38;5;241m1\u001b[39m][\u001b[38;5;241m0\u001b[39m][\u001b[38;5;241m0\u001b[39m][\u001b[38;5;241m0\u001b[39m]\n",
      "\u001b[1;31mTypeError\u001b[0m: 'int' object is not subscriptable"
     ]
    }
   ],
   "source": [
    "l=[1][0][0][0]"
   ]
  },
  {
   "cell_type": "code",
   "execution_count": 82,
   "id": "d6ee1d4a",
   "metadata": {},
   "outputs": [
    {
     "name": "stdout",
     "output_type": "stream",
     "text": [
      "[1, 2, 3, 4, 5, 6, 7, 8, 9]\n"
     ]
    }
   ],
   "source": [
    "# write a program to add elements in a list\n",
    "l=[]\n",
    "for i in range(1,10):\n",
    "    l.append(i)\n",
    "print(l)"
   ]
  },
  {
   "cell_type": "markdown",
   "id": "1a675e03",
   "metadata": {},
   "source": [
    "# List Comprehension"
   ]
  },
  {
   "cell_type": "code",
   "execution_count": 83,
   "id": "aaa69922",
   "metadata": {},
   "outputs": [
    {
     "name": "stdout",
     "output_type": "stream",
     "text": [
      "[1, 2, 3, 4, 5, 6, 7, 8, 9]\n"
     ]
    }
   ],
   "source": [
    "x=[x for x in range(1,10)]\n",
    "print(x)"
   ]
  },
  {
   "cell_type": "code",
   "execution_count": 84,
   "id": "da3b7ed7",
   "metadata": {},
   "outputs": [
    {
     "name": "stdout",
     "output_type": "stream",
     "text": [
      "[2, 4, 6, 8]\n"
     ]
    }
   ],
   "source": [
    "x=[x for x in range(1,10) if x%2==0]\n",
    "print(x)"
   ]
  },
  {
   "cell_type": "code",
   "execution_count": 85,
   "id": "b7f60f02",
   "metadata": {},
   "outputs": [
    {
     "name": "stdout",
     "output_type": "stream",
     "text": [
      "[1, 3, 5, 7, 9]\n"
     ]
    }
   ],
   "source": [
    "x=[i for i in range(1,10) if i%2>0]\n",
    "print(x)"
   ]
  },
  {
   "cell_type": "markdown",
   "id": "595e26e9",
   "metadata": {},
   "source": [
    "# Programs of List "
   ]
  },
  {
   "cell_type": "code",
   "execution_count": 89,
   "id": "051af51f",
   "metadata": {},
   "outputs": [
    {
     "name": "stdout",
     "output_type": "stream",
     "text": [
      "Enter no. for sum by giving space:1 2 3 5 4 6 9 8 7 \n",
      "45\n"
     ]
    }
   ],
   "source": [
    "# 1) write a program to calculate sum of elements of the list\n",
    "n=input(\"Enter no. for sum by giving space:\")\n",
    "n=n.split()\n",
    "l=[int(i) for i in n]\n",
    "print(sum(l))"
   ]
  },
  {
   "cell_type": "code",
   "execution_count": 15,
   "id": "664c7dde",
   "metadata": {},
   "outputs": [
    {
     "name": "stdout",
     "output_type": "stream",
     "text": [
      "Enter a no.:25\n",
      "[1, 4, 9, 16, 25, 36, 49, 64, 81, 100, 121, 144, 169, 196, 225, 256, 289, 324, 361, 400, 441, 484, 529, 576, 625]\n"
     ]
    }
   ],
   "source": [
    "# 2) write a program to create a list of squares of no. of a given list\n",
    "n=int(input(\"Enter a no.:\"))\n",
    "l=[i*i for i in range(1,n+1)]\n",
    "print(l)"
   ]
  },
  {
   "cell_type": "code",
   "execution_count": 12,
   "id": "de7f2be9",
   "metadata": {},
   "outputs": [
    {
     "name": "stdout",
     "output_type": "stream",
     "text": [
      "Enter no. by giving space:10 36 54 875 12 45 12 102 45 12 41 2 36 9 6\n",
      "[875, 102, 54, 45, 45, 41, 36, 36, 12, 12, 12, 10, 9, 6, 2]\n"
     ]
    }
   ],
   "source": [
    "# 3) write a program to sort list in decending order\n",
    "n=input(\"Enter no. by giving space:\")\n",
    "n=n.split()\n",
    "l=[int(i) for i in n]\n",
    "l.sort(reverse=True)\n",
    "print(l)"
   ]
  },
  {
   "cell_type": "code",
   "execution_count": 21,
   "id": "a98df000",
   "metadata": {},
   "outputs": [
    {
     "name": "stdout",
     "output_type": "stream",
     "text": [
      "Enter a no.:100\n",
      "[2, 3, 5, 7, 11, 13, 17, 19, 23, 29, 31, 37, 41, 43, 47, 53, 59, 61, 67, 71, 73, 79, 83, 89, 97, 101, 103, 107, 109, 113, 127, 131, 137, 139, 149, 151, 157, 163, 167, 173, 179, 181, 191, 193, 197, 199, 211, 223, 227, 229, 233, 239, 241, 251, 257, 263, 269, 271, 277, 281, 283, 293, 307, 311, 313, 317, 331, 337, 347, 349, 353, 359, 367, 373, 379, 383, 389, 397, 401, 409, 419, 421, 431, 433, 439, 443, 449, 457, 461, 463, 467, 479, 487, 491, 499, 503, 509, 521, 523, 541]\n"
     ]
    }
   ],
   "source": [
    "# 4) write a program to create a list of 1st n prime no.\n",
    "n=int(input(\"Enter a no.:\"))\n",
    "l=[]\n",
    "i=2\n",
    "while len(l)<n:\n",
    "    c=0\n",
    "    for j in range(1,i+1):\n",
    "        if i%j==0:\n",
    "            c+=1\n",
    "    if c==2:\n",
    "        l.append(i)\n",
    "    i+=1\n",
    "print(l)"
   ]
  },
  {
   "cell_type": "code",
   "execution_count": 13,
   "id": "f4d60dc0",
   "metadata": {},
   "outputs": [
    {
     "name": "stdout",
     "output_type": "stream",
     "text": [
      "Enter Integers by giving space:25 -5 0 36 -6 45 -9 5 69 -12 9 26 -25\n",
      "Psitive integers: [25, 36, 45, 5, 69, 9, 26]\n",
      "Psitive integers: [-5, 0, -6, -9, -12, -25]\n"
     ]
    }
   ],
   "source": [
    "# 5) write a program to create two list from a given list of no. in such a way that the first list can have +ve no. & second \n",
    "# list can have  non +ve no.\n",
    "\n",
    "n=input(\"Enter Integers by giving space:\")\n",
    "n=n.split()\n",
    "ln=[int(i) for i in n if int(i)<=0]\n",
    "lp=[int(i) for i in n if int(i)>0]\n",
    "print(\"Psitive integers:\",lp)\n",
    "print(\"Psitive integers:\",ln)"
   ]
  },
  {
   "cell_type": "code",
   "execution_count": null,
   "id": "d754cd13",
   "metadata": {},
   "outputs": [],
   "source": []
  }
 ],
 "metadata": {
  "kernelspec": {
   "display_name": "Python 3 (ipykernel)",
   "language": "python",
   "name": "python3"
  },
  "language_info": {
   "codemirror_mode": {
    "name": "ipython",
    "version": 3
   },
   "file_extension": ".py",
   "mimetype": "text/x-python",
   "name": "python",
   "nbconvert_exporter": "python",
   "pygments_lexer": "ipython3",
   "version": "3.11.3"
  }
 },
 "nbformat": 4,
 "nbformat_minor": 5
}
