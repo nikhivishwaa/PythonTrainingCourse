{
 "cells": [
  {
   "cell_type": "markdown",
   "id": "3492ca07",
   "metadata": {},
   "source": [
    "# Programs of   Tuple, Set & Dictionary "
   ]
  },
  {
   "cell_type": "code",
   "execution_count": 2,
   "id": "632e8c54",
   "metadata": {},
   "outputs": [
    {
     "name": "stdout",
     "output_type": "stream",
     "text": [
      "[5, 4, 7, 8, 7]  --> (5, 4, 7, 8, 7)\n",
      "In reverse order: (7, 8, 7, 4, 5)\n"
     ]
    }
   ],
   "source": [
    "# 1) write a program to create a tuple from a given list & reverse it\n",
    "\n",
    "l=[5,4,7,8,7]\n",
    "t=tuple(l)\n",
    "print(l,\" -->\",t)\n",
    "print(\"In reverse order:\",t[::-1])"
   ]
  },
  {
   "cell_type": "code",
   "execution_count": 11,
   "id": "dfdcf37a",
   "metadata": {},
   "outputs": [
    {
     "name": "stdout",
     "output_type": "stream",
     "text": [
      "[('A', 65), ('B', 66), ('C', 67), ('D', 68), ('E', 69), ('F', 70), ('G', 71), ('H', 72), ('I', 73), ('J', 74), ('K', 75), ('L', 76), ('M', 77), ('N', 78), ('O', 79), ('P', 80), ('Q', 81), ('R', 82), ('S', 83), ('T', 84), ('U', 85), ('V', 86), ('W', 87), ('X', 88), ('Y', 89), ('Z', 90)]\n"
     ]
    }
   ],
   "source": [
    "# 2) write a program to create list of tuples where each tuple is a pair of elements 1st element is uppercase Character & \n",
    "# second element is its unicode\n",
    "l=[]\n",
    "a=ord(\"A\")\n",
    "z=ord(\"Z\")\n",
    "for i in range(a,z+1):\n",
    "    t=(chr(i), i)\n",
    "    l.append(t)\n",
    "print(l)"
   ]
  },
  {
   "cell_type": "code",
   "execution_count": 16,
   "id": "25a0f115",
   "metadata": {},
   "outputs": [
    {
     "name": "stdout",
     "output_type": "stream",
     "text": [
      "Enter Elements of set by giving space:1 25 4 6 2 1 2 3 6 4 5 7 8 9 6 5 4  2 6 5 5 5 5 6\n",
      "given Set Elements: {1, 2, 3, 4, 5, 6, 7, 8, 9, 25}\n",
      "Set of Even Elements: {8, 2, 4, 6}\n",
      "Set of odd Elements: {1, 3, 5, 7, 9, 25}\n"
     ]
    }
   ],
   "source": [
    "# 3) create two sets from a given set of no. to separate even and odd no.\n",
    "s=input(\"Enter Elements of set by giving space:\")\n",
    "s=s.split()\n",
    "s_base={int(i) for i in s}\n",
    "s_even={int(i) for i in s if int(i)%2==0}\n",
    "s_odd={int(i) for i in s if int(i)%2>0}\n",
    "print(\"given Set Elements:\",s_base)\n",
    "print(\"Set of Even Elements:\",s_even)\n",
    "print(\"Set of odd Elements:\",s_odd)"
   ]
  },
  {
   "cell_type": "code",
   "execution_count": 32,
   "id": "2f77d651",
   "metadata": {},
   "outputs": [
    {
     "name": "stdout",
     "output_type": "stream",
     "text": [
      "{1: 'Aakash', 2: 'Aliya', 10: 'Ankush', 3: 'Ashutosh', 5: 'Abhishek', 7: 'Aman', 9: 'Ankit', 4: 'Abhay', 11: 'Arslaan', 6: 'Afiya', 8: 'Animesh'}\n",
      "{11: 'Arslaan', 10: 'Ankush', 9: 'Ankit', 8: 'Animesh', 7: 'Aman', 6: 'Afiya', 5: 'Abhishek', 4: 'Abhay', 3: 'Ashutosh', 2: 'Aliya', 1: 'Aakash'}\n"
     ]
    }
   ],
   "source": [
    "# 4) sort a dictionary by its keys in decending order\n",
    "d={1:\"Aakash\",2:\"Aliya\",10:\"Ankush\",3:\"Ashutosh\",5:\"Abhishek\",7:\"Aman\",9:\"Ankit\",4:\"Abhay\",11:\"Arslaan\",6:\"Afiya\",8:\"Animesh\"}\n",
    "print(d)\n",
    "# print(d.keys())\n",
    "d=d.items()\n",
    "d=list(d)\n",
    "d.sort(reverse=True)\n",
    "# print(d)\n",
    "d=dict(d)\n",
    "print(d)"
   ]
  },
  {
   "cell_type": "code",
   "execution_count": 54,
   "id": "c6b74fbe",
   "metadata": {},
   "outputs": [
    {
     "name": "stdout",
     "output_type": "stream",
     "text": [
      "Enter Batch codes for Dictionary by giving space: nikhil_32 ankush_10 sandeep_52 pankaj_36 nikhlesh_34 suhani_35\n",
      "{'nikhil_32': 9, 'ankush_10': 9, 'sandeep_52': 10, 'pankaj_36': 9, 'nikhlesh_34': 11, 'suhani_35': 9}\n",
      "11 4\n",
      "Max size Batch code: ' nikhlesh_34 '\t\tSize: 11\n"
     ]
    }
   ],
   "source": [
    "# 5) write a program to find maximum size batch code from a dictionary where key values in the dictionary are batch codes\n",
    "# and data values are size of the batch\n",
    "\n",
    "s= input(\"Enter Batch codes for Dictionary by giving space: \")\n",
    "s=s.split()\n",
    "l=[i for i in s]\n",
    "d=[(i,len(i)) for i in l]\n",
    "d=dict(d)\n",
    "print(d)\n",
    "m=d.values()\n",
    "mx=max(list(m))\n",
    "i=list(m).index(mx)\n",
    "print(mx,i)\n",
    "m=list(d.keys())\n",
    "mx=m[i]\n",
    "print(\"Max size Batch code: '\",mx,\"'\\t\\tSize:\",d.get(mx))"
   ]
  },
  {
   "cell_type": "code",
   "execution_count": null,
   "id": "33a30a1e",
   "metadata": {},
   "outputs": [],
   "source": []
  }
 ],
 "metadata": {
  "kernelspec": {
   "display_name": "Python 3 (ipykernel)",
   "language": "python",
   "name": "python3"
  },
  "language_info": {
   "codemirror_mode": {
    "name": "ipython",
    "version": 3
   },
   "file_extension": ".py",
   "mimetype": "text/x-python",
   "name": "python",
   "nbconvert_exporter": "python",
   "pygments_lexer": "ipython3",
   "version": "3.11.3"
  }
 },
 "nbformat": 4,
 "nbformat_minor": 5
}
