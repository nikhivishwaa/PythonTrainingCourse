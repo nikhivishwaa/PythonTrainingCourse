{
 "cells": [
  {
   "cell_type": "markdown",
   "id": "f57bd99b",
   "metadata": {},
   "source": [
    "# Map Function"
   ]
  },
  {
   "cell_type": "code",
   "execution_count": 6,
   "id": "be7c5a53",
   "metadata": {},
   "outputs": [
    {
     "name": "stdout",
     "output_type": "stream",
     "text": [
      "<map object at 0x000001B26D52B160>\n",
      "<class 'map'>\n",
      "1 8 27 64 125 216 343 512 729 1000 []\n"
     ]
    }
   ],
   "source": [
    "# map() fuction defined\n",
    "\n",
    "def cube(n):\n",
    " return n**3\n",
    "x=map(cube,[1,2,3,4,5,6,7,8,9,10])  # map f() returns map Object which is to be type casted in list\n",
    "print(x)\n",
    "print(type(x))\n",
    "for i in x:\n",
    " print(i,end=\" \")\n",
    " \n",
    "print(list(x)) # It must be convert into List "
   ]
  },
  {
   "cell_type": "code",
   "execution_count": 7,
   "id": "46a90863",
   "metadata": {},
   "outputs": [
    {
     "name": "stdout",
     "output_type": "stream",
     "text": [
      "['odd', 'Even', 'odd', 'Even', 'odd', 'Even', 'odd', 'Even']\n"
     ]
    }
   ],
   "source": [
    "def Even_odd(n):\n",
    " if n%2==0:\n",
    "     return \"Even\"\n",
    " else:\n",
    "     return\"odd\"\n",
    "y=map(Even_odd,[1,2,3,4,5,6,7,8])\n",
    "print(list(y))\n"
   ]
  },
  {
   "cell_type": "markdown",
   "id": "51b3145b",
   "metadata": {},
   "source": [
    "# Filter function"
   ]
  },
  {
   "cell_type": "code",
   "execution_count": 10,
   "id": "5d76c5cb",
   "metadata": {},
   "outputs": [
    {
     "name": "stdout",
     "output_type": "stream",
     "text": [
      "[2, 4, 6, 8]\n",
      "[False, True, False, True, False, True, False, True]\n"
     ]
    }
   ],
   "source": [
    "def Even_odd(n):\n",
    " if n%2==0:\n",
    "     return True\n",
    " else:\n",
    "     return False \n",
    " \n",
    "y=filter(Even_odd,[1,2,3,4,5,6,7,8])\n",
    "print(list(y))\n",
    "y=map(Even_odd,[1,2,3,4,5,6,7,8])\n",
    "print(list(y))\n"
   ]
  },
  {
   "cell_type": "markdown",
   "id": "6498b7f2",
   "metadata": {},
   "source": [
    "# Reduce function "
   ]
  },
  {
   "cell_type": "code",
   "execution_count": 11,
   "id": "bea40360",
   "metadata": {},
   "outputs": [
    {
     "name": "stdout",
     "output_type": "stream",
     "text": [
      "15\n"
     ]
    }
   ],
   "source": [
    "from functools import reduce\n",
    "def add(a,b):\n",
    " return a+b\n",
    " \n",
    "y=reduce(add,[1,2,3,4,5])\n",
    "print(y)"
   ]
  },
  {
   "cell_type": "code",
   "execution_count": 12,
   "id": "15eaf495",
   "metadata": {},
   "outputs": [
    {
     "name": "stdout",
     "output_type": "stream",
     "text": [
      "29030400\n"
     ]
    }
   ],
   "source": [
    "def product(a, b):\n",
    "    return a*b\n",
    "x = reduce(product, [4,5,6,8,7,9,4,5,6,4])\n",
    "print(x)"
   ]
  },
  {
   "cell_type": "code",
   "execution_count": null,
   "id": "e6d79fbb",
   "metadata": {},
   "outputs": [],
   "source": []
  }
 ],
 "metadata": {
  "kernelspec": {
   "display_name": "Python 3 (ipykernel)",
   "language": "python",
   "name": "python3"
  },
  "language_info": {
   "codemirror_mode": {
    "name": "ipython",
    "version": 3
   },
   "file_extension": ".py",
   "mimetype": "text/x-python",
   "name": "python",
   "nbconvert_exporter": "python",
   "pygments_lexer": "ipython3",
   "version": "3.11.3"
  }
 },
 "nbformat": 4,
 "nbformat_minor": 5
}
