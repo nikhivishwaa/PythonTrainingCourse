{
 "cells": [
  {
   "cell_type": "markdown",
   "id": "2f7bed79",
   "metadata": {},
   "source": [
    "# Programs on Match Case "
   ]
  },
  {
   "cell_type": "code",
   "execution_count": 23,
   "id": "44d3e9f3",
   "metadata": {},
   "outputs": [
    {
     "name": "stdout",
     "output_type": "stream",
     "text": [
      "Enter a Number: 456\n",
      "The Number has three digit\n"
     ]
    }
   ],
   "source": [
    "# 1) write a python script to check a given number is a three digit number or not\n",
    "n=int(input(\"Enter a Number: \"))\n",
    "match n:\n",
    " case n if n>99 and n<=999:\n",
    "     print(\"The Number has three digit\")\n",
    " case n:\n",
    "     print(\"Not have three digit\")"
   ]
  },
  {
   "cell_type": "code",
   "execution_count": 5,
   "id": "4bb5b452",
   "metadata": {},
   "outputs": [
    {
     "name": "stdout",
     "output_type": "stream",
     "text": [
      "Enter a number: -11\n",
      "Number is negative\n"
     ]
    }
   ],
   "source": [
    "# 2) write a python scipt to check wethear a given number is +ve ,-ve or Zero\n",
    "n=int(input(\"Enter a number: \"))\n",
    "match n:\n",
    " case n if n>0:\n",
    "     print(\"Number is positive\")\n",
    " case n if n<0:\n",
    "     print(\"Number is negative\")\n",
    " case n:\n",
    "     print(\"Number is zero\")\n"
   ]
  },
  {
   "cell_type": "code",
   "execution_count": 24,
   "id": "3105f8e0",
   "metadata": {},
   "outputs": [
    {
     "name": "stdout",
     "output_type": "stream",
     "text": [
      "Enter choice-\n",
      "\t(a) to check even/odd\n",
      "\t(b) to check Positive/Negative\n",
      "\t(c) to calculate Simple Interest\n",
      "\t: a\n",
      "Enter Number: 45\n",
      "Number is odd\n"
     ]
    }
   ],
   "source": [
    "# 3) write a python script to make a mine user has to choose one of the option \n",
    "# from : (a) Even or Odd no. (b) +ve or -ve no. (c)simple intrest\n",
    "# match and exicute appropriate code on user se\n",
    "\n",
    "print(\"Enter choice-\\n\\t(a) to check even/odd\")\n",
    "print(\"\\t(b) to check Positive/Negative\\n\\t(c) to calculate Simple Interest\")\n",
    "s=input(\"\\t: \")\n",
    "match s:\n",
    " case 'a':\n",
    "     n=int(input(\"Enter Number: \"))\n",
    "     if n%2==0:\n",
    "         print(\"Number is even\")\n",
    "     else :\n",
    "         print(\"Number is odd\")\n",
    " case 'b':\n",
    "     n=int(input(\"Enter Number: \"))\n",
    "     if n>0:\n",
    "         print(\"Number is Positive\")\n",
    "     else:\n",
    "         print(\"Number is Negative\")\n",
    " case 'c':\n",
    "     p=int(input(\"Enter Principle Amount: \"))\n",
    "     r=float(input(\"Enter Rate of Interest: \"))\n",
    "     t=int(input(\"Enter Time: \"))\n",
    "     si=p*r*t/100\n",
    "     print(\"Simple Intrest is:\",si)\n",
    " case _:\n",
    "     print(\"Invalid Input\")"
   ]
  },
  {
   "cell_type": "code",
   "execution_count": null,
   "id": "c91e8d12",
   "metadata": {},
   "outputs": [],
   "source": []
  }
 ],
 "metadata": {
  "kernelspec": {
   "display_name": "Python 3 (ipykernel)",
   "language": "python",
   "name": "python3"
  },
  "language_info": {
   "codemirror_mode": {
    "name": "ipython",
    "version": 3
   },
   "file_extension": ".py",
   "mimetype": "text/x-python",
   "name": "python",
   "nbconvert_exporter": "python",
   "pygments_lexer": "ipython3",
   "version": "3.11.3"
  }
 },
 "nbformat": 4,
 "nbformat_minor": 5
}
