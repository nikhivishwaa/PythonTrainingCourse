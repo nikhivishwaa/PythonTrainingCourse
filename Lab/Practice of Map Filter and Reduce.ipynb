{
 "cells": [
  {
   "cell_type": "markdown",
   "id": "18140b53",
   "metadata": {},
   "source": [
    "# Programs on Map, Filter, Reduce"
   ]
  },
  {
   "cell_type": "code",
   "execution_count": 11,
   "id": "e91aa901",
   "metadata": {},
   "outputs": [
    {
     "name": "stdout",
     "output_type": "stream",
     "text": [
      "Enter your text: nikhil vishwakarma cse-aids third sem\n",
      "[6, 11, 8, 5, 3]\n"
     ]
    }
   ],
   "source": [
    "# 1) Write a python script to find number of vowels in each of the string in a given list of string (using map)\n",
    "\n",
    "def vowels(t):\n",
    "    v = \"aeiou\"\n",
    "    count = 0\n",
    "    for i in t:\n",
    "        if i in v or v.upper():\n",
    "            count += 1\n",
    "    return count\n",
    "s = [i for i in input(\"Enter your text: \").split()]\n",
    "print(list(map(vowels,s)))"
   ]
  },
  {
   "cell_type": "code",
   "execution_count": 12,
   "id": "f5645954",
   "metadata": {},
   "outputs": [
    {
     "name": "stdout",
     "output_type": "stream",
     "text": [
      "Enter No. by giving Space: 12 1456 78 963 457 1452369\n",
      "[2, 4, 2, 3, 3, 7]\n"
     ]
    }
   ],
   "source": [
    "# 2) Write a python script to find the number of digits in each of the element in a given tuple of numbers\n",
    "\n",
    "def ndigit(t):\n",
    "    count = str(t)\n",
    "    return len(count)\n",
    "\n",
    "s = [int(i) for i in input(\"Enter No. by giving Space: \").split()]\n",
    "print(list(map(ndigit,s)))"
   ]
  },
  {
   "cell_type": "code",
   "execution_count": 13,
   "id": "a1583218",
   "metadata": {},
   "outputs": [
    {
     "name": "stdout",
     "output_type": "stream",
     "text": [
      "Enter Values: 25 n 4656 478 k 45+6 78\n",
      "['25', '4656', '478', '78']\n"
     ]
    }
   ],
   "source": [
    "# 3) Write a python script to filter only int type values in the given list of elements\n",
    "def inttyp(t):\n",
    "    if t.isnumeric():\n",
    "        return t\n",
    "\n",
    "s = [i for i in input(\"Enter Values: \").split()]\n",
    "print(list(filter(inttyp,s)))"
   ]
  },
  {
   "cell_type": "code",
   "execution_count": 15,
   "id": "5fe57567",
   "metadata": {},
   "outputs": [
    {
     "name": "stdout",
     "output_type": "stream",
     "text": [
      "Enter No. by giving Space: 1 20 89 45 10 2366 78 96 56\n",
      "2366\n"
     ]
    }
   ],
   "source": [
    "# 4) Write a Python function to find greatest number from a list of numbers (using reduce)\n",
    "\n",
    "from functools import reduce\n",
    "greater = (lambda x,y:max(x,y))\n",
    "s = [int(i) for i in input(\"Enter No. by giving Space: \").split()]\n",
    "print(reduce(greater,s))"
   ]
  },
  {
   "cell_type": "code",
   "execution_count": null,
   "id": "5eca4497",
   "metadata": {},
   "outputs": [],
   "source": []
  }
 ],
 "metadata": {
  "kernelspec": {
   "display_name": "Python 3 (ipykernel)",
   "language": "python",
   "name": "python3"
  },
  "language_info": {
   "codemirror_mode": {
    "name": "ipython",
    "version": 3
   },
   "file_extension": ".py",
   "mimetype": "text/x-python",
   "name": "python",
   "nbconvert_exporter": "python",
   "pygments_lexer": "ipython3",
   "version": "3.11.3"
  }
 },
 "nbformat": 4,
 "nbformat_minor": 5
}
