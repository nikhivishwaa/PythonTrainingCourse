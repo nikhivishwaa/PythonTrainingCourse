{
 "cells": [
  {
   "cell_type": "markdown",
   "id": "e4b88a4d",
   "metadata": {},
   "source": [
    "# Match Case"
   ]
  },
  {
   "cell_type": "code",
   "execution_count": 5,
   "id": "f22e257c",
   "metadata": {},
   "outputs": [
    {
     "name": "stdout",
     "output_type": "stream",
     "text": [
      "Enter the no.(0-5):4\n",
      "Four\n"
     ]
    }
   ],
   "source": [
    "num=int(input(\"Enter the no.(0-5):\"))\n",
    "match num:\n",
    " case 0:\n",
    "     print(\"Zero\")\n",
    " case 1:\n",
    "     print(\"One\")\n",
    " case 2:\n",
    "     print(\"Two\")\n",
    " case 3:\n",
    "     print(\"Three\")\n",
    " case 4:\n",
    "     print(\"Four\")\n",
    " case 5:\n",
    "     print(\"Five\")\n",
    " case _:   # default case\n",
    "     print(\"Invalid input\")"
   ]
  },
  {
   "cell_type": "code",
   "execution_count": 6,
   "id": "a3206dba",
   "metadata": {},
   "outputs": [
    {
     "name": "stdout",
     "output_type": "stream",
     "text": [
      "Enter num: 15\n",
      "Enter num: 16\n",
      "Enter choice (+, -, *, /): *\n",
      "240\n"
     ]
    }
   ],
   "source": [
    "n1=int(input(\"Enter num: \"))\n",
    "n2=int(input(\"Enter num: \"))\n",
    "s=input(\"Enter choice (+, -, *, /): \")\n",
    "match s: \n",
    " case '+' :\n",
    "     print(n1+n2)\n",
    " case '-':\n",
    "     print(n1-n2)\n",
    " case '*':\n",
    "     print(n1*n2)\n",
    " case '/':\n",
    "     print(n1/n2)\n",
    " case '_':\n",
    "     print(\"invalid input\")"
   ]
  },
  {
   "cell_type": "code",
   "execution_count": null,
   "id": "a5154a52",
   "metadata": {},
   "outputs": [],
   "source": []
  }
 ],
 "metadata": {
  "kernelspec": {
   "display_name": "Python 3 (ipykernel)",
   "language": "python",
   "name": "python3"
  },
  "language_info": {
   "codemirror_mode": {
    "name": "ipython",
    "version": 3
   },
   "file_extension": ".py",
   "mimetype": "text/x-python",
   "name": "python",
   "nbconvert_exporter": "python",
   "pygments_lexer": "ipython3",
   "version": "3.11.3"
  }
 },
 "nbformat": 4,
 "nbformat_minor": 5
}
