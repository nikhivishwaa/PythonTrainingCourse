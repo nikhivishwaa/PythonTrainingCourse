{
 "cells": [
  {
   "cell_type": "markdown",
   "id": "bef9deab",
   "metadata": {},
   "source": [
    "# Programs on Recursion"
   ]
  },
  {
   "cell_type": "code",
   "execution_count": 18,
   "id": "ebd58b82",
   "metadata": {},
   "outputs": [
    {
     "name": "stdout",
     "output_type": "stream",
     "text": [
      "Enter n to print first n natural no. in reverse order: 16\n",
      "16 15 14 13 12 11 10 9 8 7 6 5 4 3 2 1 "
     ]
    }
   ],
   "source": [
    "# 1) write a recursive f() to print first n natural no. in reverse order\n",
    "def shownumbers(n):\n",
    "    if n>0:\n",
    "        print(n, end=\" \")\n",
    "        shownumbers(n-1)\n",
    "\n",
    "no = int(input(\"Enter n to print first n natural no. in reverse order: \"))  \n",
    "shownumbers(no)"
   ]
  },
  {
   "cell_type": "code",
   "execution_count": 17,
   "id": "cc68659e",
   "metadata": {},
   "outputs": [
    {
     "name": "stdout",
     "output_type": "stream",
     "text": [
      "Enter n to print n odd no.: 20\n",
      "1 3 5 7 9 11 13 15 17 19 21 23 25 27 29 31 33 35 37 39 "
     ]
    }
   ],
   "source": [
    "# 2) write a recursive f() to print first n odd natural no. \n",
    "def oddnum(n):\n",
    "    if n>0:\n",
    "        oddnum(n-1)\n",
    "        print((2*n)-1, end=\" \")\n",
    "        \n",
    "no = int(input(\"Enter n to print n odd no.: \"))   \n",
    "oddnum(no)        "
   ]
  },
  {
   "cell_type": "code",
   "execution_count": 16,
   "id": "237e6096",
   "metadata": {},
   "outputs": [
    {
     "name": "stdout",
     "output_type": "stream",
     "text": [
      "Enter n to print n odd no. in reverse order: 20\n",
      "39 37 35 33 31 29 27 25 23 21 19 17 15 13 11 9 7 5 3 1 "
     ]
    }
   ],
   "source": [
    "# 3) write a recursive f() to print first n odd natural no. in reverse order\n",
    "def revoddnum(n):\n",
    "    if n>0:\n",
    "        print((2*n)-1, end=\" \")\n",
    "        revoddnum(n-1)\n",
    "        \n",
    "no = int(input(\"Enter n to print n odd no. in reverse order: \"))\n",
    "revoddnum(no)      "
   ]
  },
  {
   "cell_type": "code",
   "execution_count": 15,
   "id": "2ba2cfae",
   "metadata": {},
   "outputs": [
    {
     "name": "stdout",
     "output_type": "stream",
     "text": [
      "Enter n to print square of n no.: 16\n",
      "1 4 9 16 25 36 49 64 81 100 121 144 169 196 225 256 "
     ]
    }
   ],
   "source": [
    "# 4) write a recursive f() to print squres of first n natural no.\n",
    "def squares(n):\n",
    "    if n>0:\n",
    "        squares(n-1)\n",
    "        print(n*n, end=\" \")\n",
    "nn = int(input(\"Enter n to print square of n no.: \"))\n",
    "squares(nn)"
   ]
  },
  {
   "cell_type": "code",
   "execution_count": 13,
   "id": "fe5ab340",
   "metadata": {},
   "outputs": [
    {
     "name": "stdout",
     "output_type": "stream",
     "text": [
      "Enter a no. to get its reverse: 1245632\n",
      "2365421"
     ]
    }
   ],
   "source": [
    "# 5) write a recursive f() to print reverse of given no.\n",
    "def revnum(n):\n",
    "    if len(n)>0:\n",
    "        print(n[-1], end=\"\")\n",
    "        revnum(n[:-1])\n",
    "num = input(\"Enter a no. to get its reverse: \")\n",
    "revnum(num)"
   ]
  },
  {
   "cell_type": "code",
   "execution_count": null,
   "id": "964055b3",
   "metadata": {},
   "outputs": [],
   "source": []
  }
 ],
 "metadata": {
  "kernelspec": {
   "display_name": "Python 3 (ipykernel)",
   "language": "python",
   "name": "python3"
  },
  "language_info": {
   "codemirror_mode": {
    "name": "ipython",
    "version": 3
   },
   "file_extension": ".py",
   "mimetype": "text/x-python",
   "name": "python",
   "nbconvert_exporter": "python",
   "pygments_lexer": "ipython3",
   "version": "3.11.3"
  }
 },
 "nbformat": 4,
 "nbformat_minor": 5
}
