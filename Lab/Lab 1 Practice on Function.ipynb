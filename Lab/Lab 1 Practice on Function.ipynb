{
 "cells": [
  {
   "cell_type": "markdown",
   "id": "ec1a0a33",
   "metadata": {},
   "source": [
    "# Programs of Function"
   ]
  },
  {
   "cell_type": "code",
   "execution_count": 3,
   "id": "3ea8e88f",
   "metadata": {},
   "outputs": [
    {
     "name": "stdout",
     "output_type": "stream",
     "text": [
      "Enter a no. to find Cube: 5\n",
      "Cube of 5 is: 25\n"
     ]
    }
   ],
   "source": [
    "# write a python f() to print cube of a given no.\n",
    "def cube():\n",
    "    n=int(input(\"Enter a no. to find Cube: \"))\n",
    "    print(f\"Cube of {n} is: {n*n}\")\n",
    "    \n",
    "cube()"
   ]
  },
  {
   "cell_type": "code",
   "execution_count": 13,
   "id": "6f2bb2de",
   "metadata": {},
   "outputs": [
    {
     "name": "stdout",
     "output_type": "stream",
     "text": [
      "Enter a no.: 65\n",
      "65 is Not Even\n"
     ]
    }
   ],
   "source": [
    "# 1) write a f() to check whether a no. is even or not\n",
    "\n",
    "def even():\n",
    "    n=int(input(\"Enter a no.: \"))\n",
    "    if n%2==0:\n",
    "        print(f\"{n} is Even\")\n",
    "    else:\n",
    "        print(f\"{n} is Not Even\")\n",
    "even()"
   ]
  },
  {
   "cell_type": "code",
   "execution_count": 21,
   "id": "8bbcefae",
   "metadata": {},
   "outputs": [
    {
     "name": "stdout",
     "output_type": "stream",
     "text": [
      "Enter a no.: 17\n",
      "17 is Prime\n"
     ]
    }
   ],
   "source": [
    "# 2) write a python f() to check whether a number is prime or not\n",
    "\n",
    "def prime():\n",
    "    prime=0\n",
    "    n=int(input(\"Enter a no.: \"))\n",
    "    for i in range(1,n+1):\n",
    "        if n%i==0:\n",
    "            prime+=1\n",
    "    if prime==2:\n",
    "        print(f\"{n} is Prime\")\n",
    "    else:\n",
    "        print(f\"{n} is Not Prime\")\n",
    "prime()"
   ]
  },
  {
   "cell_type": "code",
   "execution_count": 31,
   "id": "bfba705b",
   "metadata": {},
   "outputs": [
    {
     "name": "stdout",
     "output_type": "stream",
     "text": [
      "Enter two no. by giving space to get l[] of prime no.: 10 20\n",
      "Prime no Between 10 to 20 : [11, 13, 17, 19]\n"
     ]
    }
   ],
   "source": [
    "# 3) write a python f() to create  list of prime no. b/w two given no.\n",
    "\n",
    "def prime_no_List():\n",
    "    prime=0\n",
    "    sp,ep=[int(i) for i in input(\"Enter two no. by giving space to get l[] of prime no.: \").split()]\n",
    "    l=[]\n",
    "    n=sp+1\n",
    "    while n<ep:\n",
    "        for i in range(2,n):\n",
    "            if n%i==0:\n",
    "                prime+=1\n",
    "        if prime==0:\n",
    "            l.append(n)\n",
    "        prime=0\n",
    "        n+=1\n",
    "    print(f\"Prime no Between {sp} to {ep} : {l}\")\n",
    "prime_no_List()\n"
   ]
  },
  {
   "cell_type": "code",
   "execution_count": 35,
   "id": "4433b350",
   "metadata": {},
   "outputs": [
    {
     "name": "stdout",
     "output_type": "stream",
     "text": [
      "Enter Elements by giving space: nikhil 25 monu 12 nikhil 12 kjgh gb 25\n",
      "['monu', 'nikhil', '12', 'kjgh', 'gb', '25']\n"
     ]
    }
   ],
   "source": [
    "# 4) write a python f() to remove duplicate elements from a given list\n",
    "def remove_Duplicate():\n",
    "    s=[i for i in input(\"Enter Elements by giving space: \").split()]\n",
    "    for i in s:\n",
    "        if s.count(i)>1:\n",
    "#             duplicate_Index = s.index(i)\n",
    "            s.remove(i)\n",
    "#             print(s)\n",
    "#             s.insert(duplicate_Index,i)\n",
    "    print(s)\n",
    "remove_Duplicate()\n"
   ]
  },
  {
   "cell_type": "code",
   "execution_count": 11,
   "id": "aebbefc3",
   "metadata": {},
   "outputs": [
    {
     "name": "stdout",
     "output_type": "stream",
     "text": [
      "Enter no. by giving space to filter odd & even no.: 1 2 5 4 7 8 9 6 5 4 78 45 69 52 3 6 9 7 4 5 54 5 4 6 3 2 1\n",
      "Odd no. : [1, 5, 7, 9, 5, 45, 69, 3, 9, 7, 5, 5, 3, 1]\n",
      "Even no. : [2, 4, 8, 6, 4, 78, 52, 6, 4, 54, 4, 6, 2]\n"
     ]
    }
   ],
   "source": [
    "# 5) write a python f() which receives variable length argument to filter odd & even no.\n",
    "def filter_even_odd(*t):\n",
    "    odd = [i for i in t if i%2>0]\n",
    "    even = [i for i in t if i%2==0]\n",
    "    print(\"Odd no. :\",odd)\n",
    "    print(\"Even no. :\",even)\n",
    "\n",
    "n = [int(i) for i in input(\"Enter no. by giving space to filter odd & even no.: \").split()]\n",
    "filter_even_odd(*n)"
   ]
  },
  {
   "cell_type": "code",
   "execution_count": 13,
   "id": "927f9fd4",
   "metadata": {},
   "outputs": [
    {
     "name": "stdout",
     "output_type": "stream",
     "text": [
      "Enter a no. to find Factors : 1024\n",
      "[1, 2, 4, 8, 16, 32, 64, 128, 256, 512, 1024]\n"
     ]
    }
   ],
   "source": [
    "# 6) write a lambda f() to print all factors of a given no. in the form of list\n",
    "\n",
    "        \n",
    "n = int(input(\"Enter a no. to find Factors : \"))\n",
    "x = (lambda a:[i for i in range(1,a+1) if a%i==0])(n)\n",
    "print(x)"
   ]
  },
  {
   "cell_type": "code",
   "execution_count": null,
   "id": "9cc86f2a",
   "metadata": {},
   "outputs": [],
   "source": []
  }
 ],
 "metadata": {
  "kernelspec": {
   "display_name": "Python 3 (ipykernel)",
   "language": "python",
   "name": "python3"
  },
  "language_info": {
   "codemirror_mode": {
    "name": "ipython",
    "version": 3
   },
   "file_extension": ".py",
   "mimetype": "text/x-python",
   "name": "python",
   "nbconvert_exporter": "python",
   "pygments_lexer": "ipython3",
   "version": "3.11.3"
  }
 },
 "nbformat": 4,
 "nbformat_minor": 5
}
