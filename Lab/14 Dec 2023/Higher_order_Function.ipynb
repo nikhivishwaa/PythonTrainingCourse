{
  "nbformat": 4,
  "nbformat_minor": 0,
  "metadata": {
    "colab": {
      "provenance": []
    },
    "kernelspec": {
      "name": "python3",
      "display_name": "Python 3"
    },
    "language_info": {
      "name": "python"
    }
  },
  "cells": [
    {
      "cell_type": "markdown",
      "source": [
        "**Higher Order Function**"
      ],
      "metadata": {
        "id": "gc8-NetLR6Iv"
      }
    },
    {
      "cell_type": "code",
      "execution_count": 1,
      "metadata": {
        "id": "Z5F3HDzjRTrX"
      },
      "outputs": [],
      "source": [
        "# A function that takes f() as an Argument is called higher order f()\n",
        "\n",
        "# types of higher order f()\n",
        "# 1. map\n",
        "# 2. filter\n",
        "# 3. reduce\n",
        "# 4. decorator\n",
        "# 5. generator"
      ]
    },
    {
      "cell_type": "code",
      "source": [
        "# normal f()\n",
        "def result(marks):\n",
        "    for m in marks:\n",
        "      if m>=35:\n",
        "        pass\n",
        "      else:\n",
        "        print('Fail')\n",
        "        break\n",
        "    else:\n",
        "      print('Pass')\n",
        "\n",
        "result([15, 35, 89, 64, 58, 34])"
      ],
      "metadata": {
        "colab": {
          "base_uri": "https://localhost:8080/",
          "height": 0
        },
        "id": "eit9BW4n3ipq",
        "outputId": "6d915faf-fabb-4288-850d-30f4c9a91078"
      },
      "execution_count": 5,
      "outputs": [
        {
          "output_type": "stream",
          "name": "stdout",
          "text": [
            "Fail\n"
          ]
        }
      ]
    },
    {
      "cell_type": "markdown",
      "source": [
        "**Decorator**"
      ],
      "metadata": {
        "id": "LFv-hDDPUpVo"
      }
    },
    {
      "cell_type": "code",
      "source": [
        "# Decorator is a kind of Higher Order Function that takes a f() as an argument\n",
        "# And return the same function with some extra functionality or in other wods\n",
        "# We can say it Decorates the given F() with Extra Funcionality"
      ],
      "metadata": {
        "id": "d3bdGmKwTozP"
      },
      "execution_count": 2,
      "outputs": []
    },
    {
      "cell_type": "code",
      "source": [
        "def deco_result(catch):\n",
        "  def distinction(marks):\n",
        "    for m in marks:\n",
        "      if m>=75:\n",
        "        print(\"Distinction with\",m,\"marks\")\n",
        "    catch(marks)\n",
        "  return distinction\n",
        "\n",
        "@deco_result\n",
        "def result(marks):\n",
        "    for m in marks:\n",
        "      if m>=35:\n",
        "        pass\n",
        "      else:\n",
        "        print('Fail')\n",
        "        break\n",
        "    else:\n",
        "      print('Pass')"
      ],
      "metadata": {
        "id": "So_YUc2RT4f-"
      },
      "execution_count": 3,
      "outputs": []
    },
    {
      "cell_type": "code",
      "source": [
        "marks = [10,40,70,95,45,76]\n",
        "result(marks)"
      ],
      "metadata": {
        "colab": {
          "base_uri": "https://localhost:8080/",
          "height": 0
        },
        "id": "KcjfzFZGaC7x",
        "outputId": "1476a73f-994a-46b8-e6b5-b28b00c0d376"
      },
      "execution_count": 4,
      "outputs": [
        {
          "output_type": "stream",
          "name": "stdout",
          "text": [
            "Distinction with 95 marks\n",
            "Distinction with 76 marks\n",
            "Fail\n"
          ]
        }
      ]
    },
    {
      "cell_type": "code",
      "source": [],
      "metadata": {
        "id": "e3h72VWu3vcC"
      },
      "execution_count": null,
      "outputs": []
    }
  ]
}