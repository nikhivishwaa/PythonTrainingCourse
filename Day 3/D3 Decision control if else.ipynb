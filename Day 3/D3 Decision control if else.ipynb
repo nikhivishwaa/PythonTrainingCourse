{
 "cells": [
  {
   "cell_type": "markdown",
   "id": "e6995106",
   "metadata": {},
   "source": [
    "# Decision Control if, if-else,if-elif-else,nested if-else"
   ]
  },
  {
   "cell_type": "code",
   "execution_count": 1,
   "id": "3eed4274",
   "metadata": {},
   "outputs": [
    {
     "name": "stdout",
     "output_type": "stream",
     "text": [
      "enter a no.:2\n",
      "Number is Positive\n"
     ]
    }
   ],
   "source": [
    "# IF\n",
    "a = int(input(\"enter a no.:\"))\n",
    "if a>0:\n",
    "    print(\"Number is Positive\")"
   ]
  },
  {
   "cell_type": "raw",
   "id": "3f56e0d9",
   "metadata": {},
   "source": [
    "Python follows indent(indentation)(tab)\n",
    "\n",
    "block of code represents by \":\" -> colon"
   ]
  },
  {
   "cell_type": "code",
   "execution_count": 3,
   "id": "f2c278f7",
   "metadata": {},
   "outputs": [
    {
     "ename": "IndentationError",
     "evalue": "expected an indented block after 'if' statement on line 1 (1471570934.py, line 2)",
     "output_type": "error",
     "traceback": [
      "\u001b[1;36m  Cell \u001b[1;32mIn[3], line 2\u001b[1;36m\u001b[0m\n\u001b[1;33m    print(\"Number is Positive\")\u001b[0m\n\u001b[1;37m    ^\u001b[0m\n\u001b[1;31mIndentationError\u001b[0m\u001b[1;31m:\u001b[0m expected an indented block after 'if' statement on line 1\n"
     ]
    }
   ],
   "source": [
    "if a>0:\n",
    "print(\"Number is Positive\")"
   ]
  },
  {
   "cell_type": "code",
   "execution_count": 5,
   "id": "24bf8aa1",
   "metadata": {},
   "outputs": [
    {
     "name": "stdout",
     "output_type": "stream",
     "text": [
      "enter a no.:0\n",
      "outside if\n"
     ]
    }
   ],
   "source": [
    "b = int(input(\"enter a no.:\"))\n",
    "if b>0:\n",
    "    print(\"Number is Positive\")\n",
    "    print(\"inside if\")\n",
    "print(\"outside if\")"
   ]
  },
  {
   "cell_type": "code",
   "execution_count": 8,
   "id": "499d7f42",
   "metadata": {},
   "outputs": [
    {
     "name": "stdout",
     "output_type": "stream",
     "text": [
      "Number is Positive\n",
      "inside if\n",
      "outside if\n"
     ]
    }
   ],
   "source": [
    "if b>=0:\n",
    "    print(\"Number is Positive\")\n",
    "    print(\"inside if\")\n",
    "print(\"outside if\")"
   ]
  },
  {
   "cell_type": "code",
   "execution_count": 9,
   "id": "0edcfc75",
   "metadata": {},
   "outputs": [
    {
     "name": "stdout",
     "output_type": "stream",
     "text": [
      "enter a no.:12\n",
      "Number is Positive\n"
     ]
    }
   ],
   "source": [
    "# IF-ELSE\n",
    "a = int(input(\"enter a no.:\"))\n",
    "if a>0:\n",
    "    print(\"Number is Positive\")\n",
    "else:\n",
    "    print(\"Number is Nagative\")"
   ]
  },
  {
   "cell_type": "code",
   "execution_count": 10,
   "id": "57e73291",
   "metadata": {},
   "outputs": [
    {
     "name": "stdout",
     "output_type": "stream",
     "text": [
      "enter a no.:-12\n",
      "Number is Nagative\n"
     ]
    }
   ],
   "source": [
    "a = int(input(\"enter a no.:\"))\n",
    "if a>0:\n",
    "    print(\"Number is Positive\")\n",
    "else:\n",
    "    print(\"Number is Nagative\")"
   ]
  },
  {
   "cell_type": "code",
   "execution_count": 14,
   "id": "a3d48fe2",
   "metadata": {},
   "outputs": [
    {
     "name": "stdout",
     "output_type": "stream",
     "text": [
      "enter a no.:-5\n",
      "Number is Nagative\n"
     ]
    }
   ],
   "source": [
    "# IF-ELIF-ELSE\n",
    "\n",
    "a = int(input(\"enter a no.:\"))\n",
    "if a>0:\n",
    "    print(\"Number is Positive\")\n",
    "elif a<0:\n",
    "    print(\"Number is Nagative\")\n",
    "else:\n",
    "    print(\"Number is Zero\")"
   ]
  },
  {
   "cell_type": "code",
   "execution_count": 1,
   "id": "10e7d2ff",
   "metadata": {},
   "outputs": [
    {
     "name": "stdout",
     "output_type": "stream",
     "text": [
      "Enter a no.: 25\n",
      "odd over 10\n"
     ]
    }
   ],
   "source": [
    "# Nested IF-ELSE\n",
    "i=int(input(\"Enter a no.: \"))\n",
    "if(i<10):\n",
    "        if i%2==0:\n",
    "            print(\"Even below 10\")\n",
    "        else:\n",
    "            print(\"odd below 10\")\n",
    "else:\n",
    "    if i%2==0:\n",
    "        print(\"Even over 10\")\n",
    "    else:\n",
    "        print(\"odd over 10\")"
   ]
  },
  {
   "cell_type": "code",
   "execution_count": null,
   "id": "6cb56bc4",
   "metadata": {},
   "outputs": [],
   "source": []
  }
 ],
 "metadata": {
  "kernelspec": {
   "display_name": "Python 3 (ipykernel)",
   "language": "python",
   "name": "python3"
  },
  "language_info": {
   "codemirror_mode": {
    "name": "ipython",
    "version": 3
   },
   "file_extension": ".py",
   "mimetype": "text/x-python",
   "name": "python",
   "nbconvert_exporter": "python",
   "pygments_lexer": "ipython3",
   "version": "3.11.3"
  }
 },
 "nbformat": 4,
 "nbformat_minor": 5
}
