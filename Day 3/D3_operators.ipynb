{
 "cells": [
  {
   "cell_type": "markdown",
   "id": "aa4d2592",
   "metadata": {},
   "source": [
    "# Operators in Python"
   ]
  },
  {
   "cell_type": "code",
   "execution_count": 4,
   "id": "946007ec",
   "metadata": {},
   "outputs": [
    {
     "name": "stdout",
     "output_type": "stream",
     "text": [
      "value of x+y : 24\n",
      "value of x-y : 16\n",
      "value of x*y : 80\n",
      "value of x/y : 5.0\n",
      "value of x//y : 5\n",
      "value of x%y : 0\n",
      "value of x**y : 160000\n"
     ]
    }
   ],
   "source": [
    "# arithmatic operator\n",
    "# (+, -, *, /, //, %, **)\n",
    "\n",
    "x = 20\n",
    "y = 4\n",
    "print(\"value of x+y :\",x+y)\n",
    "print(\"value of x-y :\",x-y)\n",
    "print(\"value of x*y :\",x*y)\n",
    "print(\"value of x/y :\",x/y)  # gives float in output\n",
    "print(\"value of x//y :\",x//y) # float division operator (it rounds down the value)\n",
    "print(\"value of x%y :\",x%y)   # modulo operator gives reminder\n",
    "print(\"value of x**y :\",x**y) # x^y"
   ]
  },
  {
   "cell_type": "code",
   "execution_count": 5,
   "id": "1db5855e",
   "metadata": {},
   "outputs": [
    {
     "data": {
      "text/plain": [
       "38.7"
      ]
     },
     "execution_count": 5,
     "metadata": {},
     "output_type": "execute_result"
    }
   ],
   "source": [
    "33.7+5\n"
   ]
  },
  {
   "cell_type": "code",
   "execution_count": 6,
   "id": "88f88da6",
   "metadata": {},
   "outputs": [
    {
     "data": {
      "text/plain": [
       "7"
      ]
     },
     "execution_count": 6,
     "metadata": {},
     "output_type": "execute_result"
    }
   ],
   "source": [
    "True+6"
   ]
  },
  {
   "cell_type": "code",
   "execution_count": 7,
   "id": "54ac245c",
   "metadata": {},
   "outputs": [
    {
     "name": "stdout",
     "output_type": "stream",
     "text": [
      "nikhilvishwakarma\n"
     ]
    }
   ],
   "source": [
    "print(\"nikhil\"+\"vishwakarma\") # concatienation"
   ]
  },
  {
   "cell_type": "code",
   "execution_count": 8,
   "id": "634bbc4d",
   "metadata": {},
   "outputs": [
    {
     "name": "stdout",
     "output_type": "stream",
     "text": [
      "nikhilvishwakarmaaids\n"
     ]
    }
   ],
   "source": [
    "print(\"nikhil\"+\"vishwakarma\"+\"aids\")"
   ]
  },
  {
   "cell_type": "code",
   "execution_count": 9,
   "id": "217db0c6",
   "metadata": {},
   "outputs": [
    {
     "ename": "TypeError",
     "evalue": "can only concatenate str (not \"int\") to str",
     "output_type": "error",
     "traceback": [
      "\u001b[1;31m---------------------------------------------------------------------------\u001b[0m",
      "\u001b[1;31mTypeError\u001b[0m                                 Traceback (most recent call last)",
      "Cell \u001b[1;32mIn[9], line 1\u001b[0m\n\u001b[1;32m----> 1\u001b[0m \u001b[38;5;28mprint\u001b[39m(\u001b[38;5;124;43m\"\u001b[39;49m\u001b[38;5;124;43mnikhil\u001b[39;49m\u001b[38;5;124;43m\"\u001b[39;49m\u001b[38;5;241;43m+\u001b[39;49m\u001b[38;5;124;43m\"\u001b[39;49m\u001b[38;5;124;43mvishwakarma\u001b[39;49m\u001b[38;5;124;43m\"\u001b[39;49m\u001b[38;5;241;43m+\u001b[39;49m\u001b[38;5;241;43m88\u001b[39;49m)\n",
      "\u001b[1;31mTypeError\u001b[0m: can only concatenate str (not \"int\") to str"
     ]
    }
   ],
   "source": [
    "print(\"nikhil\"+\"vishwakarma\"+88)"
   ]
  },
  {
   "cell_type": "code",
   "execution_count": 10,
   "id": "30d242e0",
   "metadata": {},
   "outputs": [
    {
     "data": {
      "text/plain": [
       "'ssssss'"
      ]
     },
     "execution_count": 10,
     "metadata": {},
     "output_type": "execute_result"
    }
   ],
   "source": [
    "\"s\"*6  # imp"
   ]
  },
  {
   "cell_type": "code",
   "execution_count": 11,
   "id": "6d870588",
   "metadata": {},
   "outputs": [
    {
     "data": {
      "text/plain": [
       "'nikhil nikhil nikhil nikhil nikhil nikhil nikhil nikhil nikhil nikhil '"
      ]
     },
     "execution_count": 11,
     "metadata": {},
     "output_type": "execute_result"
    }
   ],
   "source": [
    "\"nikhil \"*10"
   ]
  },
  {
   "cell_type": "code",
   "execution_count": 13,
   "id": "ea6e5dc8",
   "metadata": {},
   "outputs": [
    {
     "name": "stdout",
     "output_type": "stream",
     "text": [
      "nikhil \n",
      "nikhil \n",
      "nikhil \n",
      "nikhil \n",
      "nikhil \n",
      "nikhil \n",
      "nikhil \n",
      "nikhil \n",
      "nikhil \n",
      "nikhil \n",
      "\n"
     ]
    }
   ],
   "source": [
    "print(\"nikhil\\n\"*10)"
   ]
  },
  {
   "cell_type": "code",
   "execution_count": 14,
   "id": "128ee1b5",
   "metadata": {},
   "outputs": [
    {
     "ename": "TypeError",
     "evalue": "can't multiply sequence by non-int of type 'str'",
     "output_type": "error",
     "traceback": [
      "\u001b[1;31m---------------------------------------------------------------------------\u001b[0m",
      "\u001b[1;31mTypeError\u001b[0m                                 Traceback (most recent call last)",
      "Cell \u001b[1;32mIn[14], line 1\u001b[0m\n\u001b[1;32m----> 1\u001b[0m \u001b[38;5;124;43m\"\u001b[39;49m\u001b[38;5;124;43mnikhil \u001b[39;49m\u001b[38;5;124;43m\"\u001b[39;49m\u001b[38;5;241;43m*\u001b[39;49m\u001b[38;5;241;43m10\u001b[39;49m\u001b[38;5;241;43m*\u001b[39;49m\u001b[38;5;124;43m\"\u001b[39;49m\u001b[38;5;124;43m \u001b[39;49m\u001b[38;5;124;43m\"\u001b[39;49m\u001b[38;5;241m*\u001b[39m\u001b[38;5;241m9\u001b[39m\n",
      "\u001b[1;31mTypeError\u001b[0m: can't multiply sequence by non-int of type 'str'"
     ]
    }
   ],
   "source": [
    "\"nikhil \"*10*\" \"*9"
   ]
  },
  {
   "cell_type": "code",
   "execution_count": 20,
   "id": "b0da3afe",
   "metadata": {},
   "outputs": [
    {
     "name": "stdout",
     "output_type": "stream",
     "text": [
      "7.5\n",
      "7.65\n",
      "7\n",
      "7.0\n",
      "7.0\n",
      "7.0\n"
     ]
    }
   ],
   "source": [
    "print(30/4)  # always gives float value\n",
    "print(30.6/4)\n",
    "print(30//4)   # perform division ,floors down the value,return int bcz both operants are int\n",
    "\n",
    "print(30.6//4)  # perform division ,floors down the value,return float bcz one operant is float\n",
    "\n",
    "print(30.6//4.2)  # perform division ,floors down the value,return float bcz both operants are float\n",
    "\n",
    "print(30//4.2)     # perform division ,floors down the value,return float bcz one operant is float"
   ]
  },
  {
   "cell_type": "code",
   "execution_count": 26,
   "id": "114e1420",
   "metadata": {},
   "outputs": [
    {
     "name": "stdout",
     "output_type": "stream",
     "text": [
      "0\n",
      "0.7000000000000028\n",
      "3.9999999999999982\n",
      "5.5000000000000036\n",
      "0\n",
      "-5\n",
      "-1\n",
      "5.549999999999997\n"
     ]
    }
   ],
   "source": [
    "print(66%6)\n",
    "print(66.7%6)\n",
    "print(66%6.2)\n",
    "print(66.5%6.1)\n",
    "print(-66%6)\n",
    "print(67%-6)\n",
    "print(-67%-6)\n",
    "print(-66.45%6)\n"
   ]
  },
  {
   "cell_type": "code",
   "execution_count": 27,
   "id": "6a2b8f19",
   "metadata": {},
   "outputs": [
    {
     "name": "stdout",
     "output_type": "stream",
     "text": [
      "False\n",
      "True\n",
      "False\n",
      "True\n",
      "False\n",
      "True\n",
      "False\n"
     ]
    }
   ],
   "source": [
    "# relational (comparison) operator\n",
    "\n",
    "#  (<, >, >=, <=, ==, !=) it also returns boolean value\n",
    "\n",
    "a = 44\n",
    "b =  6\n",
    "print(a<b)\n",
    "print(a>b)\n",
    "print(a<=b)\n",
    "print(a>=b)\n",
    "print(a==b)\n",
    "print(a!=b)"
   ]
  },
  {
   "cell_type": "code",
   "execution_count": 29,
   "id": "e3e91cd4",
   "metadata": {},
   "outputs": [
    {
     "name": "stdout",
     "output_type": "stream",
     "text": [
      "True\n",
      "False\n",
      "True\n",
      "False\n",
      "False\n",
      "True\n"
     ]
    }
   ],
   "source": [
    "a = \"m\"  # it uses unicode for comparison\n",
    "b =  \"n\"\n",
    "print(a<b)\n",
    "print(a>b)\n",
    "print(a<=b)\n",
    "print(a>=b)\n",
    "print(a==b)\n",
    "print(a!=b)"
   ]
  },
  {
   "cell_type": "code",
   "execution_count": 30,
   "id": "1810fad6",
   "metadata": {},
   "outputs": [
    {
     "name": "stdout",
     "output_type": "stream",
     "text": [
      "True\n",
      "False\n",
      "True\n",
      "False\n",
      "False\n",
      "True\n"
     ]
    }
   ],
   "source": [
    "a = \"Nikhil\"  # it uses unicode for comparison\n",
    "b =  \"nikhil\"\n",
    "print(a<b)\n",
    "print(a>b)\n",
    "print(a<=b)\n",
    "print(a>=b)\n",
    "print(a==b)\n",
    "print(a!=b)"
   ]
  },
  {
   "cell_type": "code",
   "execution_count": 32,
   "id": "4cc523d1",
   "metadata": {},
   "outputs": [
    {
     "name": "stdout",
     "output_type": "stream",
     "text": [
      "False\n",
      "True\n",
      "False\n",
      "True\n"
     ]
    }
   ],
   "source": [
    "a = \"Nikhim\"  \n",
    "b =  \"Nikhil\"\n",
    "print(a<b)\n",
    "print(a>b)\n",
    "print(a<=b)\n",
    "print(a>=b)\n"
   ]
  },
  {
   "cell_type": "code",
   "execution_count": 34,
   "id": "d36c0f27",
   "metadata": {},
   "outputs": [
    {
     "name": "stdout",
     "output_type": "stream",
     "text": [
      "False\n",
      "True\n"
     ]
    }
   ],
   "source": [
    "a = \"Nikhim\"  \n",
    "b =  \"Nikhil\"\n",
    "print(a==b)\n",
    "print(a!=b)"
   ]
  },
  {
   "cell_type": "code",
   "execution_count": 35,
   "id": "90ed8287",
   "metadata": {},
   "outputs": [
    {
     "ename": "TypeError",
     "evalue": "'<' not supported between instances of 'str' and 'int'",
     "output_type": "error",
     "traceback": [
      "\u001b[1;31m---------------------------------------------------------------------------\u001b[0m",
      "\u001b[1;31mTypeError\u001b[0m                                 Traceback (most recent call last)",
      "Cell \u001b[1;32mIn[35], line 3\u001b[0m\n\u001b[0;32m      1\u001b[0m a \u001b[38;5;241m=\u001b[39m \u001b[38;5;124m\"\u001b[39m\u001b[38;5;124mNikhim\u001b[39m\u001b[38;5;124m\"\u001b[39m  \n\u001b[0;32m      2\u001b[0m b \u001b[38;5;241m=\u001b[39m  \u001b[38;5;241m5\u001b[39m\n\u001b[1;32m----> 3\u001b[0m \u001b[38;5;28mprint\u001b[39m(\u001b[43ma\u001b[49m\u001b[38;5;241;43m<\u001b[39;49m\u001b[43mb\u001b[49m)\n\u001b[0;32m      4\u001b[0m \u001b[38;5;28mprint\u001b[39m(a\u001b[38;5;241m>\u001b[39mb)\n\u001b[0;32m      5\u001b[0m \u001b[38;5;28mprint\u001b[39m(a\u001b[38;5;241m<\u001b[39m\u001b[38;5;241m=\u001b[39mb)\n",
      "\u001b[1;31mTypeError\u001b[0m: '<' not supported between instances of 'str' and 'int'"
     ]
    }
   ],
   "source": [
    "a = \"Nikhim\"  \n",
    "b =  5\n",
    "print(a<b)\n",
    "print(a>b)\n",
    "print(a<=b)\n",
    "print(a>=b)"
   ]
  },
  {
   "cell_type": "code",
   "execution_count": 36,
   "id": "c75bfe10",
   "metadata": {},
   "outputs": [
    {
     "ename": "TypeError",
     "evalue": "'<' not supported between instances of 'str' and 'int'",
     "output_type": "error",
     "traceback": [
      "\u001b[1;31m---------------------------------------------------------------------------\u001b[0m",
      "\u001b[1;31mTypeError\u001b[0m                                 Traceback (most recent call last)",
      "Cell \u001b[1;32mIn[36], line 3\u001b[0m\n\u001b[0;32m      1\u001b[0m a \u001b[38;5;241m=\u001b[39m \u001b[38;5;124m\"\u001b[39m\u001b[38;5;124mN\u001b[39m\u001b[38;5;124m\"\u001b[39m  \n\u001b[0;32m      2\u001b[0m b \u001b[38;5;241m=\u001b[39m \u001b[38;5;241m14\u001b[39m\n\u001b[1;32m----> 3\u001b[0m \u001b[38;5;28mprint\u001b[39m(\u001b[43ma\u001b[49m\u001b[38;5;241;43m<\u001b[39;49m\u001b[43mb\u001b[49m)\n\u001b[0;32m      4\u001b[0m \u001b[38;5;28mprint\u001b[39m(a\u001b[38;5;241m>\u001b[39mb)\n\u001b[0;32m      5\u001b[0m \u001b[38;5;28mprint\u001b[39m(a\u001b[38;5;241m<\u001b[39m\u001b[38;5;241m=\u001b[39mb)\n",
      "\u001b[1;31mTypeError\u001b[0m: '<' not supported between instances of 'str' and 'int'"
     ]
    }
   ],
   "source": [
    "a = \"N\"  \n",
    "b = 14\n",
    "print(a<b)  # it see datatype\n",
    "print(a>b)  # it see datatype\n",
    "print(a<=b)  # it see datatype\n",
    "print(a>=b)  # it see datatype"
   ]
  },
  {
   "cell_type": "code",
   "execution_count": 38,
   "id": "59df2ff5",
   "metadata": {},
   "outputs": [
    {
     "name": "stdout",
     "output_type": "stream",
     "text": [
      "False\n",
      "True\n"
     ]
    }
   ],
   "source": [
    "a = \"N\"  \n",
    "b =  14\n",
    "print(a==b)  # it does not see datatype\n",
    "print(a!=b)  # it does not see datatype"
   ]
  },
  {
   "cell_type": "code",
   "execution_count": 39,
   "id": "663fbc2f",
   "metadata": {},
   "outputs": [
    {
     "data": {
      "text/plain": [
       "True"
      ]
     },
     "execution_count": 39,
     "metadata": {},
     "output_type": "execute_result"
    }
   ],
   "source": [
    "# chaining is allowed in python\n",
    "\n",
    "1<2<3<5<7"
   ]
  },
  {
   "cell_type": "code",
   "execution_count": 40,
   "id": "53d8afd5",
   "metadata": {},
   "outputs": [
    {
     "data": {
      "text/plain": [
       "False"
      ]
     },
     "execution_count": 40,
     "metadata": {},
     "output_type": "execute_result"
    }
   ],
   "source": [
    "1<2<3<5>7"
   ]
  },
  {
   "cell_type": "code",
   "execution_count": 41,
   "id": "83d556d4",
   "metadata": {},
   "outputs": [
    {
     "name": "stdout",
     "output_type": "stream",
     "text": [
      "True\n",
      "False\n",
      "False\n",
      "False\n"
     ]
    }
   ],
   "source": [
    "x= 1\n",
    "y= 5\n",
    "z = 9\n",
    "print(x<y<z)\n",
    "print(x<y>z)\n",
    "print(x>y>z)\n",
    "print(x>y<z)"
   ]
  },
  {
   "cell_type": "code",
   "execution_count": 42,
   "id": "ddce9189",
   "metadata": {},
   "outputs": [
    {
     "name": "stdout",
     "output_type": "stream",
     "text": [
      "True\n",
      "False\n",
      "False\n",
      "False\n"
     ]
    }
   ],
   "source": [
    "# logical operators (and , or, not)\n",
    "# it applies on bool\n",
    "\n",
    "print(True and True)\n",
    "print(True and False)\n",
    "print(False and True)\n",
    "print(False and False)"
   ]
  },
  {
   "cell_type": "code",
   "execution_count": 43,
   "id": "79ae6399",
   "metadata": {},
   "outputs": [
    {
     "name": "stdout",
     "output_type": "stream",
     "text": [
      "True\n",
      "True\n",
      "True\n",
      "False\n"
     ]
    }
   ],
   "source": [
    "print(True or True)\n",
    "print(True or False)\n",
    "print(False or True)\n",
    "print(False or False)"
   ]
  },
  {
   "cell_type": "code",
   "execution_count": 44,
   "id": "9079d71c",
   "metadata": {},
   "outputs": [
    {
     "name": "stdout",
     "output_type": "stream",
     "text": [
      "False\n",
      "True\n"
     ]
    }
   ],
   "source": [
    "print(not True)\n",
    "print(not False)"
   ]
  },
  {
   "cell_type": "code",
   "execution_count": 46,
   "id": "32d5bb32",
   "metadata": {},
   "outputs": [
    {
     "name": "stdout",
     "output_type": "stream",
     "text": [
      "6\n",
      "3\n"
     ]
    }
   ],
   "source": [
    "# python speciality\n",
    "x = 3\n",
    "y = 6\n",
    "print(x and y)\n",
    "print(x or y)"
   ]
  },
  {
   "cell_type": "code",
   "execution_count": 50,
   "id": "8e7f33f1",
   "metadata": {},
   "outputs": [
    {
     "name": "stdout",
     "output_type": "stream",
     "text": [
      "3\n",
      "6\n"
     ]
    }
   ],
   "source": [
    "x = 6\n",
    "y = 3\n",
    "print(x and y)\n",
    "print(x or y)"
   ]
  },
  {
   "cell_type": "code",
   "execution_count": 47,
   "id": "815708f6",
   "metadata": {},
   "outputs": [
    {
     "name": "stdout",
     "output_type": "stream",
     "text": [
      "0\n",
      "6\n"
     ]
    }
   ],
   "source": [
    "x = 0\n",
    "y = 6\n",
    "print(x and y)\n",
    "print(x or y)"
   ]
  },
  {
   "cell_type": "code",
   "execution_count": 48,
   "id": "ac2eb3f9",
   "metadata": {},
   "outputs": [
    {
     "name": "stdout",
     "output_type": "stream",
     "text": [
      "0\n",
      "3\n"
     ]
    }
   ],
   "source": [
    "x = 3\n",
    "y = 0\n",
    "print(x and y)\n",
    "print(x or y)"
   ]
  },
  {
   "cell_type": "code",
   "execution_count": 54,
   "id": "202d707d",
   "metadata": {},
   "outputs": [
    {
     "data": {
      "text/plain": [
       "False"
      ]
     },
     "execution_count": 54,
     "metadata": {},
     "output_type": "execute_result"
    }
   ],
   "source": [
    "5<10>15<33  #(True>15 is False) if any of condition is false then the output is False"
   ]
  },
  {
   "cell_type": "code",
   "execution_count": 52,
   "id": "999d13b9",
   "metadata": {},
   "outputs": [
    {
     "data": {
      "text/plain": [
       "'Red'"
      ]
     },
     "execution_count": 52,
     "metadata": {},
     "output_type": "execute_result"
    }
   ],
   "source": [
    "\"Red\"or\"White\""
   ]
  },
  {
   "cell_type": "code",
   "execution_count": 53,
   "id": "14a0ccae",
   "metadata": {},
   "outputs": [
    {
     "data": {
      "text/plain": [
       "'White'"
      ]
     },
     "execution_count": 53,
     "metadata": {},
     "output_type": "execute_result"
    }
   ],
   "source": [
    "\"Red\"and\"White\""
   ]
  },
  {
   "cell_type": "code",
   "execution_count": 55,
   "id": "1e07582a",
   "metadata": {},
   "outputs": [
    {
     "name": "stdout",
     "output_type": "stream",
     "text": [
      "66\n",
      "68\n",
      "65\n",
      "130\n",
      "65.0\n",
      "32.0\n"
     ]
    }
   ],
   "source": [
    "# assignment operator\n",
    "# =, Compound assignment oprator (+=, -=, *=, /=, )\n",
    "\n",
    "x = 66  # assign the value 66 in identifier x\n",
    "print(x)\n",
    "x+=2\n",
    "print(x)\n",
    "x-=3\n",
    "print(x)\n",
    "x*=2\n",
    "print(x)\n",
    "x/=2\n",
    "print(x)\n",
    "x//=2\n",
    "print(x)"
   ]
  },
  {
   "cell_type": "code",
   "execution_count": 56,
   "id": "cfbf0bd6",
   "metadata": {},
   "outputs": [
    {
     "name": "stdout",
     "output_type": "stream",
     "text": [
      "10\n",
      "20\n",
      "30\n"
     ]
    }
   ],
   "source": [
    "a,b,c=10,20,30\n",
    "print(a)\n",
    "print(b)\n",
    "print(c)"
   ]
  },
  {
   "cell_type": "code",
   "execution_count": 57,
   "id": "6355c957",
   "metadata": {},
   "outputs": [
    {
     "ename": "SyntaxError",
     "evalue": "invalid syntax (307891785.py, line 1)",
     "output_type": "error",
     "traceback": [
      "\u001b[1;36m  Cell \u001b[1;32mIn[57], line 1\u001b[1;36m\u001b[0m\n\u001b[1;33m    x++  # not available in python\u001b[0m\n\u001b[1;37m         ^\u001b[0m\n\u001b[1;31mSyntaxError\u001b[0m\u001b[1;31m:\u001b[0m invalid syntax\n"
     ]
    }
   ],
   "source": [
    "x++  # not available in python"
   ]
  },
  {
   "cell_type": "code",
   "execution_count": 59,
   "id": "b69bc6a8",
   "metadata": {},
   "outputs": [
    {
     "name": "stdout",
     "output_type": "stream",
     "text": [
      "20\n",
      "10\n",
      "10\n",
      "20\n"
     ]
    }
   ],
   "source": [
    "# swap two values\n",
    "print(a)\n",
    "print(b)\n",
    "a,b=b,a\n",
    "print(a)\n",
    "print(b)"
   ]
  },
  {
   "cell_type": "markdown",
   "id": "2d7eded0",
   "metadata": {},
   "source": [
    "# Programs on Operators in Python "
   ]
  },
  {
   "cell_type": "code",
   "execution_count": 69,
   "id": "e8751dc6",
   "metadata": {},
   "outputs": [
    {
     "name": "stdout",
     "output_type": "stream",
     "text": [
      "Enter a number:254\n",
      "Your value is: 25\n"
     ]
    }
   ],
   "source": [
    "# 1) write a program to remove last digit from a given number\n",
    "\n",
    "n = int(input(\"Enter a number:\"))\n",
    "k = n\n",
    "k //=10 \n",
    "print(\"Your value is:\",k)"
   ]
  },
  {
   "cell_type": "code",
   "execution_count": 70,
   "id": "05d3b6db",
   "metadata": {},
   "outputs": [
    {
     "name": "stdout",
     "output_type": "stream",
     "text": [
      "Enter a number:25634\n",
      "Last digit is: 4\n"
     ]
    }
   ],
   "source": [
    "# 2) write a program to get last digit from a given number\n",
    "\n",
    "n = int(input(\"Enter a number:\"))\n",
    "k = n\n",
    "k %=10 \n",
    "print(\"Last digit is:\",k)"
   ]
  },
  {
   "cell_type": "code",
   "execution_count": 73,
   "id": "c8fa0d22",
   "metadata": {},
   "outputs": [
    {
     "name": "stdout",
     "output_type": "stream",
     "text": [
      "Enter a number:125\n",
      "1st digit is: 1\n"
     ]
    }
   ],
   "source": [
    "# 3) write a program which takes a 3 digit number from user and display only its 1st digit\n",
    "\n",
    "n = int(input(\"Enter a number:\"))\n",
    "k = n\n",
    "k //=10\n",
    "k //=10 \n",
    "print(\"1st digit is:\",k)"
   ]
  },
  {
   "cell_type": "code",
   "execution_count": 72,
   "id": "357bf0b3",
   "metadata": {},
   "outputs": [
    {
     "name": "stdout",
     "output_type": "stream",
     "text": [
      "Enter a number:245\n",
      "Middle digit is: 4\n"
     ]
    }
   ],
   "source": [
    "# 4) write a program which takes a 3 digit number from user and display only its middle digit\n",
    "\n",
    "n = int(input(\"Enter a number:\"))\n",
    "k = n\n",
    "k //=10 \n",
    "k %=10\n",
    "print(\"Middle digit is:\",k)"
   ]
  },
  {
   "cell_type": "code",
   "execution_count": 75,
   "id": "19053ec9",
   "metadata": {},
   "outputs": [
    {
     "name": "stdout",
     "output_type": "stream",
     "text": [
      "Enter 1st value:256\n",
      "Enter 2nd value:nikhil\n",
      "After Swapping\n",
      "1st value: nikhil\n",
      "2nd value: 256\n"
     ]
    }
   ],
   "source": [
    "# 5) write a program to swap data of two variables\n",
    "\n",
    "a1 = input(\"Enter 1st value:\")\n",
    "b1 = input(\"Enter 2nd value:\")\n",
    "k = a1\n",
    "a1 = b1\n",
    "b1 = k\n",
    "print(\"After Swapping\\n1st value:\",a1)\n",
    "print(\"2nd value:\",b1)"
   ]
  },
  {
   "cell_type": "code",
   "execution_count": 2,
   "id": "8439bdee",
   "metadata": {},
   "outputs": [
    {
     "name": "stdout",
     "output_type": "stream",
     "text": [
      "10 20\n",
      "20 10\n"
     ]
    }
   ],
   "source": [
    "# ^ swap values without using temporary variable\n",
    "a =10\n",
    "b =20\n",
    "print(a,b)\n",
    "a=a+b\n",
    "b=a-b\n",
    "a=a-b\n",
    "print(a,b)"
   ]
  },
  {
   "cell_type": "code",
   "execution_count": 3,
   "id": "486e0bde",
   "metadata": {},
   "outputs": [
    {
     "name": "stdout",
     "output_type": "stream",
     "text": [
      "0\n"
     ]
    }
   ],
   "source": [
    "a =True\n",
    "b =True\n",
    "print(a-b)"
   ]
  },
  {
   "cell_type": "code",
   "execution_count": 5,
   "id": "2fb312cf",
   "metadata": {},
   "outputs": [
    {
     "name": "stdout",
     "output_type": "stream",
     "text": [
      "-1\n"
     ]
    }
   ],
   "source": [
    "a =False\n",
    "b =True\n",
    "print(a-b)"
   ]
  },
  {
   "cell_type": "code",
   "execution_count": 6,
   "id": "a72fa755",
   "metadata": {},
   "outputs": [
    {
     "name": "stdout",
     "output_type": "stream",
     "text": [
      "1\n"
     ]
    }
   ],
   "source": [
    "b =False\n",
    "a =True\n",
    "print(a-b)"
   ]
  },
  {
   "cell_type": "code",
   "execution_count": 8,
   "id": "c22859d8",
   "metadata": {},
   "outputs": [
    {
     "name": "stdout",
     "output_type": "stream",
     "text": [
      "4\n",
      "5\n"
     ]
    }
   ],
   "source": [
    "# bitwise Operator\n",
    "\n",
    "print(4&5) # 4->100, 5->101 it apply bit by bit (1&1)->1, (0&0)->0, (0&1)->0 ==> 100->4\n",
    "print(4|5) # 4->100, 5->101 it apply bit by bit (1|1)->1, (0|0)->0, (0|1)->1 ==> 101->5"
   ]
  },
  {
   "cell_type": "code",
   "execution_count": 10,
   "id": "0908a7e1",
   "metadata": {},
   "outputs": [
    {
     "name": "stdout",
     "output_type": "stream",
     "text": [
      "0\n",
      "12\n"
     ]
    }
   ],
   "source": [
    "print(8&4)\n",
    "print(8|4)"
   ]
  },
  {
   "cell_type": "code",
   "execution_count": 11,
   "id": "cf45eb36",
   "metadata": {},
   "outputs": [
    {
     "name": "stdout",
     "output_type": "stream",
     "text": [
      "140708480324520\n",
      "140708480324552\n"
     ]
    },
    {
     "data": {
      "text/plain": [
       "False"
      ]
     },
     "execution_count": 11,
     "metadata": {},
     "output_type": "execute_result"
    }
   ],
   "source": [
    "# identity operator\n",
    "# (is)-> it checks identity\n",
    "a=5\n",
    "b=6\n",
    "print(id(a))\n",
    "print(id(b))\n",
    "a is b"
   ]
  },
  {
   "cell_type": "code",
   "execution_count": 13,
   "id": "93942a9f",
   "metadata": {},
   "outputs": [
    {
     "name": "stdout",
     "output_type": "stream",
     "text": [
      "140708480324520\n",
      "140708480324520\n"
     ]
    },
    {
     "data": {
      "text/plain": [
       "True"
      ]
     },
     "execution_count": 13,
     "metadata": {},
     "output_type": "execute_result"
    }
   ],
   "source": [
    "a=5\n",
    "b=5\n",
    "print(id(a))\n",
    "print(id(b))\n",
    "a is b"
   ]
  },
  {
   "cell_type": "code",
   "execution_count": 14,
   "id": "d016c0c4",
   "metadata": {},
   "outputs": [
    {
     "name": "stdout",
     "output_type": "stream",
     "text": [
      "1640695947328\n",
      "1640696045568\n"
     ]
    },
    {
     "data": {
      "text/plain": [
       "False"
      ]
     },
     "execution_count": 14,
     "metadata": {},
     "output_type": "execute_result"
    }
   ],
   "source": [
    "l =[1,5,7]\n",
    "k =[2,5,6]\n",
    "print(id(l))\n",
    "print(id(k))\n",
    "l is k"
   ]
  },
  {
   "cell_type": "code",
   "execution_count": 15,
   "id": "801f5c26",
   "metadata": {},
   "outputs": [
    {
     "name": "stdout",
     "output_type": "stream",
     "text": [
      "1640696530752\n",
      "1640695662720\n"
     ]
    },
    {
     "data": {
      "text/plain": [
       "False"
      ]
     },
     "execution_count": 15,
     "metadata": {},
     "output_type": "execute_result"
    }
   ],
   "source": [
    "l =[1,5,7]\n",
    "k =[1,5,7]\n",
    "print(id(l))\n",
    "print(id(k))\n",
    "l is k"
   ]
  },
  {
   "cell_type": "code",
   "execution_count": 16,
   "id": "1547a20d",
   "metadata": {},
   "outputs": [
    {
     "name": "stdout",
     "output_type": "stream",
     "text": [
      "1640695194880\n",
      "1640695805120\n"
     ]
    },
    {
     "data": {
      "text/plain": [
       "False"
      ]
     },
     "execution_count": 16,
     "metadata": {},
     "output_type": "execute_result"
    }
   ],
   "source": [
    "l ={1,5,7}\n",
    "k ={2,5,6}\n",
    "print(id(l))\n",
    "print(id(k))\n",
    "l is k"
   ]
  },
  {
   "cell_type": "code",
   "execution_count": 17,
   "id": "3820da96",
   "metadata": {},
   "outputs": [
    {
     "name": "stdout",
     "output_type": "stream",
     "text": [
      "1640695806240\n",
      "1640695194880\n"
     ]
    },
    {
     "data": {
      "text/plain": [
       "False"
      ]
     },
     "execution_count": 17,
     "metadata": {},
     "output_type": "execute_result"
    }
   ],
   "source": [
    "l ={1,5,7}\n",
    "k ={1,5,7}\n",
    "print(id(l))\n",
    "print(id(k))\n",
    "l is k"
   ]
  },
  {
   "cell_type": "code",
   "execution_count": 18,
   "id": "fa8edb98",
   "metadata": {},
   "outputs": [
    {
     "name": "stdout",
     "output_type": "stream",
     "text": [
      "1640696163712\n",
      "1640696534592\n"
     ]
    },
    {
     "data": {
      "text/plain": [
       "False"
      ]
     },
     "execution_count": 18,
     "metadata": {},
     "output_type": "execute_result"
    }
   ],
   "source": [
    "d1 ={\"s\":1001,\"u\":1002,\"v\":1003}\n",
    "d2 ={\"a\":1009,\"b\":1008,\"c\":1007}\n",
    "print(id(d1))\n",
    "print(id(d2))\n",
    "d1 is d2"
   ]
  },
  {
   "cell_type": "code",
   "execution_count": 19,
   "id": "c64162d8",
   "metadata": {},
   "outputs": [
    {
     "name": "stdout",
     "output_type": "stream",
     "text": [
      "1640695670912\n",
      "1640695662272\n"
     ]
    },
    {
     "data": {
      "text/plain": [
       "False"
      ]
     },
     "execution_count": 19,
     "metadata": {},
     "output_type": "execute_result"
    }
   ],
   "source": [
    "d1 ={\"s\":1001,\"u\":1002,\"v\":1003}\n",
    "d2 ={\"s\":1001,\"u\":1002,\"v\":1003}\n",
    "print(id(d1))\n",
    "print(id(d2))\n",
    "d1 is d2"
   ]
  },
  {
   "cell_type": "code",
   "execution_count": 22,
   "id": "f9da96bc",
   "metadata": {},
   "outputs": [
    {
     "name": "stdout",
     "output_type": "stream",
     "text": [
      "1640696721952\n",
      "1640696723072\n"
     ]
    },
    {
     "data": {
      "text/plain": [
       "False"
      ]
     },
     "execution_count": 22,
     "metadata": {},
     "output_type": "execute_result"
    }
   ],
   "source": [
    "f1 =frozenset({\"s\",\"u\",\"v\"})\n",
    "f2 =frozenset({\"s\",\"u\",\"v\"})\n",
    "print(id(f1))\n",
    "print(id(f2))\n",
    "f1 is f2"
   ]
  },
  {
   "cell_type": "code",
   "execution_count": 23,
   "id": "84e77a05",
   "metadata": {},
   "outputs": [
    {
     "name": "stdout",
     "output_type": "stream",
     "text": [
      "1640702208960\n",
      "1640702163456\n"
     ]
    },
    {
     "data": {
      "text/plain": [
       "False"
      ]
     },
     "execution_count": 23,
     "metadata": {},
     "output_type": "execute_result"
    }
   ],
   "source": [
    "t1 =(\"s\",\"u\",\"v\")\n",
    "t2 =(\"s\",\"u\",\"v\")\n",
    "print(id(t1))\n",
    "print(id(t2))\n",
    "t1 is t2"
   ]
  },
  {
   "cell_type": "code",
   "execution_count": 24,
   "id": "d03bd2c6",
   "metadata": {},
   "outputs": [
    {
     "name": "stdout",
     "output_type": "stream",
     "text": [
      "140708478937840\n",
      "140708478937840\n"
     ]
    },
    {
     "data": {
      "text/plain": [
       "True"
      ]
     },
     "execution_count": 24,
     "metadata": {},
     "output_type": "execute_result"
    }
   ],
   "source": [
    "n1 =None\n",
    "n2 =None\n",
    "print(id(n1))\n",
    "print(id(n2))\n",
    "n1 is n2"
   ]
  },
  {
   "cell_type": "code",
   "execution_count": 25,
   "id": "58ccc605",
   "metadata": {},
   "outputs": [
    {
     "name": "stdout",
     "output_type": "stream",
     "text": [
      "1640701770480\n",
      "1640701770480\n"
     ]
    },
    {
     "data": {
      "text/plain": [
       "True"
      ]
     },
     "execution_count": 25,
     "metadata": {},
     "output_type": "execute_result"
    }
   ],
   "source": [
    "s1 =\"nikhil\"\n",
    "s2 =\"nikhil\"\n",
    "print(id(s1))\n",
    "print(id(s2))\n",
    "s1 is s2"
   ]
  },
  {
   "cell_type": "code",
   "execution_count": 26,
   "id": "58737db9",
   "metadata": {},
   "outputs": [
    {
     "name": "stdout",
     "output_type": "stream",
     "text": [
      "1640698850480\n",
      "1640698850160\n"
     ]
    },
    {
     "data": {
      "text/plain": [
       "False"
      ]
     },
     "execution_count": 26,
     "metadata": {},
     "output_type": "execute_result"
    }
   ],
   "source": [
    "c1 =5+6j\n",
    "c2 =5+6j\n",
    "print(id(c1))\n",
    "print(id(c2))\n",
    "c1 is c2"
   ]
  },
  {
   "cell_type": "code",
   "execution_count": 30,
   "id": "6c55c2fe",
   "metadata": {},
   "outputs": [
    {
     "name": "stdout",
     "output_type": "stream",
     "text": [
      "1640695589904\n",
      "1640695581616\n"
     ]
    },
    {
     "data": {
      "text/plain": [
       "False"
      ]
     },
     "execution_count": 30,
     "metadata": {},
     "output_type": "execute_result"
    }
   ],
   "source": [
    "n1 =85.6\n",
    "n2 =85.6\n",
    "print(id(n1))\n",
    "print(id(n2))\n",
    "n1 is n2"
   ]
  },
  {
   "cell_type": "code",
   "execution_count": 29,
   "id": "ea77f8c3",
   "metadata": {},
   "outputs": [
    {
     "name": "stdout",
     "output_type": "stream",
     "text": [
      "140708478855712\n",
      "140708478855712\n"
     ]
    },
    {
     "data": {
      "text/plain": [
       "True"
      ]
     },
     "execution_count": 29,
     "metadata": {},
     "output_type": "execute_result"
    }
   ],
   "source": [
    "n1 =True\n",
    "n2 =True\n",
    "print(id(n1))\n",
    "print(id(n2))\n",
    "n1 is n2"
   ]
  },
  {
   "cell_type": "code",
   "execution_count": 28,
   "id": "023cae32",
   "metadata": {},
   "outputs": [
    {
     "name": "stdout",
     "output_type": "stream",
     "text": [
      "True\n"
     ]
    }
   ],
   "source": [
    "# in operator\n",
    "print(\"n\" in \"nikhil\")"
   ]
  },
  {
   "cell_type": "code",
   "execution_count": 31,
   "id": "949198e9",
   "metadata": {},
   "outputs": [
    {
     "name": "stdout",
     "output_type": "stream",
     "text": [
      "2\n",
      "3\n",
      "4\n",
      "5\n"
     ]
    }
   ],
   "source": [
    "for i in range(2,6):\n",
    "    print(i)"
   ]
  },
  {
   "cell_type": "markdown",
   "id": "df3f52ae",
   "metadata": {},
   "source": [
    "# Programs of in & is Operator"
   ]
  },
  {
   "cell_type": "code",
   "execution_count": 33,
   "id": "2fc27be8",
   "metadata": {},
   "outputs": [
    {
     "name": "stdout",
     "output_type": "stream",
     "text": [
      "Enter a text:hgpyjhuykp\n",
      "True\n"
     ]
    }
   ],
   "source": [
    "# 6) write a program to print \"True\" if the string entered by user containing \"py\"\n",
    "s = input(\"Enter a text:\")\n",
    "print(\"py\" in s)\n"
   ]
  },
  {
   "cell_type": "code",
   "execution_count": 42,
   "id": "946ef6b7",
   "metadata": {},
   "outputs": [
    {
     "name": "stdout",
     "output_type": "stream",
     "text": [
      "Enter text1:nikhil\n",
      "Enter text1:nikhil\n",
      "1640702212912\n",
      "1640702213552\n",
      "False\n"
     ]
    }
   ],
   "source": [
    "# 7) write a program to input two strings from the user and display whether the two variables are same or not\n",
    "s1 = input(\"Enter text1:\")\n",
    "s2 = input(\"Enter text1:\")\n",
    "print(id(s1))\n",
    "print(id(s2))\n",
    "print(s1 is s2)"
   ]
  },
  {
   "cell_type": "code",
   "execution_count": 41,
   "id": "e4632199",
   "metadata": {},
   "outputs": [
    {
     "name": "stdout",
     "output_type": "stream",
     "text": [
      "enter 1st no.:5\n",
      "enter 2nd no.:6\n",
      "enter 3rd no.:7\n",
      "enter 4th no.:5\n",
      "enter 5th no.:10\n",
      "True\n"
     ]
    }
   ],
   "source": [
    "# 8) write a program to input five integers from the user and execute this expression _<_<_>_<_\n",
    "a = int(input(\"enter 1st no.:\"))\n",
    "b = int(input(\"enter 2nd no.:\"))\n",
    "c = int(input(\"enter 3rd no.:\"))\n",
    "d = int(input(\"enter 4th no.:\"))\n",
    "e = int(input(\"enter 5th no.:\"))\n",
    "\n",
    "print(a<b<c>d<e)"
   ]
  },
  {
   "cell_type": "code",
   "execution_count": null,
   "id": "67abb2fb",
   "metadata": {},
   "outputs": [],
   "source": []
  }
 ],
 "metadata": {
  "kernelspec": {
   "display_name": "Python 3 (ipykernel)",
   "language": "python",
   "name": "python3"
  },
  "language_info": {
   "codemirror_mode": {
    "name": "ipython",
    "version": 3
   },
   "file_extension": ".py",
   "mimetype": "text/x-python",
   "name": "python",
   "nbconvert_exporter": "python",
   "pygments_lexer": "ipython3",
   "version": "3.11.3"
  }
 },
 "nbformat": 4,
 "nbformat_minor": 5
}
