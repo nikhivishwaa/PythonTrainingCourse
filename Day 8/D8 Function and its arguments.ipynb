{
 "cells": [
  {
   "cell_type": "markdown",
   "id": "606f529b",
   "metadata": {},
   "source": [
    "# Function -: Input --- Calling --- Output"
   ]
  },
  {
   "cell_type": "code",
   "execution_count": 2,
   "id": "887811c2",
   "metadata": {},
   "outputs": [],
   "source": [
    "# def h(formal parameters):\n",
    "#     return x\n",
    "# h(actual parameters)\n",
    "\n",
    "\n",
    "# Taking nothing, Giving nothing\n",
    "\n",
    "def hi():\n",
    "    print(\"hi\")\n",
    "\n",
    "# Taking something, Giving nothing\n",
    "\n",
    "def hello(name):\n",
    "    print(f\"Hello {name}!\")\n",
    "\n",
    "# Taking something, Giving something\n",
    "\n",
    "def square(n):\n",
    "    return n*n\n",
    "\n",
    "# Taking nothing, Giving something\n",
    "\n",
    "def vowels():\n",
    "    return \"aeiou\""
   ]
  },
  {
   "cell_type": "code",
   "execution_count": 3,
   "id": "0a768a62",
   "metadata": {},
   "outputs": [
    {
     "name": "stdout",
     "output_type": "stream",
     "text": [
      "hi\n",
      "Hello Nikhil!\n",
      "25\n",
      "aeiou : ['a', 'e', 'i', 'o', 'u']\n"
     ]
    }
   ],
   "source": [
    "hi()\n",
    "hello(\"Nikhil\")\n",
    "s=square(5)\n",
    "print(s)\n",
    "v=vowels()\n",
    "print(f\"{v} : {list(v)}\")"
   ]
  },
  {
   "cell_type": "code",
   "execution_count": 4,
   "id": "e0f20f05",
   "metadata": {},
   "outputs": [
    {
     "ename": "TypeError",
     "evalue": "add() missing 2 required positional arguments: 'b' and 'c'",
     "output_type": "error",
     "traceback": [
      "\u001b[1;31m---------------------------------------------------------------------------\u001b[0m",
      "\u001b[1;31mTypeError\u001b[0m                                 Traceback (most recent call last)",
      "Cell \u001b[1;32mIn[4], line 3\u001b[0m\n\u001b[0;32m      1\u001b[0m \u001b[38;5;28;01mdef\u001b[39;00m \u001b[38;5;21madd\u001b[39m(a,b,c):\n\u001b[0;32m      2\u001b[0m     \u001b[38;5;28;01mreturn\u001b[39;00m a\u001b[38;5;241m+\u001b[39mb\u001b[38;5;241m+\u001b[39mc\n\u001b[1;32m----> 3\u001b[0m x\u001b[38;5;241m=\u001b[39m\u001b[43madd\u001b[49m\u001b[43m(\u001b[49m\u001b[38;5;241;43m5\u001b[39;49m\u001b[43m)\u001b[49m\n",
      "\u001b[1;31mTypeError\u001b[0m: add() missing 2 required positional arguments: 'b' and 'c'"
     ]
    }
   ],
   "source": [
    "def add(a,b,c):\n",
    "    return a+b+c\n",
    "x=add(5)"
   ]
  },
  {
   "cell_type": "code",
   "execution_count": 5,
   "id": "9a995e81",
   "metadata": {},
   "outputs": [
    {
     "ename": "TypeError",
     "evalue": "add() missing 1 required positional argument: 'c'",
     "output_type": "error",
     "traceback": [
      "\u001b[1;31m---------------------------------------------------------------------------\u001b[0m",
      "\u001b[1;31mTypeError\u001b[0m                                 Traceback (most recent call last)",
      "Cell \u001b[1;32mIn[5], line 1\u001b[0m\n\u001b[1;32m----> 1\u001b[0m x\u001b[38;5;241m=\u001b[39m\u001b[43madd\u001b[49m\u001b[43m(\u001b[49m\u001b[38;5;241;43m1\u001b[39;49m\u001b[43m,\u001b[49m\u001b[38;5;241;43m5\u001b[39;49m\u001b[43m)\u001b[49m\n",
      "\u001b[1;31mTypeError\u001b[0m: add() missing 1 required positional argument: 'c'"
     ]
    }
   ],
   "source": [
    "x=add(1,5)"
   ]
  },
  {
   "cell_type": "code",
   "execution_count": 6,
   "id": "c57b74c3",
   "metadata": {},
   "outputs": [
    {
     "name": "stdout",
     "output_type": "stream",
     "text": [
      "8\n"
     ]
    }
   ],
   "source": [
    "x=add(1,2,5)\n",
    "print(x)"
   ]
  },
  {
   "cell_type": "code",
   "execution_count": 14,
   "id": "874b2457",
   "metadata": {},
   "outputs": [
    {
     "name": "stdout",
     "output_type": "stream",
     "text": [
      "Enter length,breadth,height of cuboid by giving space10 12 15\n",
      "Volume of Cuboid is : 1800 unit cube\n"
     ]
    }
   ],
   "source": [
    "# write a python f() to calculate volume of cuboid using Taking nothing, Giving nothing concept\n",
    "def vol_cuboid():\n",
    "    l,b,h=[int(i) for i in input(\"Enter length,breadth,height of cuboid by giving space\").split()]\n",
    "    print(f\"Volume of Cuboid is : {l*b*h} unit cube\")\n",
    "vol_cuboid()"
   ]
  },
  {
   "cell_type": "code",
   "execution_count": 15,
   "id": "9dfc839b",
   "metadata": {},
   "outputs": [
    {
     "name": "stdout",
     "output_type": "stream",
     "text": [
      "Enter length,breadth,height of cuboid by giving space14 15 12\n",
      "Volume of Cuboid is : 2520 unit cube\n"
     ]
    }
   ],
   "source": [
    "# write a python f() to calculate volume of cuboid using Taking something, Giving nothing concept\n",
    "def vol_cuboid(l,b,h):\n",
    "    print(f\"Volume of Cuboid is : {l*b*h} unit cube\")\n",
    "l,b,h=[int(i) for i in input(\"Enter length,breadth,height of cuboid by giving space\").split()]\n",
    "vol_cuboid(l,b,h)"
   ]
  },
  {
   "cell_type": "code",
   "execution_count": 16,
   "id": "d39c76dc",
   "metadata": {},
   "outputs": [
    {
     "name": "stdout",
     "output_type": "stream",
     "text": [
      "Enter length,breadth,height of cuboid by giving space12 45 23\n",
      "Volume of Cuboid is : 12420 unit cube\n"
     ]
    }
   ],
   "source": [
    "# write a python f() to calculate volume of cuboid using Taking something, Giving something concept\n",
    "def vol_cuboid(l,b,h):\n",
    "    return l*b*h\n",
    "l,b,h=[int(i) for i in input(\"Enter length,breadth,height of cuboid by giving space\").split()]\n",
    "print(f\"Volume of Cuboid is : {vol_cuboid(l,b,h)} unit cube\")\n"
   ]
  },
  {
   "cell_type": "code",
   "execution_count": 17,
   "id": "d18f7d2c",
   "metadata": {},
   "outputs": [
    {
     "name": "stdout",
     "output_type": "stream",
     "text": [
      "Enter length,breadth,height of cuboid by giving space25 46 12\n",
      "Volume of Cuboid is : 13800 unit cube\n"
     ]
    }
   ],
   "source": [
    "# write a python f() to calculate volume of cuboid using Taking nothing, Giving something concept\n",
    "def vol_cuboid():\n",
    "    l,b,h=[int(i) for i in input(\"Enter length,breadth,height of cuboid by giving space\").split()]\n",
    "    return l*b*h\n",
    "print(f\"Volume of Cuboid is : {vol_cuboid()} unit cube\")\n"
   ]
  },
  {
   "cell_type": "markdown",
   "id": "a2a8094f",
   "metadata": {},
   "source": [
    "# Types of Argument"
   ]
  },
  {
   "cell_type": "markdown",
   "id": "bf7941dc",
   "metadata": {},
   "source": [
    "### --: Default Arguments"
   ]
  },
  {
   "cell_type": "code",
   "execution_count": 7,
   "id": "ca6b79a6",
   "metadata": {},
   "outputs": [
    {
     "data": {
      "text/plain": [
       "6"
      ]
     },
     "execution_count": 7,
     "metadata": {},
     "output_type": "execute_result"
    }
   ],
   "source": [
    "# default argument in f()\n",
    "def jodo(a=1,b=2,c=3):\n",
    "    return a+b+c\n",
    "jodo()"
   ]
  },
  {
   "cell_type": "code",
   "execution_count": 8,
   "id": "22d57189",
   "metadata": {},
   "outputs": [
    {
     "data": {
      "text/plain": [
       "15"
      ]
     },
     "execution_count": 8,
     "metadata": {},
     "output_type": "execute_result"
    }
   ],
   "source": [
    "jodo(10)  # it takes value of a = 10"
   ]
  },
  {
   "cell_type": "code",
   "execution_count": 9,
   "id": "70d0f011",
   "metadata": {},
   "outputs": [
    {
     "data": {
      "text/plain": [
       "11"
      ]
     },
     "execution_count": 9,
     "metadata": {},
     "output_type": "execute_result"
    }
   ],
   "source": [
    "def jodo_1(a,b=2,c=3):\n",
    "    return a+b+c\n",
    "jodo_1(6)"
   ]
  },
  {
   "cell_type": "code",
   "execution_count": 10,
   "id": "64027a17",
   "metadata": {},
   "outputs": [
    {
     "ename": "TypeError",
     "evalue": "jodo_1() missing 1 required positional argument: 'a'",
     "output_type": "error",
     "traceback": [
      "\u001b[1;31m---------------------------------------------------------------------------\u001b[0m",
      "\u001b[1;31mTypeError\u001b[0m                                 Traceback (most recent call last)",
      "Cell \u001b[1;32mIn[10], line 1\u001b[0m\n\u001b[1;32m----> 1\u001b[0m \u001b[43mjodo_1\u001b[49m\u001b[43m(\u001b[49m\u001b[43m)\u001b[49m  \u001b[38;5;66;03m# throws error\u001b[39;00m\n",
      "\u001b[1;31mTypeError\u001b[0m: jodo_1() missing 1 required positional argument: 'a'"
     ]
    }
   ],
   "source": [
    "jodo_1()  # throws error"
   ]
  },
  {
   "cell_type": "code",
   "execution_count": 12,
   "id": "f772804d",
   "metadata": {},
   "outputs": [
    {
     "ename": "SyntaxError",
     "evalue": "non-default argument follows default argument (4146774104.py, line 1)",
     "output_type": "error",
     "traceback": [
      "\u001b[1;36m  Cell \u001b[1;32mIn[12], line 1\u001b[1;36m\u001b[0m\n\u001b[1;33m    def jodo_2(a=1,b=2,c): # Not allowed in python\u001b[0m\n\u001b[1;37m                       ^\u001b[0m\n\u001b[1;31mSyntaxError\u001b[0m\u001b[1;31m:\u001b[0m non-default argument follows default argument\n"
     ]
    }
   ],
   "source": [
    "def jodo_2(a=1,b=2,c): # Not allowed in python bcz non default argument is given first and later\n",
    "    return a+b+c       #  on giving the default argument\n",
    "jodo_2(6,7,8)\n",
    "jodo_2(6)  "
   ]
  },
  {
   "cell_type": "code",
   "execution_count": 29,
   "id": "32cfdb8f",
   "metadata": {},
   "outputs": [
    {
     "data": {
      "text/plain": [
       "153.86"
      ]
     },
     "execution_count": 29,
     "metadata": {},
     "output_type": "execute_result"
    }
   ],
   "source": [
    "# case 1:\n",
    "def are_of_Circle(r=1,p=3.14):\n",
    "    return r*r*p\n",
    "are_of_Circle(7)"
   ]
  },
  {
   "cell_type": "code",
   "execution_count": 26,
   "id": "8f5829d2",
   "metadata": {},
   "outputs": [
    {
     "data": {
      "text/plain": [
       "153.86"
      ]
     },
     "execution_count": 26,
     "metadata": {},
     "output_type": "execute_result"
    }
   ],
   "source": [
    "# case 2:\n",
    "def area_of_Circle(r,p=3.14):\n",
    "    return r*r*p\n",
    "area_of_Circle(7)"
   ]
  },
  {
   "cell_type": "code",
   "execution_count": 28,
   "id": "7f2f748e",
   "metadata": {},
   "outputs": [
    {
     "ename": "SyntaxError",
     "evalue": "non-default argument follows default argument (2092709776.py, line 2)",
     "output_type": "error",
     "traceback": [
      "\u001b[1;36m  Cell \u001b[1;32mIn[28], line 2\u001b[1;36m\u001b[0m\n\u001b[1;33m    def area_of_Circle(p=3.14,r):  # wrong practice\u001b[0m\n\u001b[1;37m                              ^\u001b[0m\n\u001b[1;31mSyntaxError\u001b[0m\u001b[1;31m:\u001b[0m non-default argument follows default argument\n"
     ]
    }
   ],
   "source": [
    "# case 3:\n",
    "def area_of_Circle(p=3.14,r):  # wrong practice\n",
    "    return r*r*p\n",
    "area_of_Circle(7)"
   ]
  },
  {
   "cell_type": "markdown",
   "id": "9016eac9",
   "metadata": {},
   "source": [
    "## Positional Argument Vs Keyword Argument"
   ]
  },
  {
   "cell_type": "code",
   "execution_count": 30,
   "id": "5a7bf81c",
   "metadata": {},
   "outputs": [],
   "source": [
    "# default arguments are positional argument"
   ]
  },
  {
   "cell_type": "code",
   "execution_count": 31,
   "id": "cf7215ed",
   "metadata": {},
   "outputs": [
    {
     "name": "stdout",
     "output_type": "stream",
     "text": [
      "l: 5\t b: 6\n",
      "30\n"
     ]
    }
   ],
   "source": [
    "# positional Argument\n",
    "\n",
    "def rectangle(l,b):\n",
    "    print(f\"l: {l}\\t b: {b}\")\n",
    "    return l*b\n",
    "\n",
    "ar=rectangle(5,6)\n",
    "print(ar)"
   ]
  },
  {
   "cell_type": "code",
   "execution_count": 32,
   "id": "f824635f",
   "metadata": {},
   "outputs": [
    {
     "name": "stdout",
     "output_type": "stream",
     "text": [
      "l: 6\t b: 5\n",
      "30\n"
     ]
    }
   ],
   "source": [
    "# positional Argument\n",
    "# case: 1\n",
    "def rectangle(l,b):    # l & b are keywords\n",
    "    print(f\"l: {l}\\t b: {b}\")\n",
    "    return l*b\n",
    "\n",
    "ar=rectangle(b=5,l=6)\n",
    "print(ar)"
   ]
  },
  {
   "cell_type": "code",
   "execution_count": 33,
   "id": "6c658f60",
   "metadata": {},
   "outputs": [
    {
     "name": "stdout",
     "output_type": "stream",
     "text": [
      "l: 5\t b: 6\n",
      "30\n"
     ]
    }
   ],
   "source": [
    "# positional Argument\n",
    "# case: 1\n",
    "def rectangle(l,b):    # l & b are keywords\n",
    "    print(f\"l: {l}\\t b: {b}\")\n",
    "    return l*b\n",
    "\n",
    "ar=rectangle(5,b=6)  # it is allowed\n",
    "print(ar)"
   ]
  },
  {
   "cell_type": "code",
   "execution_count": 35,
   "id": "761145e9",
   "metadata": {},
   "outputs": [
    {
     "ename": "SyntaxError",
     "evalue": "positional argument follows keyword argument (132152872.py, line 7)",
     "output_type": "error",
     "traceback": [
      "\u001b[1;36m  Cell \u001b[1;32mIn[35], line 7\u001b[1;36m\u001b[0m\n\u001b[1;33m    ar=rectangle(l=5,6)  # it is not allowed\u001b[0m\n\u001b[1;37m                      ^\u001b[0m\n\u001b[1;31mSyntaxError\u001b[0m\u001b[1;31m:\u001b[0m positional argument follows keyword argument\n"
     ]
    }
   ],
   "source": [
    "# positional Argument\n",
    "# case: 2\n",
    "def rectangle(l,b):    # l & b are keywords\n",
    "    print(f\"l: {l}\\t b: {b}\")\n",
    "    return l*b\n",
    "\n",
    "ar=rectangle(l=5,6)  # it is not allowed\n",
    "print(ar)"
   ]
  },
  {
   "cell_type": "code",
   "execution_count": 37,
   "id": "ecf6f7d1",
   "metadata": {},
   "outputs": [
    {
     "ename": "TypeError",
     "evalue": "rectangle() got multiple values for argument 'l'",
     "output_type": "error",
     "traceback": [
      "\u001b[1;31m---------------------------------------------------------------------------\u001b[0m",
      "\u001b[1;31mTypeError\u001b[0m                                 Traceback (most recent call last)",
      "Cell \u001b[1;32mIn[37], line 7\u001b[0m\n\u001b[0;32m      4\u001b[0m     \u001b[38;5;28mprint\u001b[39m(\u001b[38;5;124mf\u001b[39m\u001b[38;5;124m\"\u001b[39m\u001b[38;5;124ml: \u001b[39m\u001b[38;5;132;01m{\u001b[39;00ml\u001b[38;5;132;01m}\u001b[39;00m\u001b[38;5;130;01m\\t\u001b[39;00m\u001b[38;5;124m b: \u001b[39m\u001b[38;5;132;01m{\u001b[39;00mb\u001b[38;5;132;01m}\u001b[39;00m\u001b[38;5;124m\"\u001b[39m)\n\u001b[0;32m      5\u001b[0m     \u001b[38;5;28;01mreturn\u001b[39;00m l\u001b[38;5;241m*\u001b[39mb\n\u001b[1;32m----> 7\u001b[0m ar\u001b[38;5;241m=\u001b[39m\u001b[43mrectangle\u001b[49m\u001b[43m(\u001b[49m\u001b[38;5;241;43m5\u001b[39;49m\u001b[43m,\u001b[49m\u001b[43ml\u001b[49m\u001b[38;5;241;43m=\u001b[39;49m\u001b[38;5;241;43m6\u001b[39;49m\u001b[43m)\u001b[49m  \u001b[38;5;66;03m# throws error\u001b[39;00m\n\u001b[0;32m      8\u001b[0m \u001b[38;5;28mprint\u001b[39m(ar)\n",
      "\u001b[1;31mTypeError\u001b[0m: rectangle() got multiple values for argument 'l'"
     ]
    }
   ],
   "source": [
    "# positional Argument\n",
    "# case: 3\n",
    "def rectangle(l,b):    # l & b are keywords\n",
    "    print(f\"l: {l}\\t b: {b}\")\n",
    "    return l*b\n",
    "\n",
    "ar=rectangle(5,l=6)  # throws error\n",
    "print(ar)"
   ]
  },
  {
   "cell_type": "markdown",
   "id": "80500e20",
   "metadata": {},
   "source": [
    "## Variable Length Arguments"
   ]
  },
  {
   "cell_type": "code",
   "execution_count": 39,
   "id": "45e052a4",
   "metadata": {},
   "outputs": [
    {
     "name": "stdout",
     "output_type": "stream",
     "text": [
      "(6, 5)\n",
      "(4, 7, 9)\n",
      "(4, 7, 9, 6)\n"
     ]
    }
   ],
   "source": [
    "# Case: 1\n",
    "def display(*t):   # it takes arguments as tupple & no. of arguments are not defined\n",
    "    print(t)\n",
    "\n",
    "display(6,5)\n",
    "display(4,7,9)\n",
    "display(4,7,9,6)"
   ]
  },
  {
   "cell_type": "code",
   "execution_count": 14,
   "id": "83d06386",
   "metadata": {},
   "outputs": [
    {
     "name": "stdout",
     "output_type": "stream",
     "text": [
      "Enter no. for sum by giving space:1 5 4 2 3 6 9 8 7\n",
      "(1, 5, 4, 2, 3, 6, 9, 8, 7)\n",
      "sum of [(1, 5, 4, 2, 3, 6, 9, 8, 7)]: 45.0\n"
     ]
    }
   ],
   "source": [
    "# average of given arguments\n",
    "def average(*t):   \n",
    "    s=0\n",
    "    t=list(t)\n",
    "    for i in t[0]:\n",
    "        s+= i \n",
    "    avg=s/len(t)\n",
    "    print(f\"sum of {t}: {avg}\")\n",
    "\n",
    "s=[int(i) for i in input(\"Enter no. for sum by giving space:\").split()]\n",
    "s=tuple(s)\n",
    "print(s)\n",
    "average(s)"
   ]
  },
  {
   "cell_type": "markdown",
   "id": "f5227573",
   "metadata": {},
   "source": [
    "## Keyword Variable Length Argument"
   ]
  },
  {
   "cell_type": "code",
   "execution_count": 5,
   "id": "24c05150",
   "metadata": {},
   "outputs": [
    {
     "name": "stdout",
     "output_type": "stream",
     "text": [
      "{'a': 6, 'b': 9, 'c': 5}\n",
      "<class 'dict'>\n"
     ]
    }
   ],
   "source": [
    "# Case: 2\n",
    "def display(**d):   # it takes arguments as dictionary & \"kwarg\" is general name which is used\n",
    "    print(d)\n",
    "    print(type(d))\n",
    "\n",
    "display(a=6,b=9,c=5)  #  keyword is used to give values "
   ]
  },
  {
   "cell_type": "code",
   "execution_count": null,
   "id": "bd5ebb7f",
   "metadata": {},
   "outputs": [],
   "source": []
  }
 ],
 "metadata": {
  "kernelspec": {
   "display_name": "Python 3 (ipykernel)",
   "language": "python",
   "name": "python3"
  },
  "language_info": {
   "codemirror_mode": {
    "name": "ipython",
    "version": 3
   },
   "file_extension": ".py",
   "mimetype": "text/x-python",
   "name": "python",
   "nbconvert_exporter": "python",
   "pygments_lexer": "ipython3",
   "version": "3.11.3"
  }
 },
 "nbformat": 4,
 "nbformat_minor": 5
}
