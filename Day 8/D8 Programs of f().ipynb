{
 "cells": [
  {
   "cell_type": "markdown",
   "id": "7a34d669",
   "metadata": {},
   "source": [
    "# Programs of Function"
   ]
  },
  {
   "cell_type": "code",
   "execution_count": 10,
   "id": "587e3e99",
   "metadata": {},
   "outputs": [
    {
     "name": "stdout",
     "output_type": "stream",
     "text": [
      "Enter two no. by giving space: 10 12\n",
      "60\n"
     ]
    }
   ],
   "source": [
    "# 1) write a python f() to calculate LCM of two no.\n",
    "def lcm(a,b):\n",
    "    i=2\n",
    "    lcm=max(a,b)\n",
    "    while (lcm%a==0 and lcm%b==0)<1:\n",
    "        x=a\n",
    "        if x>b:\n",
    "            x=b\n",
    "        if x%a==0 and x%b==0:\n",
    "            lcm=x\n",
    "        elif (x*i)%a==0 and (x*i)%b==0:\n",
    "            lcm=x*i\n",
    "        else:\n",
    "            i+=1\n",
    "    return lcm\n",
    "a,b=[int(i) for i in input(\"Enter two no. by giving space: \").split()]\n",
    "lcm=lcm(a,b)\n",
    "print(lcm)\n",
    "        "
   ]
  },
  {
   "cell_type": "code",
   "execution_count": 23,
   "id": "01155124",
   "metadata": {},
   "outputs": [
    {
     "name": "stdout",
     "output_type": "stream",
     "text": [
      "Enter text for counting of words: nikhil bittu pankaj lucky hai\n",
      "Words in your text: 5\n"
     ]
    }
   ],
   "source": [
    "# 2) write a python f() to count words in a string\n",
    "def word_Count(s):\n",
    "    s=s.split()\n",
    "    c=len(s)\n",
    "    return c\n",
    "\n",
    "x=input(\"Enter text for counting of words: \")\n",
    "print(f\"Words in your text: {word_Count(x)}\")"
   ]
  },
  {
   "cell_type": "code",
   "execution_count": 13,
   "id": "6c77b1ad",
   "metadata": {},
   "outputs": [
    {
     "name": "stdout",
     "output_type": "stream",
     "text": [
      "Enter a text containing no.: nikhil 1032 vishwakarm0 ank0s4 oksb1\n",
      "Your text contains ['1', '0', '3', '2', '0', '0', '4', '1']\n"
     ]
    }
   ],
   "source": [
    "# 3) write a python f() to find no. in a given text, store no. in a list & return list\n",
    "def no_in_Text(s):\n",
    "    n=\"0123456789\"\n",
    "    l=[]\n",
    "    for i in s:\n",
    "        if i in n:\n",
    "            l.append(i)\n",
    "    return l\n",
    "s=input(\"Enter a text containing no.: \")\n",
    "print(f\"Your text contains {no_in_Text(s)}\")"
   ]
  },
  {
   "cell_type": "code",
   "execution_count": 31,
   "id": "ecfdca96",
   "metadata": {},
   "outputs": [
    {
     "name": "stdout",
     "output_type": "stream",
     "text": [
      "Enter no. by giving space:4 5 2 6 9 78 45 123 698 5 4 4 12 36 45\n",
      "Greatest no. : 698\n"
     ]
    }
   ],
   "source": [
    "# 4) write a python f() which recieves variable length arguments to find greatest element it will return the greatest\n",
    "# element\n",
    "\n",
    "def greatest_Element(*t):\n",
    "    g=max(t[0])\n",
    "    return g\n",
    "\n",
    "s=[int(i) for i in input(\"Enter no. by giving space:\").split()]\n",
    "x=greatest_Element(s)\n",
    "print(f\"Greatest no. : {x}\")"
   ]
  },
  {
   "cell_type": "code",
   "execution_count": 1,
   "id": "1829a721",
   "metadata": {},
   "outputs": [
    {
     "name": "stdout",
     "output_type": "stream",
     "text": [
      "Enter your text: Nikhil Ankit Ankush Krish Balram Pankaj Shyam Tanish Rahul Vishal\n",
      "Maximum Length String is : ['Nikhil', 'Ankush', 'Balram', 'Pankaj', 'Tanish', 'Vishal']\n"
     ]
    }
   ],
   "source": [
    "# 5) write a python f() which takes variable length arguments to recieve strings return the list of maximum length \n",
    "# string or strings if multiple strings have the same length\n",
    "def max_len_Str(*s):\n",
    "    k = [len(i) for i in s[0]]\n",
    "    m=max(k)\n",
    "    k.clear()\n",
    "    l=[]\n",
    "    for i in s[0]:\n",
    "        if len(i)==m:\n",
    "            l.append(i) \n",
    "    return l\n",
    "\n",
    "s=input(\"Enter your text: \").split()\n",
    "x=max_len_Str(s)\n",
    "print(f\"Maximum Length String is : {x}\")"
   ]
  },
  {
   "cell_type": "code",
   "execution_count": 3,
   "id": "532b9f7b",
   "metadata": {},
   "outputs": [
    {
     "name": "stdout",
     "output_type": "stream",
     "text": [
      "(1, 2, 3, 4)\n"
     ]
    }
   ],
   "source": [
    "def func(*t):\n",
    "    print(t)\n",
    "\n",
    "l=[1,2,3,4]    \n",
    "func(*l)"
   ]
  },
  {
   "cell_type": "code",
   "execution_count": null,
   "id": "9e0f5333",
   "metadata": {},
   "outputs": [],
   "source": []
  }
 ],
 "metadata": {
  "kernelspec": {
   "display_name": "Python 3 (ipykernel)",
   "language": "python",
   "name": "python3"
  },
  "language_info": {
   "codemirror_mode": {
    "name": "ipython",
    "version": 3
   },
   "file_extension": ".py",
   "mimetype": "text/x-python",
   "name": "python",
   "nbconvert_exporter": "python",
   "pygments_lexer": "ipython3",
   "version": "3.11.3"
  }
 },
 "nbformat": 4,
 "nbformat_minor": 5
}
