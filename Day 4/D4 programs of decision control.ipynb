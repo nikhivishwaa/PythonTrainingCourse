{
 "cells": [
  {
   "cell_type": "markdown",
   "id": "4d676331",
   "metadata": {},
   "source": [
    "# Programs of Decision Control"
   ]
  },
  {
   "cell_type": "code",
   "execution_count": 14,
   "id": "bc33ae62",
   "metadata": {},
   "outputs": [
    {
     "name": "stdout",
     "output_type": "stream",
     "text": [
      "Enter a no.:0\n",
      "Given no. is Zero\n"
     ]
    }
   ],
   "source": [
    "# 1) write a program to check whether the given number is +ve, -ve, or zero\n",
    "\n",
    "z = int(input(\"Enter a no.:\"))\n",
    "if z>0:\n",
    "    print(\"Given no. is Positive\")\n",
    "elif z<0:\n",
    "    print(\"Given no. is Negative\")\n",
    "else:\n",
    "    print(\"Given no. is Zero\")"
   ]
  },
  {
   "cell_type": "code",
   "execution_count": 15,
   "id": "2790c871",
   "metadata": {},
   "outputs": [
    {
     "name": "stdout",
     "output_type": "stream",
     "text": [
      "Eneter a no.:564\n",
      "no\n"
     ]
    }
   ],
   "source": [
    "# 2) write a program to check whether the given number is divisible by 5 or not\n",
    "\n",
    "c=int(input(\"Eneter a no.:\"))\n",
    "if(c%5)==0:\n",
    "    print(\"yes\")\n",
    "else:\n",
    "    print(\"no\")"
   ]
  },
  {
   "cell_type": "code",
   "execution_count": 16,
   "id": "78d68750",
   "metadata": {},
   "outputs": [
    {
     "name": "stdout",
     "output_type": "stream",
     "text": [
      "Enter a no.:254\n",
      "Number is  Even\n"
     ]
    }
   ],
   "source": [
    "# 3) write a program to check whether  a number is even or odd\n",
    "x=int(input(\"Enter a no.:\"))\n",
    "if x%2==0:\n",
    "    print(\"Number is  Even\")\n",
    "else:\n",
    "    print(\"Number is  Odd\")"
   ]
  },
  {
   "cell_type": "code",
   "execution_count": 17,
   "id": "31fc9334",
   "metadata": {},
   "outputs": [
    {
     "name": "stdout",
     "output_type": "stream",
     "text": [
      "Enter 1st no. :12\n",
      "Enter 2nd no. :16\n",
      "--> 16\n"
     ]
    }
   ],
   "source": [
    "# 4) write a program to print the grater b/w two no. if both the numbers are equal then print the number only once\n",
    "\n",
    "a=int(input(\"Enter 1st no. :\"))\n",
    "b=int(input(\"Enter 2nd no. :\"))\n",
    "if a>b:\n",
    "    print(\"-->\",a)\n",
    "else:\n",
    "    print(\"-->\",b)"
   ]
  },
  {
   "cell_type": "code",
   "execution_count": 20,
   "id": "c35d5247",
   "metadata": {},
   "outputs": [
    {
     "name": "stdout",
     "output_type": "stream",
     "text": [
      "Enter text 1 :nikhil\n",
      "Enter text 2 :nilikh\n",
      "nilikh\n",
      "nikhil\n"
     ]
    }
   ],
   "source": [
    "# 5) write a program to print two given words from user in dictionary order\n",
    "\n",
    "s=input(\"Enter text 1 :\")\n",
    "t=input(\"Enter text 2 :\")\n",
    "if s>t:\n",
    "    print(s)\n",
    "    print(t)\n",
    "else:\n",
    "    print(t)\n",
    "    print(s)"
   ]
  },
  {
   "cell_type": "code",
   "execution_count": 22,
   "id": "c3dd243d",
   "metadata": {},
   "outputs": [
    {
     "name": "stdout",
     "output_type": "stream",
     "text": [
      "Enter a no.:452\n",
      "You entered 3 digit no.\n"
     ]
    }
   ],
   "source": [
    "# 6) write a program to check whether the given no. is a 3 digit no. or not\n",
    "y=int(input(\"Enter a no.:\"))\n",
    "if y>=100 and y<=999:\n",
    "    print(\"You entered 3 digit no.\")\n",
    "else:\n",
    "    print(\"Wrong input\")"
   ]
  },
  {
   "cell_type": "code",
   "execution_count": 25,
   "id": "bef34f05",
   "metadata": {},
   "outputs": [
    {
     "name": "stdout",
     "output_type": "stream",
     "text": [
      "Enter Multiplier of x^2 :5\n",
      "Enter Multiplier of x :6\n",
      "Enter Constant value :9\n",
      "imaginary roots\n"
     ]
    }
   ],
   "source": [
    "# 7) write a program to check whether the quardatric eq. has two real & distinct roots, real & equal roots or imaginary roots\n",
    "a=int(input(\"Enter Multiplier of x^2 :\"))\n",
    "b=int(input(\"Enter Multiplier of x :\"))\n",
    "c=int(input(\"Enter Constant value :\"))\n",
    "root = b**2-(4*a*c)\n",
    "if root<0:\n",
    "    print(\"imaginary roots\")\n",
    "elif root>0:\n",
    "    print(\"two real and distinct roots\")\n",
    "else:\n",
    "    print(\"real and equal roots\")"
   ]
  },
  {
   "cell_type": "code",
   "execution_count": 7,
   "id": "25f28f6e",
   "metadata": {},
   "outputs": [
    {
     "name": "stdout",
     "output_type": "stream",
     "text": [
      "Enter year2600\n",
      "Year is not a leap year\n"
     ]
    }
   ],
   "source": [
    "# 8) write a program to check whether the given year is leap year or not\n",
    "y=int(input(\"Enter year\"))\n",
    "if(y%100)>0 and y%4==0:\n",
    "    print(\"Year is Leap Year\")\n",
    "elif(y%100)==0 and y%400==0:\n",
    "    print(\"Year is Leap Year\")\n",
    "else:\n",
    "    print(\"Year is not a leap year\")"
   ]
  },
  {
   "cell_type": "code",
   "execution_count": 12,
   "id": "3a9bd504",
   "metadata": {},
   "outputs": [
    {
     "name": "stdout",
     "output_type": "stream",
     "text": [
      "Enter no. 1:8\n",
      "Enter no. 2:8\n",
      "Enter no. 3:8\n",
      "8\n"
     ]
    }
   ],
   "source": [
    "# 9) write a program to print greatest out of three no. if all the no. are same you need to print it once\n",
    "x=int(input(\"Enter no. 1:\"))\n",
    "y=int(input(\"Enter no. 2:\"))\n",
    "z=int(input(\"Enter no. 3:\"))\n",
    "if x>=y and x>=z:\n",
    "    print(x)\n",
    "elif x<=y and y>=z:\n",
    "    print(y)\n",
    "else:\n",
    "    print(z)"
   ]
  },
  {
   "cell_type": "code",
   "execution_count": null,
   "id": "4d7f8c26",
   "metadata": {},
   "outputs": [],
   "source": []
  }
 ],
 "metadata": {
  "kernelspec": {
   "display_name": "Python 3 (ipykernel)",
   "language": "python",
   "name": "python3"
  },
  "language_info": {
   "codemirror_mode": {
    "name": "ipython",
    "version": 3
   },
   "file_extension": ".py",
   "mimetype": "text/x-python",
   "name": "python",
   "nbconvert_exporter": "python",
   "pygments_lexer": "ipython3",
   "version": "3.11.3"
  }
 },
 "nbformat": 4,
 "nbformat_minor": 5
}
