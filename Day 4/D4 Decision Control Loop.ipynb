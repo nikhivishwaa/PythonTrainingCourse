{
 "cells": [
  {
   "cell_type": "markdown",
   "id": "106418c0",
   "metadata": {},
   "source": [
    "# Loop Statement"
   ]
  },
  {
   "cell_type": "code",
   "execution_count": 1,
   "id": "df973d6a",
   "metadata": {},
   "outputs": [
    {
     "name": "stdout",
     "output_type": "stream",
     "text": [
      "n\n",
      "i\n",
      "k\n",
      "h\n",
      "i\n",
      "l\n"
     ]
    }
   ],
   "source": [
    "# Loops in python -> FOR LOOP and WHILE LOOP\n",
    "\n",
    "s = \"nikhil\"\n",
    "for i in s:\n",
    "    print(i)"
   ]
  },
  {
   "cell_type": "code",
   "execution_count": 2,
   "id": "c789d768",
   "metadata": {},
   "outputs": [
    {
     "name": "stdout",
     "output_type": "stream",
     "text": [
      "n\n",
      "i\n",
      "k\n",
      "h\n",
      "i\n",
      "l\n"
     ]
    }
   ],
   "source": [
    "s = \"nikhil\"\n",
    "for _ in s:\n",
    "    print(_)"
   ]
  },
  {
   "cell_type": "code",
   "execution_count": 4,
   "id": "fb7c44b6",
   "metadata": {},
   "outputs": [
    {
     "name": "stdout",
     "output_type": "stream",
     "text": [
      "list item 1 : 1\n",
      "list item 2 : 2\n",
      "list item 3 : 3\n",
      "list item 4 : 4\n",
      "list item 5 : 5\n",
      "list item 6 : 6\n"
     ]
    }
   ],
   "source": [
    "l=[1,2,3,4,5,6]\n",
    "for i in l:\n",
    "    print(\"list item\",i,\":\",i)"
   ]
  },
  {
   "cell_type": "code",
   "execution_count": 5,
   "id": "ab0baa31",
   "metadata": {},
   "outputs": [
    {
     "name": "stdout",
     "output_type": "stream",
     "text": [
      "0\n",
      "1\n",
      "2\n",
      "3\n",
      "4\n"
     ]
    }
   ],
   "source": [
    "# implementing for loop using range f()\n",
    "\n",
    "for i in range(0,5):\n",
    "    print(i)"
   ]
  },
  {
   "cell_type": "code",
   "execution_count": 13,
   "id": "8a4f391a",
   "metadata": {},
   "outputs": [
    {
     "name": "stdout",
     "output_type": "stream",
     "text": [
      "Enter a no. :7\n",
      "factorial of 7 : 5040\n"
     ]
    }
   ],
   "source": [
    "# print factorial of a given no.\n",
    "\n",
    "n=int(input(\"Enter a no. :\"))\n",
    "f=1\n",
    "if n==0 or n==1:\n",
    "    f=1\n",
    "else:\n",
    "    for i in range(1,n+1):\n",
    "        f*=i\n",
    "print(\"factorial of\",n,\":\",f)"
   ]
  },
  {
   "cell_type": "code",
   "execution_count": 14,
   "id": "5ba16a3f",
   "metadata": {},
   "outputs": [
    {
     "name": "stdout",
     "output_type": "stream",
     "text": [
      "Enter a no. :5\n",
      "factorial of 5 : 120\n"
     ]
    }
   ],
   "source": [
    "n=int(input(\"Enter a no. :\"))\n",
    "f=1\n",
    "for i in range(1,n+1):\n",
    "    f*=i\n",
    "print(\"factorial of\",n,\":\",f)"
   ]
  },
  {
   "cell_type": "raw",
   "id": "c873542d",
   "metadata": {},
   "source": [
    "#    Nesting of For loops"
   ]
  },
  {
   "cell_type": "code",
   "execution_count": 15,
   "id": "fc4bbc17",
   "metadata": {},
   "outputs": [
    {
     "name": "stdout",
     "output_type": "stream",
     "text": [
      "i: 0 j: 0\n",
      "i: 0 j: 1\n",
      "i: 0 j: 2\n",
      "i: 0 j: 3\n",
      "i: 0 j: 4\n",
      "i: 1 j: 0\n",
      "i: 1 j: 1\n",
      "i: 1 j: 2\n",
      "i: 1 j: 3\n",
      "i: 1 j: 4\n",
      "i: 2 j: 0\n",
      "i: 2 j: 1\n",
      "i: 2 j: 2\n",
      "i: 2 j: 3\n",
      "i: 2 j: 4\n",
      "i: 3 j: 0\n",
      "i: 3 j: 1\n",
      "i: 3 j: 2\n",
      "i: 3 j: 3\n",
      "i: 3 j: 4\n"
     ]
    }
   ],
   "source": [
    "for i in range(0,4):\n",
    "    for j in range(0,5):\n",
    "        print(\"i:\",i,\"j:\",j)"
   ]
  },
  {
   "cell_type": "code",
   "execution_count": 4,
   "id": "f1b6d113",
   "metadata": {},
   "outputs": [
    {
     "name": "stdout",
     "output_type": "stream",
     "text": [
      "Enter a no. :5\n",
      "5 X 1 = 5\n",
      "5 X 2 = 10\n",
      "5 X 3 = 15\n",
      "5 X 4 = 20\n",
      "5 X 5 = 25\n",
      "5 X 6 = 30\n",
      "5 X 7 = 35\n",
      "5 X 8 = 40\n",
      "5 X 9 = 45\n",
      "5 X 10 = 50\n"
     ]
    }
   ],
   "source": [
    "n=int(input(\"Enter a no. :\"))\n",
    "\n",
    "for i in range(1,11):\n",
    "    print(n,\"X\",i,\"=\",n*i)"
   ]
  },
  {
   "cell_type": "code",
   "execution_count": 5,
   "id": "578deba3",
   "metadata": {},
   "outputs": [
    {
     "name": "stdout",
     "output_type": "stream",
     "text": [
      "Enter a no. :3\n",
      "2 X 1 = 2\n",
      "2 X 2 = 4\n",
      "2 X 3 = 6\n",
      "2 X 4 = 8\n",
      "2 X 5 = 10\n",
      "2 X 6 = 12\n",
      "2 X 7 = 14\n",
      "2 X 8 = 16\n",
      "2 X 9 = 18\n",
      "2 X 10 = 20\n",
      "\n",
      "3 X 1 = 3\n",
      "3 X 2 = 6\n",
      "3 X 3 = 9\n",
      "3 X 4 = 12\n",
      "3 X 5 = 15\n",
      "3 X 6 = 18\n",
      "3 X 7 = 21\n",
      "3 X 8 = 24\n",
      "3 X 9 = 27\n",
      "3 X 10 = 30\n",
      "\n"
     ]
    }
   ],
   "source": [
    "n=int(input(\"Enter a no. :\"))\n",
    "\n",
    "for i in range(2,n+1):\n",
    "    for j in range(1,11):\n",
    "        print(i,\"X\",j,\"=\",j*i)\n",
    "    print()"
   ]
  },
  {
   "cell_type": "code",
   "execution_count": 3,
   "id": "68f4aa9e",
   "metadata": {},
   "outputs": [
    {
     "name": "stdout",
     "output_type": "stream",
     "text": [
      "Enter a no. :6\n",
      "2 X 1 = 2   |  3 X 1 = 3   |  4 X 1 = 4   |  5 X 1 = 5   |  6 X 1 = 6   |  \n",
      "2 X 2 = 4   |  3 X 2 = 6   |  4 X 2 = 8   |  5 X 2 = 10  |  6 X 2 = 12  |  \n",
      "2 X 3 = 6   |  3 X 3 = 9   |  4 X 3 = 12  |  5 X 3 = 15  |  6 X 3 = 18  |  \n",
      "2 X 4 = 8   |  3 X 4 = 12  |  4 X 4 = 16  |  5 X 4 = 20  |  6 X 4 = 24  |  \n",
      "2 X 5 = 10  |  3 X 5 = 15  |  4 X 5 = 20  |  5 X 5 = 25  |  6 X 5 = 30  |  \n",
      "2 X 6 = 12  |  3 X 6 = 18  |  4 X 6 = 24  |  5 X 6 = 30  |  6 X 6 = 36  |  \n",
      "2 X 7 = 14  |  3 X 7 = 21  |  4 X 7 = 28  |  5 X 7 = 35  |  6 X 7 = 42  |  \n",
      "2 X 8 = 16  |  3 X 8 = 24  |  4 X 8 = 32  |  5 X 8 = 40  |  6 X 8 = 48  |  \n",
      "2 X 9 = 18  |  3 X 9 = 27  |  4 X 9 = 36  |  5 X 9 = 45  |  6 X 9 = 54  |  \n",
      "2 X 10 = 20 |  3 X 10 = 30 |  4 X 10 = 40 |  5 X 10 = 50 |  6 X 10 = 60 |  \n"
     ]
    }
   ],
   "source": [
    "n=int(input(\"Enter a no. :\"))\n",
    "\n",
    "for i in range(1,11):\n",
    "    for j in range(2,n+1):\n",
    "        print(j,\"X\",i,\"=\",j*i,end=\"\")\n",
    "        if j*i<=9:\n",
    "            print(end=\"   |  \")\n",
    "        elif i==10:\n",
    "            print(end=\" |  \")\n",
    "        else:\n",
    "            print(end=\"  |  \")\n",
    "    print()"
   ]
  },
  {
   "cell_type": "raw",
   "id": "cbf23c62",
   "metadata": {},
   "source": [
    "# While loop"
   ]
  },
  {
   "cell_type": "code",
   "execution_count": 34,
   "id": "0e70eb69",
   "metadata": {},
   "outputs": [
    {
     "name": "stdout",
     "output_type": "stream",
     "text": [
      "0\n",
      "1\n",
      "2\n",
      "3\n",
      "4\n",
      "5\n",
      "6\n"
     ]
    }
   ],
   "source": [
    "# while loop\n",
    "# x=True\n",
    "# while x:    # infinite loop\n",
    "#     print(x)\n",
    "c =0\n",
    "while c<7:\n",
    "    print(c)\n",
    "    c+=1  # updation (increment/decrement) is importatnt"
   ]
  },
  {
   "cell_type": "raw",
   "id": "b5c16a50",
   "metadata": {},
   "source": [
    "Break and Continue Statement"
   ]
  },
  {
   "cell_type": "code",
   "execution_count": 38,
   "id": "d2f64d66",
   "metadata": {},
   "outputs": [
    {
     "name": "stdout",
     "output_type": "stream",
     "text": [
      "10\n",
      "20\n",
      "30\n",
      "40\n",
      "50\n",
      "End of program\n"
     ]
    }
   ],
   "source": [
    "# break statement terminates the loop if centain condition is fullfilled\n",
    "per=[10,20,30,40,50,777,60,70]\n",
    "for i in per:\n",
    "    if i<100:\n",
    "        print(i)\n",
    "    else:\n",
    "        break\n",
    "print(\"End of program\")"
   ]
  },
  {
   "cell_type": "code",
   "execution_count": 40,
   "id": "baabc404",
   "metadata": {},
   "outputs": [
    {
     "name": "stdout",
     "output_type": "stream",
     "text": [
      "10\n",
      "20\n",
      "30\n",
      "40\n",
      "50\n",
      "60\n",
      "70\n",
      "End of program\n"
     ]
    }
   ],
   "source": [
    "# Continue statement carry out(terminates) from the iteration if centain condition is fullfilled but loop will be continued\n",
    "per=[10,20,30,40,50,777,60,70]\n",
    "for i in per:\n",
    "    if i<100:\n",
    "        print(i)\n",
    "    else:\n",
    "        continue\n",
    "print(\"End of program\")"
   ]
  },
  {
   "cell_type": "code",
   "execution_count": 43,
   "id": "819f5d00",
   "metadata": {},
   "outputs": [
    {
     "name": "stdout",
     "output_type": "stream",
     "text": [
      "10\n",
      "20\n",
      "30\n",
      "40\n",
      "50\n",
      "wrong per -> 777\n",
      "60\n",
      "70\n",
      "End of program\n"
     ]
    }
   ],
   "source": [
    "per=[10,20,30,40,50,777,60,70]\n",
    "for i in per:\n",
    "    if i>100:\n",
    "        print(\"wrong per ->\",end=\" \")\n",
    "        print(i)\n",
    "    else:\n",
    "        print(i)\n",
    "print(\"End of program\")"
   ]
  },
  {
   "cell_type": "code",
   "execution_count": 46,
   "id": "6a3b3888",
   "metadata": {},
   "outputs": [
    {
     "name": "stdout",
     "output_type": "stream",
     "text": [
      "10\n",
      "20\n",
      "30\n",
      "40\n",
      "50\n",
      "wrong per\n",
      "60\n",
      "70\n",
      "End of program\n"
     ]
    }
   ],
   "source": [
    "per=[10,20,30,40,50,777,60,70]\n",
    "for i in per:\n",
    "    if i>100:\n",
    "        print(\"wrong per\")\n",
    "        continue\n",
    "    print(i)\n",
    "print(\"End of program\")"
   ]
  },
  {
   "cell_type": "code",
   "execution_count": 47,
   "id": "df73fa14",
   "metadata": {},
   "outputs": [
    {
     "name": "stdout",
     "output_type": "stream",
     "text": [
      "10\n",
      "20\n",
      "30\n",
      "40\n",
      "50\n",
      "wrong per\n",
      "End of program\n"
     ]
    }
   ],
   "source": [
    "per=[10,20,30,40,50,777,60,70]\n",
    "for i in per:\n",
    "    if i>100:\n",
    "        print(\"wrong per\")\n",
    "        break\n",
    "    print(i)\n",
    "print(\"End of program\")"
   ]
  },
  {
   "cell_type": "raw",
   "id": "0bc10d31",
   "metadata": {},
   "source": [
    "Pass Statement"
   ]
  },
  {
   "cell_type": "code",
   "execution_count": 50,
   "id": "1a334cd9",
   "metadata": {},
   "outputs": [
    {
     "ename": "IndentationError",
     "evalue": "expected an indented block after 'if' statement on line 3 (703659087.py, line 5)",
     "output_type": "error",
     "traceback": [
      "\u001b[1;36m  Cell \u001b[1;32mIn[50], line 5\u001b[1;36m\u001b[0m\n\u001b[1;33m    else:\u001b[0m\n\u001b[1;37m    ^\u001b[0m\n\u001b[1;31mIndentationError\u001b[0m\u001b[1;31m:\u001b[0m expected an indented block after 'if' statement on line 3\n"
     ]
    }
   ],
   "source": [
    "#pass\n",
    "i=input(\"Enetr a value:\")\n",
    "if i<8:\n",
    "    \n",
    "else:\n",
    "    print(\"Wrong value\")"
   ]
  },
  {
   "cell_type": "code",
   "execution_count": 55,
   "id": "c4c5a19f",
   "metadata": {},
   "outputs": [
    {
     "name": "stdout",
     "output_type": "stream",
     "text": [
      "Enetr a value:5\n"
     ]
    }
   ],
   "source": [
    "#pass\n",
    "i=int(input(\"Enetr a value:\"))\n",
    "if i<8:\n",
    "    pass\n",
    "else:\n",
    "    print(\"Wrong value\")"
   ]
  },
  {
   "cell_type": "code",
   "execution_count": 56,
   "id": "0a679bb6",
   "metadata": {},
   "outputs": [
    {
     "name": "stdout",
     "output_type": "stream",
     "text": [
      "Enetr a value:88\n",
      "Wrong value\n"
     ]
    }
   ],
   "source": [
    "#pass\n",
    "i=int(input(\"Enetr a value:\"))\n",
    "if i<8:\n",
    "    pass\n",
    "else:\n",
    "    print(\"Wrong value\")"
   ]
  },
  {
   "cell_type": "raw",
   "id": "ffbc9f2c",
   "metadata": {},
   "source": [
    "### FOR ELSE (it is a construct)"
   ]
  },
  {
   "cell_type": "code",
   "execution_count": 64,
   "id": "aadef38a",
   "metadata": {},
   "outputs": [
    {
     "name": "stdout",
     "output_type": "stream",
     "text": [
      "Enter a number:-7\n",
      "End of program\n"
     ]
    }
   ],
   "source": [
    "# when for loops condition is false then else part is executed\n",
    "\n",
    "n=int(input(\"Enter a number:\"))\n",
    "for i in range(0,n-1):\n",
    "    if n<=0:    \n",
    "        print(i)\n",
    "    else:\n",
    "        break\n",
    "else:\n",
    "    print(\"End of program\")"
   ]
  },
  {
   "cell_type": "code",
   "execution_count": null,
   "id": "ffe12583",
   "metadata": {},
   "outputs": [],
   "source": []
  }
 ],
 "metadata": {
  "kernelspec": {
   "display_name": "Python 3 (ipykernel)",
   "language": "python",
   "name": "python3"
  },
  "language_info": {
   "codemirror_mode": {
    "name": "ipython",
    "version": 3
   },
   "file_extension": ".py",
   "mimetype": "text/x-python",
   "name": "python",
   "nbconvert_exporter": "python",
   "pygments_lexer": "ipython3",
   "version": "3.11.3"
  }
 },
 "nbformat": 4,
 "nbformat_minor": 5
}
