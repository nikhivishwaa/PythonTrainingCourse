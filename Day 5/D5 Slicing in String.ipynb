{
 "cells": [
  {
   "cell_type": "markdown",
   "id": "fbc08d49",
   "metadata": {},
   "source": [
    "# Slicing in String"
   ]
  },
  {
   "cell_type": "code",
   "execution_count": 1,
   "id": "ea49e86a",
   "metadata": {},
   "outputs": [
    {
     "data": {
      "text/plain": [
       "[1, 5, 8, 'nikhil', 'pankaj', 56]"
      ]
     },
     "execution_count": 1,
     "metadata": {},
     "output_type": "execute_result"
    }
   ],
   "source": [
    "l=[1,5,8,\"nikhil\",\"pankaj\",56]\n",
    "l[:]"
   ]
  },
  {
   "cell_type": "code",
   "execution_count": 2,
   "id": "4c7b151b",
   "metadata": {},
   "outputs": [
    {
     "data": {
      "text/plain": [
       "'t'"
      ]
     },
     "execution_count": 2,
     "metadata": {},
     "output_type": "execute_result"
    }
   ],
   "source": [
    "s=\"we are the students of AIDS Department\"\n",
    "s[7]"
   ]
  },
  {
   "cell_type": "code",
   "execution_count": 3,
   "id": "e20f8b80",
   "metadata": {},
   "outputs": [
    {
     "data": {
      "text/plain": [
       "'we ar'"
      ]
     },
     "execution_count": 3,
     "metadata": {},
     "output_type": "execute_result"
    }
   ],
   "source": [
    "s[0:5]  # -> gives 0,1,2,3,4 th idexed value"
   ]
  },
  {
   "cell_type": "code",
   "execution_count": 5,
   "id": "36df358e",
   "metadata": {},
   "outputs": [
    {
     "data": {
      "text/plain": [
       "'we are the students of AIDS Department'"
      ]
     },
     "execution_count": 5,
     "metadata": {},
     "output_type": "execute_result"
    }
   ],
   "source": [
    "s[0:]   # -> gives 0 to len(s)th indexed value"
   ]
  },
  {
   "cell_type": "code",
   "execution_count": 6,
   "id": "982283d2",
   "metadata": {},
   "outputs": [
    {
     "data": {
      "text/plain": [
       "'we are the'"
      ]
     },
     "execution_count": 6,
     "metadata": {},
     "output_type": "execute_result"
    }
   ],
   "source": [
    "s[:10]   # -> gives 0 to 10 th indexed value"
   ]
  },
  {
   "cell_type": "code",
   "execution_count": 7,
   "id": "e50dcc04",
   "metadata": {},
   "outputs": [
    {
     "data": {
      "text/plain": [
       "'we are the students of AIDS Department'"
      ]
     },
     "execution_count": 7,
     "metadata": {},
     "output_type": "execute_result"
    }
   ],
   "source": [
    "s[:]  # gives complete string"
   ]
  },
  {
   "cell_type": "code",
   "execution_count": 8,
   "id": "b0cd27a4",
   "metadata": {},
   "outputs": [
    {
     "ename": "SyntaxError",
     "evalue": "invalid syntax. Perhaps you forgot a comma? (1385975039.py, line 1)",
     "output_type": "error",
     "traceback": [
      "\u001b[1;36m  Cell \u001b[1;32mIn[8], line 1\u001b[1;36m\u001b[0m\n\u001b[1;33m    print(s[])  # throws error\u001b[0m\n\u001b[1;37m          ^\u001b[0m\n\u001b[1;31mSyntaxError\u001b[0m\u001b[1;31m:\u001b[0m invalid syntax. Perhaps you forgot a comma?\n"
     ]
    }
   ],
   "source": [
    "print(s[])  # throws error"
   ]
  },
  {
   "cell_type": "code",
   "execution_count": 9,
   "id": "e64d842f",
   "metadata": {},
   "outputs": [
    {
     "name": "stdout",
     "output_type": "stream",
     "text": [
      "we are the students of AIDS Department\n"
     ]
    }
   ],
   "source": [
    "print(s[:])  # gives complete string [0:len(s)]"
   ]
  },
  {
   "cell_type": "code",
   "execution_count": 23,
   "id": "b9a28fce",
   "metadata": {},
   "outputs": [
    {
     "name": "stdout",
     "output_type": "stream",
     "text": [
      " r h tdn\n",
      "sndt h r\n",
      "we are the students of AIDS Department\n",
      "tnemtrapeD SDIA fo stneduts eht era ew\n",
      "\n",
      "\n"
     ]
    }
   ],
   "source": [
    "print(s[2:18:2])  # s[starting point:(ending point-1):increment by (1 is default)]\n",
    "print(s[18:2:-2])\n",
    "print(s[:])\n",
    "print(s[::-1])  # reverse the string\n",
    "print(s[2:18:-2])  # logical error\n",
    "print(s[18:2])  # logical error"
   ]
  },
  {
   "cell_type": "code",
   "execution_count": 30,
   "id": "ad75c222",
   "metadata": {},
   "outputs": [
    {
     "name": "stdout",
     "output_type": "stream",
     "text": [
      "38\n",
      "we are the students of AIDS Departmen\n",
      "\n",
      "\n",
      "\n"
     ]
    }
   ],
   "source": [
    "# backward indexing\n",
    "print(len(s))\n",
    "print(s[-38:-1])  # -> it gives (n-1)--->(-1-1)=(-2)th index\n",
    "print(s[-1:-5])  # logical error\n",
    "print(s[-38:-1:-1])  # logical error\n",
    "print(s[-38:0:1])  # logical error (0 is not allowed in backward indexing)"
   ]
  },
  {
   "cell_type": "code",
   "execution_count": 20,
   "id": "66557810",
   "metadata": {},
   "outputs": [
    {
     "name": "stdout",
     "output_type": "stream",
     "text": [
      "tnemtrapeD SDIA fo stneduts eht era e\n"
     ]
    }
   ],
   "source": [
    "print(s[-1:-38:-1]) # reverse order "
   ]
  },
  {
   "cell_type": "code",
   "execution_count": 31,
   "id": "8070a2e2",
   "metadata": {},
   "outputs": [
    {
     "name": "stdout",
     "output_type": "stream",
     "text": [
      "38\n"
     ]
    }
   ],
   "source": [
    "print(len(s))"
   ]
  },
  {
   "cell_type": "code",
   "execution_count": 34,
   "id": "5c532ae2",
   "metadata": {},
   "outputs": [
    {
     "name": "stdout",
     "output_type": "stream",
     "text": [
      "True\n",
      "False\n"
     ]
    }
   ],
   "source": [
    "print(\"are\" in s)  # \"are\" is a Substring\n",
    "print(\"hgjhkj\" in s)"
   ]
  },
  {
   "cell_type": "code",
   "execution_count": 38,
   "id": "e0ed7647",
   "metadata": {},
   "outputs": [
    {
     "name": "stdout",
     "output_type": "stream",
     "text": [
      "3\n",
      "-1\n"
     ]
    }
   ],
   "source": [
    "print(s.find(\"are\")) # it gives index of substring if present in string else return -1\n",
    "print(s.find(\"dbhjdf\"))"
   ]
  },
  {
   "cell_type": "code",
   "execution_count": 40,
   "id": "20b1acad",
   "metadata": {},
   "outputs": [
    {
     "name": "stdout",
     "output_type": "stream",
     "text": [
      "3\n"
     ]
    },
    {
     "ename": "ValueError",
     "evalue": "substring not found",
     "output_type": "error",
     "traceback": [
      "\u001b[1;31m---------------------------------------------------------------------------\u001b[0m",
      "\u001b[1;31mValueError\u001b[0m                                Traceback (most recent call last)",
      "Cell \u001b[1;32mIn[40], line 2\u001b[0m\n\u001b[0;32m      1\u001b[0m \u001b[38;5;28mprint\u001b[39m(s\u001b[38;5;241m.\u001b[39mindex(\u001b[38;5;124m\"\u001b[39m\u001b[38;5;124mare\u001b[39m\u001b[38;5;124m\"\u001b[39m)) \u001b[38;5;66;03m# it gives index of substring if present in string else throws an error\u001b[39;00m\n\u001b[1;32m----> 2\u001b[0m \u001b[38;5;28mprint\u001b[39m(\u001b[43ms\u001b[49m\u001b[38;5;241;43m.\u001b[39;49m\u001b[43mindex\u001b[49m\u001b[43m(\u001b[49m\u001b[38;5;124;43m\"\u001b[39;49m\u001b[38;5;124;43mdbhjdf\u001b[39;49m\u001b[38;5;124;43m\"\u001b[39;49m\u001b[43m)\u001b[49m)\n",
      "\u001b[1;31mValueError\u001b[0m: substring not found"
     ]
    }
   ],
   "source": [
    "print(s.index(\"are\")) # it gives index of substring if present in string else throws an error\n",
    "print(s.index(\"dbhjdf\"))"
   ]
  },
  {
   "cell_type": "code",
   "execution_count": 43,
   "id": "09d2b849",
   "metadata": {},
   "outputs": [
    {
     "name": "stdout",
     "output_type": "stream",
     "text": [
      "     Vaishnavi mahira       \n",
      "Vaishnavi mahira\n",
      "     Vaishnavi mahira\n",
      "Vaishnavi mahira       \n"
     ]
    }
   ],
   "source": [
    "s = \"     Vaishnavi mahira       \"\n",
    "print(s)\n",
    "print(s.strip())  # strip in both side(remove extra spaces)\n",
    "print(s.rstrip())  # strip in right side but left side remains same\n",
    "print(s.lstrip())  # strip in left side but right side remains same"
   ]
  },
  {
   "cell_type": "code",
   "execution_count": 44,
   "id": "e49ef89f",
   "metadata": {},
   "outputs": [
    {
     "name": "stdout",
     "output_type": "stream",
     "text": [
      "!!! Vaishnavi mahira !!!!!\n",
      " Vaishnavi mahira \n",
      "!!! Vaishnavi mahira \n",
      " Vaishnavi mahira !!!!!\n"
     ]
    }
   ],
   "source": [
    "s = \"!!! Vaishnavi mahira !!!!!\"\n",
    "print(s)\n",
    "print(s.strip(\"!\"))  # strip in both side(remove substring)\n",
    "print(s.rstrip(\"!\"))  # strip in right side but left side remains same\n",
    "print(s.lstrip(\"!\"))  # strip in left side but right side remains same"
   ]
  },
  {
   "cell_type": "code",
   "execution_count": 48,
   "id": "89dea4db",
   "metadata": {},
   "outputs": [
    {
     "name": "stdout",
     "output_type": "stream",
     "text": [
      "-    Vaishnavi mahira     -\n",
      "-    Vaishnavi mahira     -\n",
      "-    Vaishnavi mahira     -\n",
      "-    Vaishnavi mahira     -\n"
     ]
    }
   ],
   "source": [
    "s = \"-    Vaishnavi mahira     -\"\n",
    "print(s)\n",
    "print(s.strip(\" \"))  \n",
    "print(s.rstrip(\" \"))  #no change in output\n",
    "print(s.lstrip(\" \"))  "
   ]
  },
  {
   "cell_type": "code",
   "execution_count": 49,
   "id": "133b0af7",
   "metadata": {},
   "outputs": [
    {
     "name": "stdout",
     "output_type": "stream",
     "text": [
      "-    Vaishnavi mahira     -\n",
      "-    Vaishnavi mahira     -\n",
      "-    Vaishnavi mahira     -\n",
      "-    Vaishnavi mahira     -\n"
     ]
    }
   ],
   "source": [
    "s = \"-    Vaishnavi mahira     -\"\n",
    "print(s)\n",
    "print(s.strip(\"i\"))  \n",
    "print(s.rstrip(\"i\"))  # no change in output\n",
    "print(s.lstrip(\"i\"))  "
   ]
  },
  {
   "cell_type": "code",
   "execution_count": 50,
   "id": "ed437508",
   "metadata": {},
   "outputs": [
    {
     "name": "stdout",
     "output_type": "stream",
     "text": [
      "-    Vaishnavi mahira     -\n",
      "    Vaishnavi mahira     \n",
      "-    Vaishnavi mahira     \n",
      "    Vaishnavi mahira     -\n"
     ]
    }
   ],
   "source": [
    "s = \"-    Vaishnavi mahira     -\"\n",
    "print(s)\n",
    "print(s.strip(\"-\"))  # strip in both side(remove substring)\n",
    "print(s.rstrip(\"-\"))  # strip in right side but left side remains same\n",
    "print(s.lstrip(\"-\"))  # strip in left side but right side remains same"
   ]
  },
  {
   "cell_type": "code",
   "execution_count": 52,
   "id": "131dbf59",
   "metadata": {},
   "outputs": [
    {
     "name": "stdout",
     "output_type": "stream",
     "text": [
      "1\n",
      "3\n"
     ]
    }
   ],
   "source": [
    "s=\"hello oo Hello oo Hello oo Hello\"\n",
    "print(s.count(\"hello\"))\n",
    "print(s.count(\"Hello\"))  # gives the count of substring in base string it is case sensitive"
   ]
  },
  {
   "cell_type": "code",
   "execution_count": 53,
   "id": "a9714550",
   "metadata": {},
   "outputs": [
    {
     "name": "stdout",
     "output_type": "stream",
     "text": [
      "hello oo Hooo oo Hooo oo Hooo\n"
     ]
    }
   ],
   "source": [
    "print(s.replace(\"Hell\",\"Hoo\"))"
   ]
  },
  {
   "cell_type": "code",
   "execution_count": 56,
   "id": "7f4fb1a4",
   "metadata": {},
   "outputs": [
    {
     "name": "stdout",
     "output_type": "stream",
     "text": [
      "hello oo Hello oo Hello oo Hello\n",
      "2461963308656\n",
      "hello oo Hooo oo Hooo oo Hooo\n",
      "2461969054448\n"
     ]
    }
   ],
   "source": [
    "s=\"hello oo Hello oo Hello oo Hello\"\n",
    "print(s)\n",
    "print(id(s))  \n",
    "s = s.replace(\"Hell\",\"Hoo\")\n",
    "print(s)\n",
    "print(id(s))"
   ]
  },
  {
   "cell_type": "code",
   "execution_count": 58,
   "id": "23c2af8e",
   "metadata": {},
   "outputs": [
    {
     "name": "stdout",
     "output_type": "stream",
     "text": [
      "False\n",
      "True\n",
      "False\n",
      "False\n"
     ]
    }
   ],
   "source": [
    "s=\"abf52436dfsghdf\"\n",
    "t=\"dfhdgbhdjThd\"\n",
    "u=\"dshjvbjh!#@!hvg3165146\"\n",
    "n=\"123654125\"\n",
    "print(s.isalpha())  # it checks the string is alphabatical or not (a-z)(A-Z)\n",
    "print(t.isalpha())\n",
    "print(u.isalpha())\n",
    "print(n.isalpha())"
   ]
  },
  {
   "cell_type": "code",
   "execution_count": 59,
   "id": "e8a63308",
   "metadata": {},
   "outputs": [
    {
     "name": "stdout",
     "output_type": "stream",
     "text": [
      "True\n",
      "True\n",
      "False\n",
      "True\n"
     ]
    }
   ],
   "source": [
    "s=\"abf52436dfsghdf\"\n",
    "t=\"dfhdgbhdjThd\"\n",
    "u=\"dshjvbjh!#@!hvg3165146\"\n",
    "n=\"123654125\"\n",
    "print(s.isalnum())  # it checks the string is alpha numerical or not (a-z)(A-Z)(0-9)\n",
    "print(t.isalnum())\n",
    "print(u.isalnum())\n",
    "print(n.isalnum())"
   ]
  },
  {
   "cell_type": "code",
   "execution_count": 60,
   "id": "f1600411",
   "metadata": {},
   "outputs": [
    {
     "name": "stdout",
     "output_type": "stream",
     "text": [
      "False\n",
      "False\n",
      "False\n",
      "True\n"
     ]
    }
   ],
   "source": [
    "s=\"abf52436dfsghdf\"\n",
    "t=\"dfhdgbhdjThd\"\n",
    "u=\"dshjvbjh!#@!hvg3165146\"\n",
    "n=\"123654125\"\n",
    "print(s.isnumeric())  # it checks the string is numerical or not (a-z)(A-Z)\n",
    "print(t.isnumeric())\n",
    "print(u.isnumeric())\n",
    "print(n.isnumeric())"
   ]
  },
  {
   "cell_type": "code",
   "execution_count": 62,
   "id": "176b82bb",
   "metadata": {},
   "outputs": [
    {
     "name": "stdout",
     "output_type": "stream",
     "text": [
      "False\n",
      "True\n",
      "True\n",
      "False\n"
     ]
    }
   ],
   "source": [
    "s=\" nikhil vishwakrama\"\n",
    "t=\"       \\n\\n\"\n",
    "g=\"            \"\n",
    "u=\"nikhilvishwakarma\"\n",
    "print(s.isspace())  # it checks the string has only spaces or not\n",
    "print(t.isspace())\n",
    "print(t.isspace())\n",
    "print(u.isspace())"
   ]
  },
  {
   "cell_type": "code",
   "execution_count": 64,
   "id": "89392ee4",
   "metadata": {},
   "outputs": [
    {
     "name": "stdout",
     "output_type": "stream",
     "text": [
      "False\n",
      "True\n",
      "False\n",
      "False\n"
     ]
    }
   ],
   "source": [
    "s=\"knfbgjdkbn njdfb\"\n",
    "t=\"HJDFSVB DSVJ  FSN\"\n",
    "u=\"tFGBJdd DEbdfb\"\n",
    "n=\"1236541SBNJKNB  fdbg 25\"\n",
    "print(s.isupper())  # it checks the string is in capital letters or not (A-Z)\n",
    "print(t.isupper())\n",
    "print(u.isupper())\n",
    "print(n.isupper())"
   ]
  },
  {
   "cell_type": "code",
   "execution_count": 65,
   "id": "bb193841",
   "metadata": {},
   "outputs": [
    {
     "name": "stdout",
     "output_type": "stream",
     "text": [
      "True\n",
      "False\n",
      "False\n",
      "False\n"
     ]
    }
   ],
   "source": [
    "s=\"knfbgjdkbn njdfb\"\n",
    "t=\"HJDFSVB DSVJ  FSN\"\n",
    "u=\"tFGBJdd DEbdfb\"\n",
    "n=\"1236541SBNJKNB  fdbg 25\"\n",
    "print(s.islower())  # it checks the string is in small letters or not (a-z)\n",
    "print(t.islower())\n",
    "print(u.islower())\n",
    "print(n.islower())"
   ]
  },
  {
   "cell_type": "code",
   "execution_count": 66,
   "id": "10162cbd",
   "metadata": {},
   "outputs": [
    {
     "name": "stdout",
     "output_type": "stream",
     "text": [
      "NIKHIL VISHWAKARMA\n",
      "nikhil vishwakarma\n",
      "Nikhil vishwakarma\n"
     ]
    }
   ],
   "source": [
    "s=\"nikhil vishwakarma\"\n",
    "\n",
    "print(s.upper())  # it change the string in capital letters (upper case) or not (A-Z)\n",
    "print(s.lower())\n",
    "print(s.capitalize())"
   ]
  },
  {
   "cell_type": "code",
   "execution_count": 70,
   "id": "fa14cde0",
   "metadata": {},
   "outputs": [
    {
     "name": "stdout",
     "output_type": "stream",
     "text": [
      "['n', 'i', 'k', 'h', 'i', 'l', ' ', 'v', 'i', 's', 'h', 'w', 'a', 'k', 'a', 'r', 'm', 'a', ' ', 'f', 'r', 'o', 'm', ' ', 'a', 'i', 'd', 's', ' ', 'b', 'a', 'r', 'n', 'c', 'h', ' ', '2', '0', '2', '2', '-', '2', '6', ' ', 'b', 'a', 't', 'c', 'h']\n",
      "nikhil vishwakarma from aids barnch 2022-26 batch\n",
      "['nikhil', 'vishwakarma', 'from', 'aids', 'barnch', '2022-26', 'batch']\n",
      "['nikhil vishwakarma from aids barnch 2022', '26 batch']\n"
     ]
    }
   ],
   "source": [
    "s=\"nikhil vishwakarma from aids barnch 2022-26 batch\"\n",
    "l=list(s)\n",
    "print(l)\n",
    "print(s)\n",
    "print(s.split()) # it gives the list\n",
    "print(s.split(\"-\"))"
   ]
  },
  {
   "cell_type": "code",
   "execution_count": 78,
   "id": "e4b155a3",
   "metadata": {},
   "outputs": [
    {
     "name": "stdout",
     "output_type": "stream",
     "text": [
      "1*2*3*4*5*6*7\n",
      "<class 'str'>\n",
      "1_2_3_4_5_6_7\n",
      "None\n",
      "1234567\n",
      "None\n"
     ]
    }
   ],
   "source": [
    "x=[\"1\",\"2\",\"3\",\"4\",\"5\",\"6\",\"7\"]\n",
    "s=\"*\".join(x)\n",
    "t=\"\".join(x)\n",
    "u=\"_\".join(x)\n",
    "print(s)\n",
    "print(type(s))\n",
    "print(print(u))\n",
    "print(print(t))"
   ]
  },
  {
   "cell_type": "code",
   "execution_count": null,
   "id": "9fb6c548",
   "metadata": {},
   "outputs": [],
   "source": []
  }
 ],
 "metadata": {
  "kernelspec": {
   "display_name": "Python 3 (ipykernel)",
   "language": "python",
   "name": "python3"
  },
  "language_info": {
   "codemirror_mode": {
    "name": "ipython",
    "version": 3
   },
   "file_extension": ".py",
   "mimetype": "text/x-python",
   "name": "python",
   "nbconvert_exporter": "python",
   "pygments_lexer": "ipython3",
   "version": "3.11.3"
  }
 },
 "nbformat": 4,
 "nbformat_minor": 5
}
