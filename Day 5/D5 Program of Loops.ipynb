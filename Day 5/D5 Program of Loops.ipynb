{
 "cells": [
  {
   "cell_type": "markdown",
   "id": "a7e8c2df",
   "metadata": {},
   "source": [
    "# Program of loops "
   ]
  },
  {
   "cell_type": "code",
   "execution_count": 12,
   "id": "1adb34b9",
   "metadata": {},
   "outputs": [
    {
     "name": "stdout",
     "output_type": "stream",
     "text": [
      "Enter a no.:12\n",
      "2\n",
      "4\n",
      "6\n",
      "8\n",
      "10\n",
      "12\n",
      "14\n",
      "16\n",
      "18\n",
      "20\n",
      "22\n",
      "24\n"
     ]
    }
   ],
   "source": [
    "# write a program to print first n even natural no.\n",
    "\n",
    "n=int(input(\"Enter a no.:\"))\n",
    "count=0\n",
    "i=1\n",
    "while count!=n:\n",
    "    if i%2==0:\n",
    "        print(i)\n",
    "        count+=1\n",
    "    if count==n:\n",
    "        break\n",
    "    i+=1"
   ]
  },
  {
   "cell_type": "code",
   "execution_count": 14,
   "id": "97ee87a8",
   "metadata": {},
   "outputs": [
    {
     "name": "stdout",
     "output_type": "stream",
     "text": [
      "Enter a no.:10\n",
      "20\n",
      "18\n",
      "16\n",
      "14\n",
      "12\n",
      "10\n",
      "8\n",
      "6\n",
      "4\n",
      "2\n"
     ]
    }
   ],
   "source": [
    "# write a program to print first n even natural no. in reverse order\n",
    "\n",
    "n=int(input(\"Enter a no.:\"))\n",
    "count=0\n",
    "i=n*2\n",
    "while i>1:\n",
    "    if i%2==0:\n",
    "        print(i)\n",
    "        count+=1\n",
    "    i-=1"
   ]
  },
  {
   "cell_type": "code",
   "execution_count": 7,
   "id": "1edac5d2",
   "metadata": {},
   "outputs": [
    {
     "name": "stdout",
     "output_type": "stream",
     "text": [
      "Enter a no.:15\n",
      "Cube of 1 = 1\n",
      "Cube of 2 = 8\n",
      "Cube of 3 = 27\n",
      "Cube of 4 = 64\n",
      "Cube of 5 = 125\n",
      "Cube of 6 = 216\n",
      "Cube of 7 = 343\n",
      "Cube of 8 = 512\n",
      "Cube of 9 = 729\n",
      "Cube of 10 = 1000\n",
      "Cube of 11 = 1331\n",
      "Cube of 12 = 1728\n",
      "Cube of 13 = 2197\n",
      "Cube of 14 = 2744\n",
      "Cube of 15 = 3375\n"
     ]
    }
   ],
   "source": [
    "# write a program to print cubes of first n natural no.\n",
    "\n",
    "n=int(input(\"Enter a no.:\"))\n",
    "for i in range(1,n+1):\n",
    "    print(\"Cube of\",i,\"=\",i**3)"
   ]
  },
  {
   "cell_type": "code",
   "execution_count": 23,
   "id": "a34620aa",
   "metadata": {},
   "outputs": [
    {
     "name": "stdout",
     "output_type": "stream",
     "text": [
      "Enter a Text:Nikhil Ik\n",
      "i\n",
      "i\n",
      "I\n"
     ]
    }
   ],
   "source": [
    "# write a program to print only vowels of a given string \n",
    "\n",
    "s=input(\"Enter a Text:\")\n",
    "v=\"aeiou\"\n",
    "for i in s:\n",
    "        if i in v:\n",
    "            print(i)\n",
    "        elif i in v.upper():\n",
    "            print(i)"
   ]
  },
  {
   "cell_type": "code",
   "execution_count": 5,
   "id": "e442adb9",
   "metadata": {},
   "outputs": [
    {
     "name": "stdout",
     "output_type": "stream",
     "text": [
      "Enter a No.:122465124123\n",
      "1\n",
      "2\n",
      "4\n",
      "6\n",
      "5\n",
      "3\n"
     ]
    }
   ],
   "source": [
    "# write a program to print unique digits of a given integer\n",
    "n=input(\"Enter a No.:\")\n",
    "l=[]\n",
    "l.append(n[0])\n",
    "print(l[0])\n",
    "for i in n:\n",
    "    if i in l:\n",
    "        continue\n",
    "    else:\n",
    "        l.append(i)\n",
    "    print(i)"
   ]
  },
  {
   "cell_type": "code",
   "execution_count": 21,
   "id": "208aa0ca",
   "metadata": {},
   "outputs": [
    {
     "name": "stdout",
     "output_type": "stream",
     "text": [
      "Enter a Text:nikhil jhjf dshdie   hvuidh\n",
      "' ' is : 5\n"
     ]
    }
   ],
   "source": [
    "# write a program to print the count of spaces of a given string\n",
    "s=input(\"Enter a Text:\")\n",
    "print(\"' ' is :\",s.count(\" \"))"
   ]
  },
  {
   "cell_type": "code",
   "execution_count": null,
   "id": "45107bc2",
   "metadata": {},
   "outputs": [],
   "source": []
  }
 ],
 "metadata": {
  "kernelspec": {
   "display_name": "Python 3 (ipykernel)",
   "language": "python",
   "name": "python3"
  },
  "language_info": {
   "codemirror_mode": {
    "name": "ipython",
    "version": 3
   },
   "file_extension": ".py",
   "mimetype": "text/x-python",
   "name": "python",
   "nbconvert_exporter": "python",
   "pygments_lexer": "ipython3",
   "version": "3.11.3"
  }
 },
 "nbformat": 4,
 "nbformat_minor": 5
}
