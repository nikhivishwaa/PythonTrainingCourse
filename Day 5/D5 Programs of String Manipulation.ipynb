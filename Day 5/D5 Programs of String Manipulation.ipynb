{
 "cells": [
  {
   "cell_type": "markdown",
   "id": "29bde59b",
   "metadata": {},
   "source": [
    "# Programs of String"
   ]
  },
  {
   "cell_type": "code",
   "execution_count": 2,
   "id": "4553b99f",
   "metadata": {},
   "outputs": [
    {
     "name": "stdout",
     "output_type": "stream",
     "text": [
      "Enter a text:nikhilVishwakarma\n",
      "Alphabetical String\n"
     ]
    }
   ],
   "source": [
    "# 1) write a program to check given string has only alphabets\n",
    "s=input(\"Enter a text:\")\n",
    "if s.isalpha():\n",
    "    print(\"Alphabetical String\")\n",
    "else:\n",
    "    print(\"Not a Alphabetical String\")\n",
    "    "
   ]
  },
  {
   "cell_type": "code",
   "execution_count": 4,
   "id": "62b5660a",
   "metadata": {},
   "outputs": [
    {
     "name": "stdout",
     "output_type": "stream",
     "text": [
      "Enter a text:nikhil\n",
      "Enter a Character:i\n",
      "Character is Present\n"
     ]
    }
   ],
   "source": [
    "# 2) write a program to check if a given character is present in given string or not \n",
    "s=input(\"Enter a text:\")\n",
    "c=input(\"Enter a Character:\")\n",
    "if c in s:\n",
    "    print(\"Character is Present\")\n",
    "else:\n",
    "    print(\"Character is  Not Present\")\n",
    "    "
   ]
  },
  {
   "cell_type": "code",
   "execution_count": 6,
   "id": "2c21aff7",
   "metadata": {},
   "outputs": [
    {
     "name": "stdout",
     "output_type": "stream",
     "text": [
      "Enter a text:nikhil VISHWAKARMA Aids\n",
      "8 vowels present\n"
     ]
    }
   ],
   "source": [
    "# 3) write a program to count vowels present in  a given string\n",
    "s=input(\"Enter a text:\")\n",
    "v=\"aeiou\"\n",
    "c=0\n",
    "for i in s:\n",
    "    if i in v:\n",
    "        c+=1\n",
    "    elif i in v.upper():\n",
    "        c+=1\n",
    "print(c,\"vowels present\")"
   ]
  },
  {
   "cell_type": "code",
   "execution_count": 10,
   "id": "bc8f9956",
   "metadata": {},
   "outputs": [
    {
     "name": "stdout",
     "output_type": "stream",
     "text": [
      "Enter a text:hello hello Hello HE is she he\n",
      "Enter a word:he\n",
      "Count of \" he \" is 4\n"
     ]
    }
   ],
   "source": [
    "# 4) write a program to count words in a given string\n",
    "s=input(\"Enter a text:\")\n",
    "v=input(\"Enter a word:\")\n",
    "print(\"Count of \\\"\",v,\"\\\" is\",s.count(v))"
   ]
  },
  {
   "cell_type": "code",
   "execution_count": 1,
   "id": "7e5ce248",
   "metadata": {},
   "outputs": [
    {
     "name": "stdout",
     "output_type": "stream",
     "text": [
      "Enter a text:nikhil vishwakarma\n",
      "amrakawhsiv lihkin\n"
     ]
    }
   ],
   "source": [
    "# 5) write a program to reverse a string\n",
    "s = input(\"Enter a text:\")\n",
    "print(s[-1:-(len(s)+1):-1])"
   ]
  },
  {
   "cell_type": "code",
   "execution_count": 8,
   "id": "cc511611",
   "metadata": {},
   "outputs": [
    {
     "name": "stdout",
     "output_type": "stream",
     "text": [
      "Enter a text:sandeep nikhil ankit rahul\n",
      "peednas lihkin tikna luhar "
     ]
    }
   ],
   "source": [
    "# 6) write a program to reverse a string word wise\n",
    "s = input(\"Enter a text:\")\n",
    "l=s.split()\n",
    "for i in l:\n",
    "    r=i\n",
    "    print(r[-1:-(len(r)+1):-1],end=\" \")\n"
   ]
  },
  {
   "cell_type": "code",
   "execution_count": 9,
   "id": "c41dd7d1",
   "metadata": {},
   "outputs": [
    {
     "name": "stdout",
     "output_type": "stream",
     "text": [
      "Enter a text:nikhil 67 jrd 2 tata ok 4\n",
      "6\n",
      "7\n",
      "2\n",
      "4\n"
     ]
    }
   ],
   "source": [
    "# 7) write a program to extract no. from a given string and store all the no. in a list\n",
    "s = input(\"Enter a text:\")\n",
    "n=\"0123456789\"\n",
    "l=[]\n",
    "for i in s:\n",
    "    if i in n:\n",
    "        l.append(i)\n",
    "        print(i)\n",
    "    "
   ]
  },
  {
   "cell_type": "code",
   "execution_count": 13,
   "id": "ffeeff91",
   "metadata": {},
   "outputs": [
    {
     "name": "stdout",
     "output_type": "stream",
     "text": [
      "Enter a text:nitin\n",
      "String is Pallindrom\n"
     ]
    }
   ],
   "source": [
    "# 8) write a program to check whether a string is pllindron or not\n",
    "s = input(\"Enter a text:\")\n",
    "if s[-1:-(len(s)+1):-1] == s[0:len(s)+1]:\n",
    "    print(\"String is Pallindrom\")\n",
    "else:\n",
    "    print(\"Not a Pallindrom\")"
   ]
  },
  {
   "cell_type": "code",
   "execution_count": 14,
   "id": "34b733f2",
   "metadata": {},
   "outputs": [
    {
     "name": "stdout",
     "output_type": "stream",
     "text": [
      "Enter a text:nikhil vishwakarma\n",
      "NIKHIL VISHWAKARMA\n"
     ]
    }
   ],
   "source": [
    "# 8) write a program to transform a string in uppercase\n",
    "s = input(\"Enter a text:\")\n",
    "print(s.upper())"
   ]
  },
  {
   "cell_type": "code",
   "execution_count": 15,
   "id": "d7b9c21f",
   "metadata": {},
   "outputs": [
    {
     "name": "stdout",
     "output_type": "stream",
     "text": [
      "Enter a text:nikhil third sem aids department sistec gandhi nagar\n",
      "department\n"
     ]
    }
   ],
   "source": [
    "# 9) write a program to find max length words in a given string\n",
    "s = input(\"Enter a text:\")\n",
    "l=s.split()\n",
    "r = \"a\"\n",
    "for i in l:\n",
    "    if len(r)<=len(i):\n",
    "        r=i\n",
    "    else:\n",
    "        continue\n",
    "print(r)\n",
    "    "
   ]
  },
  {
   "cell_type": "code",
   "execution_count": null,
   "id": "d8e2e35a",
   "metadata": {},
   "outputs": [],
   "source": []
  }
 ],
 "metadata": {
  "kernelspec": {
   "display_name": "Python 3 (ipykernel)",
   "language": "python",
   "name": "python3"
  },
  "language_info": {
   "codemirror_mode": {
    "name": "ipython",
    "version": 3
   },
   "file_extension": ".py",
   "mimetype": "text/x-python",
   "name": "python",
   "nbconvert_exporter": "python",
   "pygments_lexer": "ipython3",
   "version": "3.11.3"
  }
 },
 "nbformat": 4,
 "nbformat_minor": 5
}
