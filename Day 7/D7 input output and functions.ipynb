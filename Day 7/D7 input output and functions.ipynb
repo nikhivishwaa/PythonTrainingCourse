{
 "cells": [
  {
   "cell_type": "code",
   "execution_count": 1,
   "id": "5cfb6b6f",
   "metadata": {},
   "outputs": [],
   "source": [
    "# Criteria of best Prpgram\n",
    "# 1> Syntax - way to write code\n",
    "# 2> Semantic - meaning of program\n",
    "# 3> Performance - time of execution\n",
    "# 4> Understandability - it helps in modification or upadtion in program"
   ]
  },
  {
   "cell_type": "markdown",
   "id": "55d069d9",
   "metadata": {},
   "source": [
    "# INPUT"
   ]
  },
  {
   "cell_type": "code",
   "execution_count": 3,
   "id": "5f2f4ca2",
   "metadata": {},
   "outputs": [
    {
     "name": "stdout",
     "output_type": "stream",
     "text": [
      "Enter number: 45\n",
      "45\n",
      "<class 'str'>\n"
     ]
    }
   ],
   "source": [
    "i=input(\"Enter number: \")\n",
    "print(i)\n",
    "print(type(i))"
   ]
  },
  {
   "cell_type": "code",
   "execution_count": 4,
   "id": "34757146",
   "metadata": {},
   "outputs": [
    {
     "name": "stdout",
     "output_type": "stream",
     "text": [
      "Enter number: 45\n",
      "45\n",
      "<class 'str'>\n",
      "45\n",
      "<class 'int'>\n"
     ]
    }
   ],
   "source": [
    "i=input(\"Enter number: \")\n",
    "print(i)\n",
    "print(type(i))\n",
    "j=int(i)\n",
    "print(j)\n",
    "print(type(j))"
   ]
  },
  {
   "cell_type": "code",
   "execution_count": 5,
   "id": "b5242d9d",
   "metadata": {},
   "outputs": [
    {
     "name": "stdout",
     "output_type": "stream",
     "text": [
      "Enter number: 5 \n",
      "Enter number: 54\n",
      "Enter number: 1\n"
     ]
    }
   ],
   "source": [
    "x=input(\"Enter number: \")\n",
    "y=input(\"Enter number: \")\n",
    "z=input(\"Enter number: \")"
   ]
  },
  {
   "cell_type": "code",
   "execution_count": 6,
   "id": "cd08a9b0",
   "metadata": {},
   "outputs": [
    {
     "name": "stdout",
     "output_type": "stream",
     "text": [
      "Enter 3 no.:\n",
      "5\n",
      "6\n",
      "8\n"
     ]
    }
   ],
   "source": [
    "print(\"Enter 3 no.:\")\n",
    "for i in range(0,3):\n",
    "    input()"
   ]
  },
  {
   "cell_type": "code",
   "execution_count": 7,
   "id": "2c8f670a",
   "metadata": {},
   "outputs": [
    {
     "name": "stdout",
     "output_type": "stream",
     "text": [
      "Enter the no.:5 4 8 9 6 5 2 3 6 4\n",
      "['5', '4', '8', '9', '6', '5', '2', '3', '6', '4']\n",
      "<class 'list'>\n"
     ]
    }
   ],
   "source": [
    "x=input(\"Enter the no.:\").split()\n",
    "print(x)\n",
    "print(type(x))"
   ]
  },
  {
   "cell_type": "code",
   "execution_count": 9,
   "id": "cd112327",
   "metadata": {},
   "outputs": [
    {
     "name": "stdout",
     "output_type": "stream",
     "text": [
      "Enter two no.:88 2\n"
     ]
    },
    {
     "ename": "TypeError",
     "evalue": "int() argument must be a string, a bytes-like object or a real number, not 'list'",
     "output_type": "error",
     "traceback": [
      "\u001b[1;31m---------------------------------------------------------------------------\u001b[0m",
      "\u001b[1;31mTypeError\u001b[0m                                 Traceback (most recent call last)",
      "Cell \u001b[1;32mIn[9], line 1\u001b[0m\n\u001b[1;32m----> 1\u001b[0m x\u001b[38;5;241m=\u001b[39m\u001b[38;5;28;43mint\u001b[39;49m\u001b[43m(\u001b[49m\u001b[38;5;28;43minput\u001b[39;49m\u001b[43m(\u001b[49m\u001b[38;5;124;43m\"\u001b[39;49m\u001b[38;5;124;43mEnter two no.:\u001b[39;49m\u001b[38;5;124;43m\"\u001b[39;49m\u001b[43m)\u001b[49m\u001b[38;5;241;43m.\u001b[39;49m\u001b[43msplit\u001b[49m\u001b[43m(\u001b[49m\u001b[43m)\u001b[49m\u001b[43m)\u001b[49m\n\u001b[0;32m      2\u001b[0m \u001b[38;5;28mprint\u001b[39m(x)\n\u001b[0;32m      3\u001b[0m \u001b[38;5;28mprint\u001b[39m(\u001b[38;5;28mtype\u001b[39m(x))\n",
      "\u001b[1;31mTypeError\u001b[0m: int() argument must be a string, a bytes-like object or a real number, not 'list'"
     ]
    }
   ],
   "source": [
    "x=int(input(\"Enter two no.:\").split())\n",
    "print(x)\n",
    "print(type(x))"
   ]
  },
  {
   "cell_type": "code",
   "execution_count": 11,
   "id": "c2091650",
   "metadata": {},
   "outputs": [
    {
     "name": "stdout",
     "output_type": "stream",
     "text": [
      "Enter two no.:5 6\n"
     ]
    },
    {
     "ename": "ValueError",
     "evalue": "invalid literal for int() with base 10: '5 6'",
     "output_type": "error",
     "traceback": [
      "\u001b[1;31m---------------------------------------------------------------------------\u001b[0m",
      "\u001b[1;31mValueError\u001b[0m                                Traceback (most recent call last)",
      "Cell \u001b[1;32mIn[11], line 1\u001b[0m\n\u001b[1;32m----> 1\u001b[0m x\u001b[38;5;241m=\u001b[39m\u001b[38;5;28;43mint\u001b[39;49m\u001b[43m(\u001b[49m\u001b[38;5;28;43minput\u001b[39;49m\u001b[43m(\u001b[49m\u001b[38;5;124;43m\"\u001b[39;49m\u001b[38;5;124;43mEnter two no.:\u001b[39;49m\u001b[38;5;124;43m\"\u001b[39;49m\u001b[43m)\u001b[49m\u001b[43m)\u001b[49m\n\u001b[0;32m      2\u001b[0m \u001b[38;5;28mprint\u001b[39m(x)\n\u001b[0;32m      3\u001b[0m \u001b[38;5;28mprint\u001b[39m(\u001b[38;5;28mtype\u001b[39m(x))\n",
      "\u001b[1;31mValueError\u001b[0m: invalid literal for int() with base 10: '5 6'"
     ]
    }
   ],
   "source": [
    "x=int(input(\"Enter two no.:\"))\n",
    "print(x)\n",
    "print(type(x))"
   ]
  },
  {
   "cell_type": "code",
   "execution_count": 10,
   "id": "b853f2af",
   "metadata": {},
   "outputs": [
    {
     "name": "stdout",
     "output_type": "stream",
     "text": [
      "Enter two no.:54 65\n",
      "54 65\n",
      "<class 'str'> <class 'str'>\n"
     ]
    }
   ],
   "source": [
    "x,y=input(\"Enter two no.:\").split()\n",
    "print(int(x),int(y))\n",
    "print(type(x),type(y))"
   ]
  },
  {
   "cell_type": "code",
   "execution_count": 13,
   "id": "f0e6b107",
   "metadata": {},
   "outputs": [
    {
     "name": "stdout",
     "output_type": "stream",
     "text": [
      "Enter two no.:5 6\n",
      "5 6\n",
      "<class 'int'> <class 'int'>\n",
      "11\n"
     ]
    }
   ],
   "source": [
    "x,y=[int(i) for i in input(\"Enter two no.:\").split()]\n",
    "print(x,y)\n",
    "print(type(x),type(y))\n",
    "print(x+y)"
   ]
  },
  {
   "cell_type": "code",
   "execution_count": 14,
   "id": "48493dc2",
   "metadata": {},
   "outputs": [
    {
     "name": "stdout",
     "output_type": "stream",
     "text": [
      "Enter numbers with spaces:5 6 3 2 1 4 7 8 9 5\n",
      "[5, 6, 3, 2, 1, 4, 7, 8, 9, 5] 6\n",
      "<class 'list'>\n",
      "50\n"
     ]
    }
   ],
   "source": [
    "x=[int(i) for i in input(\"Enter numbers with spaces:\").split()]\n",
    "print(x,y)\n",
    "print(type(x))\n",
    "print(sum(x))"
   ]
  },
  {
   "cell_type": "code",
   "execution_count": 16,
   "id": "3e9e8804",
   "metadata": {},
   "outputs": [
    {
     "name": "stdout",
     "output_type": "stream",
     "text": [
      "Enter numbers with spaces:5 6 7 8 9 10 11 12\n",
      "[5, 6, 7, 8, 9, 10, 11, 12]\n",
      "<class 'list'>\n",
      "8.5\n"
     ]
    }
   ],
   "source": [
    "# Print average of a list by taking input\n",
    "x=[int(i) for i in input(\"Enter numbers with spaces:\").split()]\n",
    "print(x)\n",
    "print(type(x))\n",
    "print(sum(x)/len(x))"
   ]
  },
  {
   "cell_type": "code",
   "execution_count": 17,
   "id": "3eebf720",
   "metadata": {},
   "outputs": [
    {
     "name": "stdout",
     "output_type": "stream",
     "text": [
      "Enter text:nikhil aids third sem 2023\n",
      "nikhil aids third sem 2023\n",
      "['nikhil', 'aids', 'third', 'sem', '2023']\n"
     ]
    }
   ],
   "source": [
    "x=input(\"Enter text:\")\n",
    "print(x)\n",
    "print(x.split())"
   ]
  },
  {
   "cell_type": "markdown",
   "id": "18f58481",
   "metadata": {},
   "source": [
    "# OUTPUT"
   ]
  },
  {
   "cell_type": "code",
   "execution_count": 21,
   "id": "7d506855",
   "metadata": {},
   "outputs": [
    {
     "name": "stdout",
     "output_type": "stream",
     "text": [
      "enter name:Nikhil\n",
      "enter age:18\n",
      "enter weight:49.26\n",
      " This is name: Nikhil\n",
      " This is age: 18 \n",
      " This is weight: 49.26\n"
     ]
    }
   ],
   "source": [
    "# formating of string\n",
    "name=input(\"enter name:\")\n",
    "age=int(input(\"enter age:\"))\n",
    "weight=float(input(\"enter weight:\"))\n",
    "print(\" This is name: {}\\n This is age: {} \\n This is weight: {}\".format(name,age,weight)) \n",
    "# it put down the values in {} orderly \n",
    "# format is f() it called by . operator"
   ]
  },
  {
   "cell_type": "code",
   "execution_count": 35,
   "id": "8a1af09c",
   "metadata": {},
   "outputs": [
    {
     "name": "stdout",
     "output_type": "stream",
     "text": [
      " This is name: Nikhil\n",
      " This is age: 18 \n",
      " This is weight: 49.26\n",
      "##########\n",
      " This is name: Nikhil\n",
      " This is age: 18 \n",
      " This is weight: 49.260000\n"
     ]
    }
   ],
   "source": [
    "name=\"Nikhil\"\n",
    "age=18\n",
    "weight=49.26\n",
    "print(\" This is name: {}\\n This is age: {} \\n This is weight: {}\".format(name,age,weight)) \n",
    "print(\"##########\")\n",
    "print(\" This is name: %s\\n This is age: %d \\n This is weight: %f\"%(name,age,weight)) \n",
    "# %i --> int\n",
    "# %d --> decimal\n",
    "# %hx --> hexa decimal\n",
    "# %o --> octal\n",
    "# %s --> string\n",
    "# %f --> float"
   ]
  },
  {
   "cell_type": "code",
   "execution_count": 39,
   "id": "96a42c75",
   "metadata": {},
   "outputs": [
    {
     "name": "stdout",
     "output_type": "stream",
     "text": [
      "This is float value: 888888888.264\n",
      "This is float value: 888888888.264000\n",
      "This is float value: 888888888.264\n",
      "This is float value: 888888888.264000058\n",
      "This is float value: 888888888.264000058174133\n"
     ]
    }
   ],
   "source": [
    "x=888888888.264\n",
    "print(\"This is float value: {}\".format(x))\n",
    "print(\"This is float value: {:f}\".format(x))\n",
    "print(\"This is float value: {:8.3f}\".format(x))\n",
    "print(\"This is float value: {:12.9f}\".format(x))\n",
    "print(\"This is float value: {:2.15f}\".format(x))"
   ]
  },
  {
   "cell_type": "code",
   "execution_count": 40,
   "id": "f162c2d0",
   "metadata": {},
   "outputs": [
    {
     "name": "stdout",
     "output_type": "stream",
     "text": [
      "This is value: [54, 69, 42]\n"
     ]
    }
   ],
   "source": [
    "x=[54,69,42]\n",
    "print(\"This is value: {}\".format(x))"
   ]
  },
  {
   "cell_type": "code",
   "execution_count": 41,
   "id": "0fb51740",
   "metadata": {},
   "outputs": [
    {
     "name": "stdout",
     "output_type": "stream",
     "text": [
      "This is value: {1: 'Nikhil', 2: 'Pankaj', 3: 'Ankush'}\n"
     ]
    }
   ],
   "source": [
    "y={1:\"Nikhil\",2:\"Pankaj\",3:\"Ankush\"}\n",
    "print(\"This is value: {}\".format(y))"
   ]
  },
  {
   "cell_type": "code",
   "execution_count": 43,
   "id": "221a3de6",
   "metadata": {},
   "outputs": [
    {
     "name": "stdout",
     "output_type": "stream",
     "text": [
      " This is name: Nikhil\n",
      " This is age: 18 \n",
      " This is weight: 49.26\n"
     ]
    }
   ],
   "source": [
    "# F-string\n",
    "name=\"Nikhil\"\n",
    "age=18\n",
    "weight=49.26\n",
    "print(f\" This is name: {name}\\n This is age: {age} \\n This is weight: {weight}\") "
   ]
  },
  {
   "cell_type": "code",
   "execution_count": 44,
   "id": "8a1f6205",
   "metadata": {},
   "outputs": [
    {
     "name": "stdout",
     "output_type": "stream",
     "text": [
      " This is name: {name}\n",
      " This is age: {age} \n",
      " This is weight: {weight}\n"
     ]
    }
   ],
   "source": [
    "print(\" This is name: {name}\\n This is age: {age} \\n This is weight: {weight}\") # no values"
   ]
  },
  {
   "cell_type": "markdown",
   "id": "81633dce",
   "metadata": {},
   "source": [
    "\n",
    "# Function"
   ]
  },
  {
   "cell_type": "code",
   "execution_count": 45,
   "id": "7568e8ca",
   "metadata": {},
   "outputs": [],
   "source": [
    "# 1st F() Definition\n",
    "\n",
    "# def say_Hi(arguments):    # def is a keword to define f() -> name of f() like a identifier -> Argument is optional \n",
    "#     return value          # return is a keyword which is optional it gives a value\n",
    "\n",
    "# f() Calling\n",
    "\n",
    "def function1():\n",
    "    print(\"My 1st Function\")   # f() doesn't execute on definition time"
   ]
  },
  {
   "cell_type": "code",
   "execution_count": 46,
   "id": "9b9077b6",
   "metadata": {},
   "outputs": [
    {
     "name": "stdout",
     "output_type": "stream",
     "text": [
      "My 1st Function\n"
     ]
    }
   ],
   "source": [
    "function1()   # function calling"
   ]
  },
  {
   "cell_type": "code",
   "execution_count": 47,
   "id": "0cf3bb19",
   "metadata": {},
   "outputs": [
    {
     "name": "stdout",
     "output_type": "stream",
     "text": [
      "enter 1st no.:12\n",
      "enter 2nd no.:45\n",
      "sum is: 57\n"
     ]
    }
   ],
   "source": [
    "def add():\n",
    "    a=int(input(\"enter 1st no.:\"))\n",
    "    b=int(input(\"enter 2nd no.:\"))\n",
    "    print(\"sum is:\",a+b)\n",
    "    \n",
    "add()"
   ]
  },
  {
   "cell_type": "code",
   "execution_count": 50,
   "id": "31b0f32f",
   "metadata": {},
   "outputs": [
    {
     "ename": "TypeError",
     "evalue": "add() missing 2 required positional arguments: 'a' and 'b'",
     "output_type": "error",
     "traceback": [
      "\u001b[1;31m---------------------------------------------------------------------------\u001b[0m",
      "\u001b[1;31mTypeError\u001b[0m                                 Traceback (most recent call last)",
      "Cell \u001b[1;32mIn[50], line 4\u001b[0m\n\u001b[0;32m      1\u001b[0m \u001b[38;5;28;01mdef\u001b[39;00m \u001b[38;5;21madd\u001b[39m(a,b):\n\u001b[0;32m      2\u001b[0m     \u001b[38;5;28mprint\u001b[39m(\u001b[38;5;124m\"\u001b[39m\u001b[38;5;124msum is:\u001b[39m\u001b[38;5;124m\"\u001b[39m,a\u001b[38;5;241m+\u001b[39mb)\n\u001b[1;32m----> 4\u001b[0m \u001b[43madd\u001b[49m\u001b[43m(\u001b[49m\u001b[43m)\u001b[49m\n",
      "\u001b[1;31mTypeError\u001b[0m: add() missing 2 required positional arguments: 'a' and 'b'"
     ]
    }
   ],
   "source": [
    "def add(a,b):\n",
    "    print(\"sum is:\",a+b)\n",
    "    \n",
    "add()"
   ]
  },
  {
   "cell_type": "code",
   "execution_count": 51,
   "id": "b6b80425",
   "metadata": {},
   "outputs": [
    {
     "name": "stdout",
     "output_type": "stream",
     "text": [
      "sum is: 13\n"
     ]
    }
   ],
   "source": [
    "def add(a,b):\n",
    "    print(\"sum is:\",a+b)\n",
    "    \n",
    "add(4,9)"
   ]
  },
  {
   "cell_type": "code",
   "execution_count": 52,
   "id": "f3cd6651",
   "metadata": {},
   "outputs": [
    {
     "name": "stdout",
     "output_type": "stream",
     "text": [
      "enter 1st no.:5\n",
      "enter 2nd no.:6\n",
      "sum is: 11\n"
     ]
    }
   ],
   "source": [
    "def add(a,b):\n",
    "    print(\"sum is:\",a+b)\n",
    "    \n",
    "a=int(input(\"enter 1st no.:\"))\n",
    "b=int(input(\"enter 2nd no.:\"))\n",
    "add(a,b)"
   ]
  },
  {
   "cell_type": "code",
   "execution_count": 54,
   "id": "b0ee0fa2",
   "metadata": {},
   "outputs": [
    {
     "name": "stdout",
     "output_type": "stream",
     "text": [
      "outside f()\n",
      "sum is: 11\n",
      "enter 1st no.:2\n",
      "enter 2nd no.:4\n",
      "inside f()\n"
     ]
    }
   ],
   "source": [
    "def add(a,b):\n",
    "    print(\"sum is:\",a+b)  # print sum of previous values of a & b\n",
    "    \n",
    "    a=int(input(\"enter 1st no.:\"))\n",
    "    b=int(input(\"enter 2nd no.:\"))\n",
    "    print(\"inside f()\")\n",
    "print(\"outside f()\")\n",
    "add(a,b)"
   ]
  },
  {
   "cell_type": "code",
   "execution_count": 56,
   "id": "7bed0563",
   "metadata": {},
   "outputs": [
    {
     "name": "stdout",
     "output_type": "stream",
     "text": [
      "outside f()\n"
     ]
    },
    {
     "ename": "NameError",
     "evalue": "name 'm' is not defined",
     "output_type": "error",
     "traceback": [
      "\u001b[1;31m---------------------------------------------------------------------------\u001b[0m",
      "\u001b[1;31mNameError\u001b[0m                                 Traceback (most recent call last)",
      "Cell \u001b[1;32mIn[56], line 8\u001b[0m\n\u001b[0;32m      6\u001b[0m     \u001b[38;5;28mprint\u001b[39m(\u001b[38;5;124m\"\u001b[39m\u001b[38;5;124minside f()\u001b[39m\u001b[38;5;124m\"\u001b[39m)\n\u001b[0;32m      7\u001b[0m \u001b[38;5;28mprint\u001b[39m(\u001b[38;5;124m\"\u001b[39m\u001b[38;5;124moutside f()\u001b[39m\u001b[38;5;124m\"\u001b[39m)\n\u001b[1;32m----> 8\u001b[0m add(\u001b[43mm\u001b[49m,n)\n",
      "\u001b[1;31mNameError\u001b[0m: name 'm' is not defined"
     ]
    }
   ],
   "source": [
    "def add(a,b):\n",
    "    print(\"sum is:\",a+b)  \n",
    "    \n",
    "    a=int(input(\"enter 1st no.:\"))\n",
    "    b=int(input(\"enter 2nd no.:\"))\n",
    "    print(\"inside f()\")\n",
    "print(\"outside f()\")\n",
    "add(m,n)  # throws error"
   ]
  },
  {
   "cell_type": "code",
   "execution_count": 58,
   "id": "c1dbfbf0",
   "metadata": {},
   "outputs": [
    {
     "name": "stdout",
     "output_type": "stream",
     "text": [
      "outside f()\n",
      "sum is: 17\n",
      "enter 1st no.:4\n",
      "enter 2nd no.:7\n",
      "inside f()\n"
     ]
    }
   ],
   "source": [
    "def add(a,b):\n",
    "    print(\"sum is:\",a+b)  \n",
    "    \n",
    "    a=int(input(\"enter 1st no.:\"))\n",
    "    b=int(input(\"enter 2nd no.:\"))\n",
    "    print(\"inside f()\")\n",
    "print(\"outside f()\")\n",
    "m=9\n",
    "n=8\n",
    "add(m,n)"
   ]
  },
  {
   "cell_type": "code",
   "execution_count": 61,
   "id": "85a243c2",
   "metadata": {},
   "outputs": [
    {
     "name": "stdout",
     "output_type": "stream",
     "text": [
      "outside f()\n",
      "enter 1st no.:12\n",
      "enter 2nd no.:13\n",
      "inside f()\n",
      "x : 25\n",
      "inside f()\n",
      "add(a,b) : 25\n"
     ]
    }
   ],
   "source": [
    "def add(a,b):\n",
    "    print(\"inside f()\")\n",
    "    return a+b  \n",
    "    \n",
    "print(\"outside f()\")\n",
    "a=int(input(\"enter 1st no.:\"))\n",
    "b=int(input(\"enter 2nd no.:\"))\n",
    "x=add(a,b)\n",
    "print(\"x :\",x)\n",
    "print(\"add(a,b) :\",add(a,b))"
   ]
  },
  {
   "cell_type": "code",
   "execution_count": 62,
   "id": "83113e00",
   "metadata": {},
   "outputs": [
    {
     "name": "stdout",
     "output_type": "stream",
     "text": [
      "49\n"
     ]
    }
   ],
   "source": [
    "def square(n):\n",
    "    return n**2\n",
    "s=square(7)\n",
    "print(s)"
   ]
  },
  {
   "cell_type": "code",
   "execution_count": null,
   "id": "c1d77e8e",
   "metadata": {},
   "outputs": [],
   "source": []
  }
 ],
 "metadata": {
  "kernelspec": {
   "display_name": "Python 3 (ipykernel)",
   "language": "python",
   "name": "python3"
  },
  "language_info": {
   "codemirror_mode": {
    "name": "ipython",
    "version": 3
   },
   "file_extension": ".py",
   "mimetype": "text/x-python",
   "name": "python",
   "nbconvert_exporter": "python",
   "pygments_lexer": "ipython3",
   "version": "3.11.3"
  }
 },
 "nbformat": 4,
 "nbformat_minor": 5
}
