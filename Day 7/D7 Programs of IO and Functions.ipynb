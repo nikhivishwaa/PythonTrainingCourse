{
 "cells": [
  {
   "cell_type": "markdown",
   "id": "b8b2a1f5",
   "metadata": {},
   "source": [
    "# Programs of Input, Output and Functions"
   ]
  },
  {
   "cell_type": "code",
   "execution_count": 2,
   "id": "5c63e833",
   "metadata": {},
   "outputs": [
    {
     "name": "stdout",
     "output_type": "stream",
     "text": [
      "Enter two no. by giving space: 5 6\n",
      "Product of 5 and 6 : 30\n"
     ]
    }
   ],
   "source": [
    "# 1) write a program to take two input from the user calculate their product and display the output\n",
    "x,y=[int(i) for i in input(\"Enter two no. by giving space: \").split()]\n",
    "p=x*y\n",
    "print(f\"Product of {x} and {y} : {p}\")"
   ]
  },
  {
   "cell_type": "code",
   "execution_count": 4,
   "id": "5e6b9f41",
   "metadata": {},
   "outputs": [
    {
     "name": "stdout",
     "output_type": "stream",
     "text": [
      "enter your string: nikhil vishwakarma\n",
      "110 105 107 104 105 108 32 118 105 115 104 119 97 107 97 114 109 97 "
     ]
    }
   ],
   "source": [
    "# 2) write a program to take input from the user. The input will be a string containing characters and you have to\n",
    "# print the unicode corresponding to the character\n",
    "s=input(\"enter your string: \")\n",
    "for i in s:\n",
    "    print(f\"{ord(i)}\",end=\" \")"
   ]
  },
  {
   "cell_type": "code",
   "execution_count": 7,
   "id": "1ac624ee",
   "metadata": {},
   "outputs": [
    {
     "name": "stdout",
     "output_type": "stream",
     "text": [
      "Enter radius of Circle: 7\n",
      "Area of circle: 153.86\n"
     ]
    }
   ],
   "source": [
    "# 3) write a python f() to calculate area of circle\n",
    "def area_Circle(r):\n",
    "    return 3.14*(r**2)\n",
    "r=int(input(\"Enter radius of Circle: \"))\n",
    "print(f\"Area of circle: {area_Circle(r)}\")"
   ]
  },
  {
   "cell_type": "code",
   "execution_count": 9,
   "id": "d746d5e0",
   "metadata": {},
   "outputs": [
    {
     "name": "stdout",
     "output_type": "stream",
     "text": [
      "Enter Principal Amount: 1000\n",
      "Enter Rate of Interest: 12\n",
      "Enter Time Period: 2\n",
      "Area of circle: 254.4000000000001\n"
     ]
    }
   ],
   "source": [
    "# 4) write a python f() to calculate Compound Interest\n",
    "def ci(p,r,t):\n",
    "    s=p*((1+(r/100))**n)\n",
    "    return s-p\n",
    "p=float(input(\"Enter Principal Amount: \"))\n",
    "r=float(input(\"Enter Rate of Interest: \"))\n",
    "n=int(input(\"Enter Time Period: \"))\n",
    "print(f\"Area of circle: {ci(p,r,n)}\")"
   ]
  },
  {
   "cell_type": "code",
   "execution_count": 14,
   "id": "4e4efa8d",
   "metadata": {},
   "outputs": [
    {
     "name": "stdout",
     "output_type": "stream",
     "text": [
      "Enter a no.: 15\n",
      "Average of 15 no.: 8.0\n"
     ]
    }
   ],
   "source": [
    "# 5) write a python f() to calculate average of n no.\n",
    "def average_N(n):\n",
    "    k=0\n",
    "    for i in range(n+1):\n",
    "        k+=i\n",
    "    return k/n\n",
    "n=int(input(\"Enter a no.: \"))\n",
    "print(f\"Average of {n} no.: {average_N(n)}\")"
   ]
  },
  {
   "cell_type": "code",
   "execution_count": 5,
   "id": "b5650177",
   "metadata": {},
   "outputs": [
    {
     "name": "stdout",
     "output_type": "stream",
     "text": [
      "Enter side of Cuboid by giving space: 10 12 12\n",
      "volume of cube: 1440\n"
     ]
    }
   ],
   "source": [
    "# 6) write a python f()to calculate volume of cuboid\n",
    "def vol_Cube(a,b,c):\n",
    "    return a*b*c\n",
    "\n",
    "l,b,h=[int(i) for i in input(\"Enter side of Cuboid by giving space: \").split()]\n",
    "print(f\"volume of cube: {vol_Cube(l,b,h)}\")"
   ]
  },
  {
   "cell_type": "code",
   "execution_count": null,
   "id": "8318d67d",
   "metadata": {},
   "outputs": [],
   "source": []
  }
 ],
 "metadata": {
  "kernelspec": {
   "display_name": "Python 3 (ipykernel)",
   "language": "python",
   "name": "python3"
  },
  "language_info": {
   "codemirror_mode": {
    "name": "ipython",
    "version": 3
   },
   "file_extension": ".py",
   "mimetype": "text/x-python",
   "name": "python",
   "nbconvert_exporter": "python",
   "pygments_lexer": "ipython3",
   "version": "3.11.3"
  }
 },
 "nbformat": 4,
 "nbformat_minor": 5
}
